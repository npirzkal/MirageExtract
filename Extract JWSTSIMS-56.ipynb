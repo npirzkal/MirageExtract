{
 "cells": [
  {
   "cell_type": "markdown",
   "metadata": {},
   "source": [
    "<h1> WFSS MIRAGE enabled extraction"
   ]
  },
  {
   "cell_type": "markdown",
   "metadata": {},
   "source": [
    "V. 1.0 Nor Pirzkal 2/4/2020"
   ]
  },
  {
   "cell_type": "code",
   "execution_count": 2,
   "metadata": {},
   "outputs": [],
   "source": [
    "import matplotlib.pyplot as plt"
   ]
  },
  {
   "cell_type": "code",
   "execution_count": 3,
   "metadata": {},
   "outputs": [],
   "source": [
    "from jwst import datamodels\n",
    "from scipy.stats import binned_statistic_2d\n",
    "import os\n",
    "from astropy.visualization import simple_norm\n",
    "import h5py\n",
    "import numpy as np\n"
   ]
  },
  {
   "cell_type": "markdown",
   "metadata": {},
   "source": [
    "<h2> The following perform a single rate file extraction. It included background subtraction"
   ]
  },
  {
   "cell_type": "code",
   "execution_count": 251,
   "metadata": {},
   "outputs": [],
   "source": [
    "def extract(ID,ra0,dec0,dataname):\n",
    "    import os\n",
    "    import h5py\n",
    "    import numpy as np\n",
    "    from astropy.io import fits\n",
    "    \n",
    "    path = os.path.split(dataname)[0]\n",
    "\n",
    "    with fits.open(dataname) as fin:\n",
    "        h = fin[0].header\n",
    "        \n",
    "    # Find some information\n",
    "    filt = h[\"FILTER\"]\n",
    "    grism = h[\"PUPIL\"][-1] # R or C\n",
    "    module = h[\"MODULE\"]\n",
    "    print(\"Filter:\",filt)\n",
    "    print(\"grism:\",grism)\n",
    "    print(\"Module:\",module)\n",
    "    dataset = '_'.join(os.path.split(dataname)[-1].split(\"_\")[0:4])\n",
    "\n",
    "    # Name of the SBE saves file\n",
    "    h5name = os.path.join(path,\"SBE_save/{}_stamps.hdf5\".format(dataset))\n",
    "\n",
    "    #grismseedname = os.path.join(path,\"{}_uncal_dispersed_GRISM{}_crossing_{}_seed.fits\".format(dataset,grism,filt))\n",
    "\n",
    "    bck = fits.open(\"/Users/npirzkal/Dropbox/GRISMDATA/NIRCAM/{}_mod{}_{}_back.fits\".format(filt,module,grism))[0].data\n",
    "\n",
    "\n",
    "    \n",
    "    grism_with_wcs = datamodels.open(dataname)\n",
    "\n",
    "    world_to_pix = grism_with_wcs.meta.wcs.get_transform('world','detector')\n",
    "    pix_to_world = grism_with_wcs.meta.wcs.get_transform('detector','world')\n",
    "\n",
    "    x0, y0, t, tt = world_to_pix(ra0,dec0,0,0)\n",
    "    \n",
    "    print(dataname,\"Target is at \",x0,y0)\n",
    "\n",
    "    # We will need the gain file since data are not in e-/s\n",
    "    if module=='A':\n",
    "        gainfile = os.path.expandvars(\"$MIRAGE_DATA/nircam/reference_files/gain/NRCA5_17158_Gain_ISIMCV3_2016-01-23_ssbgain_DMSorient.fits\")\n",
    "\n",
    "    if module=='B':\n",
    "        gainfile = os.path.expandvars(\"$MIRAGE_DATA/nircam/reference_files/gain/NRCB5_17161_Gain_ISIMCV3_2016-02-25_ssbgain_DMSorient.fits\")\n",
    "\n",
    "    gain = fits.open(gainfile)[1].data\n",
    "\n",
    "    \n",
    "    # We look for where we think this spectrum is in our Mirage simulation of this field\n",
    "    models = np.zeros(np.shape(bck),np.float)\n",
    "    stp = h5py.File(h5name,\"r\")\n",
    "    minx0 = None\n",
    "    for k in list(stp.keys()):\n",
    "        minx = stp[k].attrs[\"minx\"]\n",
    "        maxx = stp[k].attrs[\"maxx\"]\n",
    "        miny = stp[k].attrs[\"miny\"]\n",
    "        maxy = stp[k].attrs[\"maxy\"]\n",
    "        m = stp[k][:] \n",
    "        models[miny:maxy+1,minx:maxx+1] += m \n",
    "\n",
    "        if k==\"{}_+1\".format(ID):\n",
    "            model0 = m\n",
    "            minx0 = stp[k].attrs[\"minx\"]\n",
    "            maxx0 = stp[k].attrs[\"maxx\"]\n",
    "            miny0 = stp[k].attrs[\"miny\"]\n",
    "            maxy0 = stp[k].attrs[\"maxy\"]\n",
    "\n",
    "    stp.close()\n",
    "    if minx0==None:\n",
    "        return None\n",
    "\n",
    "\n",
    "\n",
    "\n",
    "    \n",
    "    # We load the observation, extimate and subtract the data, masking sources using the Mirage simulation\n",
    "    data = fits.open(dataname)[\"SCI\"].data * gain\n",
    "  \n",
    "\n",
    "    bck = fits.open(\"/Users/npirzkal/Dropbox/GRISMDATA/NIRCAM/{}_mod{}_{}_back.fits\".format(filt,module,grism))[0].data\n",
    "    ok = (models<0.001) & (bck>0.1*np.max(bck))\n",
    "    sky_level = np.nanmedian((data/bck)[ok])\n",
    "\n",
    "    print(\"Median data level:\",np.nanmedian(data/bck))\n",
    "    print(\"Estimated background level:\",sky_level)\n",
    "    \n",
    "    # The observation, background subtracted\n",
    "    data = data - sky_level*bck\n",
    "    data = data[miny0:maxy0+1,minx0:maxx0+1]\n",
    "\n",
    "    err = fits.open(dataname)[\"ERR\"].data*gain\n",
    "    err = err[miny0:maxy0+1,minx0:maxx0+1]\n",
    "\n",
    "    dq = fits.open(dataname)[\"DQ\"].data\n",
    "    dq = dq[miny0:maxy0+1,minx0:maxx0+1]\n",
    "\n",
    "    # Estimate of the contamination, from our Mirage simulation of the whole field\n",
    "    contam = models[miny0:maxy0+1,minx0:maxx0+1] - model0\n",
    "\n",
    "    # The observation, now contamination subtracted\n",
    "    data2 = data - contam\n",
    "\n",
    "    # Create a wavelength array\n",
    "    import grismconf\n",
    "    C = grismconf.Config(\"/Users/npirzkal/Dropbox/GRISMDATA/NIRCAM/NIRCAM_{}_modA_{}.conf\".format(filt,grism))\n",
    "    xs = np.arange(minx0,maxx0+1)\n",
    "\n",
    "    ys,xs = np.indices((maxy0-miny0+1,maxx0-minx0+1))\n",
    "    xs = xs + minx0 - x0\n",
    "    ys = ys + miny0 - y0\n",
    "\n",
    "    if grism==\"R\":\n",
    "        ts = C.INVDISPX(\"+1\",x0,y0,xs)\n",
    "        dys = ys\n",
    "    if grism==\"C\":\n",
    "        ts = C.INVDISPY(\"+1\",x0,y0,ys)\n",
    "        dys = xs\n",
    "    \n",
    "    ws = C.DISPL(\"+1\",x0,y0,ts)\n",
    "    print(C.DISPL(\"+1\",x0,y0,0))\n",
    "    print(C.DISPL(\"+1\",x0,y0,1))\n",
    "\n",
    "\n",
    "    if grism==\"C\":\n",
    "        m = np.transpose(model0)\n",
    "        l = np.transpose(ws)\n",
    "        d = np.transpose(data)\n",
    "        d2 = np.transpose(data2)\n",
    "        c = np.transpose(contam)\n",
    "        e = np.transpose(err)\n",
    "        q = np.transpose(dq)\n",
    "        y = np.transpose(dys)\n",
    "\n",
    "    if grism==\"R\":\n",
    "        m = model0\n",
    "        l = ws\n",
    "        d = data\n",
    "        d2 = data2\n",
    "        c = contam\n",
    "        e = err\n",
    "        q = dq\n",
    "        y = dys\n",
    "\n",
    "    ysum = np.sum(m,axis=0)\n",
    "    w = np.repeat([ysum], np.shape(m)[0], axis=0)\n",
    "\n",
    "    weight = m/w\n",
    "    \n",
    "    ok = np.isfinite(d)\n",
    "    \n",
    "    return  d[ok], e[ok], q[ok], l[ok], c[ok], m[ok], w[ok], y[ok], C\n",
    "\n"
   ]
  },
  {
   "cell_type": "markdown",
   "metadata": {},
   "source": [
    "<h2> Extracting a single spectrum from a single rate file"
   ]
  },
  {
   "cell_type": "code",
   "execution_count": 252,
   "metadata": {},
   "outputs": [],
   "source": [
    "ratename = \"/Users/npirzkal/Dropbox/mirage/JWSTSIMS-56/data/jw00042002001_01101_00001_nrca5_rate.fits\""
   ]
  },
  {
   "cell_type": "markdown",
   "metadata": {},
   "source": [
    "<h3> Define the ID of the object we want to extract"
   ]
  },
  {
   "cell_type": "markdown",
   "metadata": {},
   "source": [
    "We load out catalog and find the RA and DEC of the source"
   ]
  },
  {
   "cell_type": "code",
   "execution_count": 253,
   "metadata": {},
   "outputs": [
    {
     "name": "stdout",
     "output_type": "stream",
     "text": [
      "RA and DEC are: 215.0259085911 52.9307536832\n"
     ]
    }
   ],
   "source": [
    "ID = 43416\n",
    "\n",
    "from astropy.table import Table\n",
    "cat = Table.read(\"/Users/npirzkal/Dropbox/mirage/JWSTSIMS-56/catalogs/JWSTSIMS-56.cat\",format=\"ascii\")\n",
    "ok = cat[\"index\"]==ID\n",
    "ra0 = cat[\"x_or_RA\"][ok][0]\n",
    "dec0 = cat[\"y_or_Dec\"][ok][0]\n",
    "print(\"RA and DEC are:\",ra0,dec0)\n"
   ]
  },
  {
   "cell_type": "markdown",
   "metadata": {},
   "source": [
    "<h3> Extract"
   ]
  },
  {
   "cell_type": "markdown",
   "metadata": {},
   "source": [
    "This returns a list of pixels with information about them"
   ]
  },
  {
   "cell_type": "code",
   "execution_count": 254,
   "metadata": {},
   "outputs": [
    {
     "name": "stdout",
     "output_type": "stream",
     "text": [
      "Filter: F356W\n",
      "grism: R\n",
      "Module: A\n",
      "/Users/npirzkal/Dropbox/mirage/JWSTSIMS-56/data/jw00042002001_01101_00001_nrca5_rate.fits Target is at  1056.4715452078938 1353.8013718337593\n"
     ]
    },
    {
     "name": "stderr",
     "output_type": "stream",
     "text": [
      "/Users/npirzkal/anaconda3/envs/mirage/lib/python3.6/site-packages/ipykernel_launcher.py:82: RuntimeWarning: invalid value encountered in true_divide\n",
      "/Users/npirzkal/anaconda3/envs/mirage/lib/python3.6/site-packages/ipykernel_launcher.py:84: RuntimeWarning: invalid value encountered in true_divide\n"
     ]
    },
    {
     "name": "stdout",
     "output_type": "stream",
     "text": [
      "Median data level: 1.0165241642434855\n",
      "Estimated background level: 1.002096996309166\n",
      "3.05\n",
      "4.109999999999999\n"
     ]
    }
   ],
   "source": [
    "d, e, q, l, c, m, w, y, C = extract(ID,ra0,dec0,ratename)"
   ]
  },
  {
   "cell_type": "markdown",
   "metadata": {},
   "source": [
    "If we want to look at rectified 2D stamps, we need to bin all these data"
   ]
  },
  {
   "cell_type": "code",
   "execution_count": 255,
   "metadata": {},
   "outputs": [],
   "source": [
    "# We go +/- 5 pixels around the trace\n",
    "dy = 18\n",
    "s = np.arange(-dy-0.5,dy+0.5+1,1) # bin edges\n",
    "\n",
    "# We bins from 3.05 to 4.11 micron with steps of 10A per bin\n",
    "bins = np.arange(3.05,4.11, 0.001)"
   ]
  },
  {
   "cell_type": "code",
   "execution_count": 256,
   "metadata": {},
   "outputs": [],
   "source": [
    "# the observation, background subtracted\n",
    "dd = binned_statistic_2d(np.ravel(y),np.ravel(l),np.ravel(d),bins=[s,bins],statistic=\"mean\")[0]\n",
    "# errors \n",
    "ee = binned_statistic_2d(np.ravel(y),np.ravel(l),np.ravel(e),bins=[s,bins],statistic=\"mean\")[0]\n",
    "# DQ info\n",
    "qq = binned_statistic_2d(np.ravel(y),np.ravel(l),np.ravel(q),bins=[s,bins],statistic=\"mean\")[0]\n",
    "# Wavelength of each pixel\n",
    "ll = binned_statistic_2d(np.ravel(y),np.ravel(l),np.ravel(l),bins=[s,bins],statistic=\"mean\")[0]\n",
    "# Contamination estimate\n",
    "cc = binned_statistic_2d(np.ravel(y),np.ravel(l),np.ravel(c),bins=[s,bins],statistic=\"mean\")[0]\n",
    "# Model of our source from Mirage simulation\n",
    "mm = binned_statistic_2d(np.ravel(y),np.ravel(l),np.ravel(m),bins=[s,bins],statistic=\"mean\")[0]\n",
    "# Extraction weights to use for optimal extraction\n",
    "ww = binned_statistic_2d(np.ravel(y),np.ravel(l),np.ravel(w),bins=[s,bins],statistic=\"mean\")[0]\n",
    "# Distance from trace center\n",
    "yy = binned_statistic_2d(np.ravel(y),np.ravel(l),np.ravel(y),bins=[s,bins],statistic=\"mean\")[0]\n"
   ]
  },
  {
   "cell_type": "code",
   "execution_count": 257,
   "metadata": {},
   "outputs": [
    {
     "data": {
      "image/png": "[encoded data removed]",
      "text/plain": [
       "<Figure size 720x360 with 3 Axes>"
      ]
     },
     "metadata": {
      "needs_background": "light"
     },
     "output_type": "display_data"
    }
   ],
   "source": [
    "plt.rcParams[\"figure.figsize\"] = (10,5)\n",
    "plt.subplot(3,1,1)\n",
    "im = plt.imshow(dd,norm=simple_norm(d,percent=96.),origin=\"corner\",aspect=2.5)\n",
    "plt.title(\"Observation\")\n",
    "plt.subplot(3,1,2)\n",
    "plt.title(\"Contamination Estimate\")\n",
    "im = plt.imshow(cc,norm=simple_norm(d,percent=96.),origin=\"corner\",aspect=2.5)\n",
    "plt.subplot(3,1,3)\n",
    "plt.title(\"Model Estimate\")\n",
    "im = plt.imshow(mm,norm=simple_norm(d,percent=96.),origin=\"corner\",aspect=2.5)"
   ]
  },
  {
   "cell_type": "markdown",
   "metadata": {},
   "source": [
    "<h3> Generate 1D spectrum"
   ]
  },
  {
   "cell_type": "code",
   "execution_count": 258,
   "metadata": {},
   "outputs": [
    {
     "name": "stderr",
     "output_type": "stream",
     "text": [
      "/Users/npirzkal/anaconda3/envs/mirage/lib/python3.6/site-packages/ipykernel_launcher.py:6: RuntimeWarning: invalid value encountered in true_divide\n",
      "  \n"
     ]
    },
    {
     "data": {
      "image/png": "[encoded data removed]",
      "text/plain": [
       "<Figure size 720x360 with 1 Axes>"
      ]
     },
     "metadata": {
      "needs_background": "light"
     },
     "output_type": "display_data"
    }
   ],
   "source": [
    "wav = ll[0]\n",
    "\n",
    "# Hornes optimal extraction of model\n",
    "t1 = np.nansum(mm*ww,axis=0)\n",
    "t2 = np.nansum(ww**2,axis=0)\n",
    "ext = t1/t2\n",
    "\n",
    "plt.plot(wav,t1,lw=5,label=\"model\")\n",
    "plt.legend()\n",
    "plt.grid()"
   ]
  },
  {
   "cell_type": "code",
   "execution_count": 259,
   "metadata": {},
   "outputs": [
    {
     "name": "stderr",
     "output_type": "stream",
     "text": [
      "/Users/npirzkal/anaconda3/envs/mirage/lib/python3.6/site-packages/ipykernel_launcher.py:6: RuntimeWarning: invalid value encountered in true_divide\n",
      "  \n"
     ]
    },
    {
     "data": {
      "image/png": "[encoded data removed]",
      "text/plain": [
       "<Figure size 720x360 with 1 Axes>"
      ]
     },
     "metadata": {
      "needs_background": "light"
     },
     "output_type": "display_data"
    }
   ],
   "source": [
    "wav = ll[0]\n",
    "\n",
    "# Hornes optimal extraction of  data-contam\n",
    "t1 = np.nansum((dd-cc)*ww,axis=0)\n",
    "t2 = np.nansum(ww**2,axis=0)\n",
    "ext = t1/t2\n",
    "\n",
    "plt.plot(wav,t1,lw=5,label=\"model\")\n",
    "plt.legend()\n",
    "plt.ylim(0,5)\n",
    "plt.grid()\n"
   ]
  },
  {
   "cell_type": "code",
   "execution_count": 260,
   "metadata": {},
   "outputs": [
    {
     "name": "stderr",
     "output_type": "stream",
     "text": [
      "/Users/npirzkal/anaconda3/envs/mirage/lib/python3.6/site-packages/ipykernel_launcher.py:6: RuntimeWarning: invalid value encountered in true_divide\n",
      "  \n",
      "/Users/npirzkal/anaconda3/envs/mirage/lib/python3.6/site-packages/ipykernel_launcher.py:16: RuntimeWarning: invalid value encountered in true_divide\n",
      "  app.launch_new_instance()\n"
     ]
    },
    {
     "data": {
      "image/png": "[encoded data removed]",
      "text/plain": [
       "<Figure size 720x360 with 1 Axes>"
      ]
     },
     "metadata": {
      "needs_background": "light"
     },
     "output_type": "display_data"
    }
   ],
   "source": [
    "wav = ll[0]\n",
    "\n",
    "# Hornes optimal extraction of  data-contam\n",
    "t1 = np.nansum((dd-cc)*ww,axis=0)\n",
    "t2 = np.nansum(ww**2,axis=0)\n",
    "ext = t1/t2\n",
    "\n",
    "plt.plot(wav,t1,lw=5,label=\"model\")\n",
    "plt.legend()\n",
    "plt.ylim(0,5)\n",
    "plt.grid()\n",
    "\n",
    "# Hornes optimal extraction of model\n",
    "t1 = np.nansum(mm*ww,axis=0)\n",
    "t2 = np.nansum(ww**2,axis=0)\n",
    "ext = t1/t2\n",
    "\n",
    "plt.plot(wav,t1,lw=5,label=\"model\")\n",
    "plt.legend()\n",
    "plt.grid()\n"
   ]
  },
  {
   "cell_type": "markdown",
   "metadata": {},
   "source": [
    "<H3>Extracting and combining multiple observations"
   ]
  },
  {
   "cell_type": "markdown",
   "metadata": {},
   "source": [
    "Define the name of the rate files to extract"
   ]
  },
  {
   "cell_type": "code",
   "execution_count": 261,
   "metadata": {},
   "outputs": [],
   "source": [
    "ratenames = [\"jw00042002001_01101_00001_nrca5_rate.fits\",\"jw00042002001_01101_00002_nrca5_rate.fits\",\"jw00042002001_01101_00003_nrca5_rate.fits\"]\n",
    "ratenames = [os.path.join(\"/Users/npirzkal/Dropbox/mirage/JWSTSIMS-56/data\",x) for x in ratenames]"
   ]
  },
  {
   "cell_type": "code",
   "execution_count": null,
   "metadata": {},
   "outputs": [],
   "source": []
  },
  {
   "cell_type": "code",
   "execution_count": 313,
   "metadata": {},
   "outputs": [],
   "source": [
    "\n",
    "def extract_multiple(ID,ra0,dec0,ratenames):\n",
    "    dd = []\n",
    "    ee = []\n",
    "    qq = []\n",
    "    ll = []\n",
    "    cc = []\n",
    "    mm = []\n",
    "    ww = []\n",
    "    yy = []\n",
    "    rs = []\n",
    "\n",
    "\n",
    "    dy = 50\n",
    "    s = np.arange(-dy-0.5,dy+0.5+1,1) # bin edges\n",
    "\n",
    "\n",
    "    bins = np.arange(3.05,4.12, 0.001)\n",
    "\n",
    "\n",
    "    for i,ratename in enumerate(ratenames):\n",
    "        print(\"Doing \",ratename,i+1,\"of\",len(ratenames))\n",
    "        res = extract(ID,ra0,dec0,ratename)    \n",
    "        if res==None:\n",
    "            return None,None,None,None,None,None\n",
    "        d, e, q, l, c, m, w, y, C = res\n",
    "\n",
    "        # We ignore any pixels that had bad DQ to start with\n",
    "        ok = (np.isfinite(d)) & (np.isfinite(l)) & (q==0)\n",
    "\n",
    "        d = d[ok]\n",
    "        e = e[ok]\n",
    "        q = q[ok]\n",
    "        l = l[ok]\n",
    "        c = c[ok]\n",
    "        m = m[ok]\n",
    "        w = w[ok]\n",
    "        y = y[ok]\n",
    "\n",
    "        tmp = binned_statistic_2d(np.ravel(y),np.ravel(l),np.ravel(d),bins=[s,bins],statistic=\"mean\")\n",
    "        dd.append(tmp[0])\n",
    "\n",
    "        tmp = binned_statistic_2d(np.ravel(y),np.ravel(l),np.ravel(d),bins=[s,bins],statistic=\"std\")\n",
    "        ee.append(tmp[0])\n",
    "\n",
    "        tmp = binned_statistic_2d(np.ravel(y),np.ravel(l),np.ravel(q),bins=[s,bins],statistic=\"mean\")\n",
    "        qq.append(tmp[0])\n",
    "\n",
    "\n",
    "        tmp = binned_statistic_2d(np.ravel(y),np.ravel(l),np.ravel(l),bins=[s,bins],statistic=\"mean\")\n",
    "        ll.append(tmp[0])\n",
    "\n",
    "\n",
    "        tmp = binned_statistic_2d(np.ravel(y),np.ravel(l),np.ravel(c),bins=[s,bins],statistic=\"mean\")\n",
    "        cc.append(tmp[0])\n",
    "\n",
    "\n",
    "        tmp = binned_statistic_2d(np.ravel(y),np.ravel(l),np.ravel(m),bins=[s,bins],statistic=\"mean\")\n",
    "        mm.append(tmp[0])\n",
    "\n",
    "\n",
    "        tmp = binned_statistic_2d(np.ravel(y),np.ravel(l),np.ravel(w),bins=[s,bins],statistic=\"mean\")\n",
    "        ww.append(tmp[0])\n",
    "\n",
    "\n",
    "        tmp = binned_statistic_2d(np.ravel(y),np.ravel(l),np.ravel(y),bins=[s,bins],statistic=\"mean\")\n",
    "        yy.append(tmp[0])\n",
    "\n",
    "    dd = np.array(dd)\n",
    "    cc = np.array(cc)\n",
    "    mm = np.array(mm)\n",
    "    ll = np.array(ll)\n",
    "    yy = np.array(yy)\n",
    "\n",
    "    \n",
    "    fd = np.nanmedian(dd,axis=0)\n",
    "\n",
    "    fc = np.nanmean(cc,axis=0)\n",
    "    fm = np.nanmean(mm,axis=0)\n",
    "    fl = np.nanmean(ll,axis=0)\n",
    "    lam = np.nanmedian(fl,axis=0)\n",
    "    fy = np.nanmean(yy,axis=0)\n",
    "\n",
    "    \n",
    "    ysum = np.nansum(fm,axis=0)\n",
    "    w = np.repeat([ysum], np.shape(fm)[0], axis=0)\n",
    "    fw = fm/w\n",
    "\n",
    "    return fd,fc,fm,fw,fl,C\n",
    "\n",
    "\n"
   ]
  },
  {
   "cell_type": "code",
   "execution_count": null,
   "metadata": {},
   "outputs": [],
   "source": []
  },
  {
   "cell_type": "markdown",
   "metadata": {
    "scrolled": false
   },
   "source": [
    "<h3> Extract multiple rate files"
   ]
  },
  {
   "cell_type": "code",
   "execution_count": 316,
   "metadata": {},
   "outputs": [
    {
     "name": "stdout",
     "output_type": "stream",
     "text": [
      "Doing  /Users/npirzkal/Dropbox/mirage/JWSTSIMS-56/data/jw00042002001_01101_00001_nrca5_rate.fits 1 of 3\n",
      "Filter: F356W\n",
      "grism: R\n",
      "Module: A\n",
      "/Users/npirzkal/Dropbox/mirage/JWSTSIMS-56/data/jw00042002001_01101_00001_nrca5_rate.fits Target is at  1056.4715452078938 1353.8013718337593\n"
     ]
    },
    {
     "name": "stderr",
     "output_type": "stream",
     "text": [
      "/Users/npirzkal/anaconda3/envs/mirage/lib/python3.6/site-packages/ipykernel_launcher.py:82: RuntimeWarning: invalid value encountered in true_divide\n",
      "/Users/npirzkal/anaconda3/envs/mirage/lib/python3.6/site-packages/ipykernel_launcher.py:84: RuntimeWarning: invalid value encountered in true_divide\n"
     ]
    },
    {
     "name": "stdout",
     "output_type": "stream",
     "text": [
      "Median data level: 1.0165241642434855\n",
      "Estimated background level: 1.002096996309166\n",
      "3.05\n",
      "4.109999999999999\n",
      "Doing  /Users/npirzkal/Dropbox/mirage/JWSTSIMS-56/data/jw00042002001_01101_00002_nrca5_rate.fits 2 of 3\n",
      "Filter: F356W\n",
      "grism: R\n",
      "Module: A\n",
      "/Users/npirzkal/Dropbox/mirage/JWSTSIMS-56/data/jw00042002001_01101_00002_nrca5_rate.fits Target is at  1176.1812032210682 1234.638357744204\n",
      "Median data level: 1.0076669353484422\n",
      "Estimated background level: 0.9940412707358777\n",
      "3.05\n",
      "4.109999999999999\n",
      "Doing  /Users/npirzkal/Dropbox/mirage/JWSTSIMS-56/data/jw00042002001_01101_00003_nrca5_rate.fits 3 of 3\n",
      "Filter: F356W\n",
      "grism: R\n",
      "Module: A\n",
      "/Users/npirzkal/Dropbox/mirage/JWSTSIMS-56/data/jw00042002001_01101_00003_nrca5_rate.fits Target is at  1295.5418315653237 1115.606375857987\n",
      "Median data level: 1.0078249864821816\n",
      "Estimated background level: 0.994329784691824\n",
      "3.05\n",
      "4.109999999999999\n"
     ]
    },
    {
     "name": "stderr",
     "output_type": "stream",
     "text": [
      "/Users/npirzkal/anaconda3/envs/mirage/lib/python3.6/site-packages/numpy/lib/nanfunctions.py:1115: RuntimeWarning: All-NaN slice encountered\n",
      "  overwrite_input=overwrite_input)\n",
      "/Users/npirzkal/anaconda3/envs/mirage/lib/python3.6/site-packages/ipykernel_launcher.py:77: RuntimeWarning: Mean of empty slice\n",
      "/Users/npirzkal/anaconda3/envs/mirage/lib/python3.6/site-packages/ipykernel_launcher.py:78: RuntimeWarning: Mean of empty slice\n",
      "/Users/npirzkal/anaconda3/envs/mirage/lib/python3.6/site-packages/ipykernel_launcher.py:79: RuntimeWarning: Mean of empty slice\n",
      "/Users/npirzkal/anaconda3/envs/mirage/lib/python3.6/site-packages/ipykernel_launcher.py:81: RuntimeWarning: Mean of empty slice\n"
     ]
    }
   ],
   "source": [
    "fd,fc,fm,fw,fl,C = extract_multiple(ID,ra0,dec0,ratenames)"
   ]
  },
  {
   "cell_type": "code",
   "execution_count": 317,
   "metadata": {},
   "outputs": [
    {
     "data": {
      "text/plain": [
       "<matplotlib.legend.Legend at 0x7f873c181080>"
      ]
     },
     "execution_count": 317,
     "metadata": {},
     "output_type": "execute_result"
    },
    {
     "data": {
      "image/png": "[encoded data removed]",
      "text/plain": [
       "<Figure size 720x360 with 1 Axes>"
      ]
     },
     "metadata": {
      "needs_background": "light"
     },
     "output_type": "display_data"
    }
   ],
   "source": [
    "lam = np.nanmean(fl,axis=0)\n",
    "\n",
    "# Hornes optimal extraction of model\n",
    "t1 = np.nansum(fm*fw,axis=0)\n",
    "t2 = np.nansum(fw**2,axis=0)\n",
    "ext0 = t1/t2\n",
    "plt.plot(lam,ext0,label=\"model\")\n",
    "\n",
    "plt.grid()\n",
    "plt.legend()\n",
    "\n"
   ]
  },
  {
   "cell_type": "code",
   "execution_count": 318,
   "metadata": {},
   "outputs": [
    {
     "data": {
      "text/plain": [
       "<matplotlib.legend.Legend at 0x7f86e8012828>"
      ]
     },
     "execution_count": 318,
     "metadata": {},
     "output_type": "execute_result"
    },
    {
     "data": {
      "image/png": "[encoded data removed]",
      "text/plain": [
       "<Figure size 720x360 with 1 Axes>"
      ]
     },
     "metadata": {
      "needs_background": "light"
     },
     "output_type": "display_data"
    }
   ],
   "source": [
    "lam = np.nanmean(fl,axis=0)\n",
    "\n",
    "# Hornes optimal extraction of model\n",
    "t1 = np.nansum((fd-fc)*fw,axis=0)\n",
    "t2 = np.nansum(fw**2,axis=0)\n",
    "ext0 = t1/t2\n",
    "plt.plot(lam,ext0,label=\"Observation\")\n",
    "plt.grid()\n",
    "plt.legend()\n"
   ]
  },
  {
   "cell_type": "code",
   "execution_count": 319,
   "metadata": {},
   "outputs": [
    {
     "data": {
      "text/plain": [
       "<matplotlib.legend.Legend at 0x7f87195ca278>"
      ]
     },
     "execution_count": 319,
     "metadata": {},
     "output_type": "execute_result"
    },
    {
     "data": {
      "image/png": "[encoded data removed]",
      "text/plain": [
       "<Figure size 720x360 with 1 Axes>"
      ]
     },
     "metadata": {
      "needs_background": "light"
     },
     "output_type": "display_data"
    }
   ],
   "source": [
    "lam = np.nanmean(fl,axis=0)\n",
    "\n",
    "\n",
    "# Hornes optimal extraction of model\n",
    "t1 = np.nansum((fd-fc)*fw,axis=0)\n",
    "t2 = np.nansum(fw**2,axis=0)\n",
    "opt_extracted = t1/t2\n",
    "plt.plot(lam,opt_extracted,label=\"observation\")\n",
    "\n",
    "t1 = np.nansum(fm*fw,axis=0)\n",
    "t2 = np.nansum(fw**2,axis=0)\n",
    "ext0 = t1/t2\n",
    "plt.plot(lam,ext0,label=\"model\")\n",
    "plt.grid()\n",
    "plt.legend()\n",
    "\n"
   ]
  },
  {
   "cell_type": "markdown",
   "metadata": {},
   "source": [
    "<h3> Flux calibrate and compare to input spectrum"
   ]
  },
  {
   "cell_type": "markdown",
   "metadata": {},
   "source": [
    "Load original Mirage input 1D spectrum for this source "
   ]
  },
  {
   "cell_type": "code",
   "execution_count": 320,
   "metadata": {},
   "outputs": [],
   "source": [
    "ref = h5py.File(\"/Users/npirzkal/Dropbox/mirage/CEERS_JADES3_galaxies.hdf5\",\"r\")\n",
    "w0,f0 = ref[\"{}\".format(ID)]\n",
    "ref.close()"
   ]
  },
  {
   "cell_type": "markdown",
   "metadata": {},
   "source": [
    "Apply sensitivity to extracted spectrum"
   ]
  },
  {
   "cell_type": "code",
   "execution_count": 321,
   "metadata": {},
   "outputs": [
    {
     "name": "stderr",
     "output_type": "stream",
     "text": [
      "/Users/npirzkal/anaconda3/envs/mirage/lib/python3.6/site-packages/ipykernel_launcher.py:2: RuntimeWarning: divide by zero encountered in true_divide\n",
      "  \n"
     ]
    },
    {
     "data": {
      "image/png": "[encoded data removed]",
      "text/plain": [
       "<Figure size 720x360 with 1 Axes>"
      ]
     },
     "metadata": {
      "needs_background": "light"
     },
     "output_type": "display_data"
    }
   ],
   "source": [
    "s = C.SENS[\"+1\"](lam)\n",
    "flux = opt_extracted/s /10\n",
    "\n",
    "ok = (lam>3.2) & (lam<3.9)\n",
    "plt.plot(lam[ok],flux[ok])\n",
    "\n",
    "\n",
    "ok = (w0>3.15) & (w0<3.8)\n",
    "plt.plot(w0[ok],f0[ok],lw=3)\n",
    "plt.grid()\n",
    "#plt.ylim(-0.1e-17,.32e-17)"
   ]
  },
  {
   "cell_type": "markdown",
   "metadata": {},
   "source": [
    "<h3>Putting it all together"
   ]
  },
  {
   "cell_type": "markdown",
   "metadata": {},
   "source": [
    "This simply runs the extraction and output results (plot and table) in the directory opath"
   ]
  },
  {
   "cell_type": "code",
   "execution_count": 396,
   "metadata": {},
   "outputs": [],
   "source": [
    "def extract_ID(ID,catalog,ratenames,opath=\"/tmp/\"):\n",
    "    from astropy.table import Table\n",
    "    \n",
    "    if os.path.isfile(os.path.join(opath,\"{}.done\".format(ID))):\n",
    "        #print(ID,\"aready extracted\")\n",
    "        return\n",
    "        \n",
    "    cat = Table.read(catalog,format=\"ascii\")\n",
    "    ok = cat[\"index\"]==ID\n",
    "    ra0 = cat[\"x_or_RA\"][ok][0]\n",
    "    dec0 = cat[\"y_or_Dec\"][ok][0]\n",
    "    print(\"RA and DEC are:\",ra0,dec0)\n",
    "\n",
    "\n",
    "\n",
    "    fd,fc,fm,fw,fl,C = extract_multiple(ID,ra0,dec0,ratenames)\n",
    "    if fd is None:\n",
    "        return\n",
    "    \n",
    "    lam = np.nanmean(fl,axis=0)\n",
    "\n",
    "\n",
    "    # Hornes optimal extraction of data\n",
    "    t1 = np.nansum((fd-fc)*fw,axis=0)\n",
    "    t2 = np.nansum(fw**2,axis=0)\n",
    "    opt_extracted = t1/t2\n",
    "    \n",
    "    s = C.SENS[\"+1\"](lam)\n",
    "    flux_opt_extracted = opt_extracted/s /10 # 10A per pixel\n",
    "\n",
    "    # Hornes optimal extraction of model\n",
    "    t1 = np.nansum(fm*fw,axis=0)\n",
    "    t2 = np.nansum(fw**2,axis=0)\n",
    "    ext0 = t1/t2\n",
    "    ext0_opt_extracted = ext0/s /10 # 10A per pixel\n",
    "\n",
    "\n",
    "    plt.clf()\n",
    "    plt.figure(figsize=(15,5))\n",
    "    plt.subplot(2,1,1)\n",
    "    plt.plot(lam,opt_extracted,label=\"observation\")\n",
    "    plt.plot(lam,ext0,label=\"model\")\n",
    "    plt.grid()\n",
    "    plt.legend()\n",
    "    plt.xlabel(\"Wavelength (A)\")\n",
    "    plt.ylabel(\"e-/s\")\n",
    "    plt.savefig(os.path.join(opath,\"{}.pdf\".format(ID)))\n",
    "\n",
    "    res = Table()\n",
    "    res[\"LAMBDA\"] = lam\n",
    "    res[\"Flux\"] = opt_extracted\n",
    "    res[\"Model\"] = ext0\n",
    "    res.write(os.path.join(opath,\"{}.table\".format(ID)),format=\"ascii\")\n",
    "    \n",
    "    open(os.path.join(opath,\"{}.done\".format(ID)),\"w\").writelines([])"
   ]
  },
  {
   "cell_type": "code",
   "execution_count": 397,
   "metadata": {},
   "outputs": [
    {
     "name": "stdout",
     "output_type": "stream",
     "text": [
      "RA and DEC are: 215.0496555911 52.9268016832\n",
      "Doing  /Users/npirzkal/Dropbox/mirage/JWSTSIMS-56/data/jw00042002001_01101_00001_nrca5_rate.fits 1 of 3\n",
      "Filter: F356W\n",
      "grism: R\n",
      "Module: A\n",
      "/Users/npirzkal/Dropbox/mirage/JWSTSIMS-56/data/jw00042002001_01101_00001_nrca5_rate.fits Target is at  234.062600977261 1123.1279012507716\n"
     ]
    },
    {
     "name": "stderr",
     "output_type": "stream",
     "text": [
      "/Users/npirzkal/anaconda3/envs/mirage/lib/python3.6/site-packages/ipykernel_launcher.py:82: RuntimeWarning: invalid value encountered in true_divide\n",
      "/Users/npirzkal/anaconda3/envs/mirage/lib/python3.6/site-packages/ipykernel_launcher.py:84: RuntimeWarning: invalid value encountered in true_divide\n"
     ]
    },
    {
     "name": "stdout",
     "output_type": "stream",
     "text": [
      "Median data level: 1.0165241642434855\n",
      "Estimated background level: 1.002096996309166\n",
      "3.05\n",
      "4.109999999999999\n",
      "Doing  /Users/npirzkal/Dropbox/mirage/JWSTSIMS-56/data/jw00042002001_01101_00002_nrca5_rate.fits 2 of 3\n",
      "Filter: F356W\n",
      "grism: R\n",
      "Module: A\n",
      "/Users/npirzkal/Dropbox/mirage/JWSTSIMS-56/data/jw00042002001_01101_00002_nrca5_rate.fits Target is at  354.75343388628187 1005.0898773164137\n",
      "Median data level: 1.0076669353484422\n",
      "Estimated background level: 0.9940412707358777\n",
      "3.05\n",
      "4.109999999999999\n",
      "Doing  /Users/npirzkal/Dropbox/mirage/JWSTSIMS-56/data/jw00042002001_01101_00003_nrca5_rate.fits 3 of 3\n",
      "Filter: F356W\n",
      "grism: R\n",
      "Module: A\n",
      "/Users/npirzkal/Dropbox/mirage/JWSTSIMS-56/data/jw00042002001_01101_00003_nrca5_rate.fits Target is at  475.22340853124035 887.1427313522893\n",
      "Median data level: 1.0078249864821816\n",
      "Estimated background level: 0.994329784691824\n",
      "3.05\n",
      "4.109999999999999\n"
     ]
    },
    {
     "name": "stderr",
     "output_type": "stream",
     "text": [
      "/Users/npirzkal/anaconda3/envs/mirage/lib/python3.6/site-packages/numpy/lib/nanfunctions.py:1115: RuntimeWarning: All-NaN slice encountered\n",
      "  overwrite_input=overwrite_input)\n",
      "/Users/npirzkal/anaconda3/envs/mirage/lib/python3.6/site-packages/ipykernel_launcher.py:77: RuntimeWarning: Mean of empty slice\n",
      "/Users/npirzkal/anaconda3/envs/mirage/lib/python3.6/site-packages/ipykernel_launcher.py:78: RuntimeWarning: Mean of empty slice\n",
      "/Users/npirzkal/anaconda3/envs/mirage/lib/python3.6/site-packages/ipykernel_launcher.py:79: RuntimeWarning: Mean of empty slice\n",
      "/Users/npirzkal/anaconda3/envs/mirage/lib/python3.6/site-packages/ipykernel_launcher.py:81: RuntimeWarning: Mean of empty slice\n",
      "/Users/npirzkal/anaconda3/envs/mirage/lib/python3.6/site-packages/ipykernel_launcher.py:20: RuntimeWarning: Mean of empty slice\n",
      "/Users/npirzkal/anaconda3/envs/mirage/lib/python3.6/site-packages/ipykernel_launcher.py:26: RuntimeWarning: invalid value encountered in true_divide\n",
      "/Users/npirzkal/anaconda3/envs/mirage/lib/python3.6/site-packages/scipy/interpolate/interpolate.py:687: RuntimeWarning: invalid value encountered in less\n",
      "  below_bounds = x_new < self.x[0]\n",
      "/Users/npirzkal/anaconda3/envs/mirage/lib/python3.6/site-packages/scipy/interpolate/interpolate.py:688: RuntimeWarning: invalid value encountered in greater\n",
      "  above_bounds = x_new > self.x[-1]\n",
      "/Users/npirzkal/anaconda3/envs/mirage/lib/python3.6/site-packages/ipykernel_launcher.py:29: RuntimeWarning: divide by zero encountered in true_divide\n",
      "/Users/npirzkal/anaconda3/envs/mirage/lib/python3.6/site-packages/ipykernel_launcher.py:34: RuntimeWarning: invalid value encountered in true_divide\n",
      "/Users/npirzkal/anaconda3/envs/mirage/lib/python3.6/site-packages/ipykernel_launcher.py:35: RuntimeWarning: divide by zero encountered in true_divide\n",
      "WARNING: AstropyDeprecationWarning: /tmp/14923.table already exists. Automatically overwriting ASCII files is deprecated. Use the argument 'overwrite=True' in the future. [astropy.io.ascii.ui]\n"
     ]
    },
    {
     "data": {
      "text/plain": [
       "<Figure size 720x360 with 0 Axes>"
      ]
     },
     "metadata": {},
     "output_type": "display_data"
    },
    {
     "data": {
      "image/png": "[encoded data removed]",
      "text/plain": [
       "<Figure size 1080x360 with 1 Axes>"
      ]
     },
     "metadata": {
      "needs_background": "light"
     },
     "output_type": "display_data"
    }
   ],
   "source": [
    "catalog = \"/Users/npirzkal/Dropbox/mirage/JWSTSIMS-56/catalogs/JWSTSIMS-56.cat\"\n",
    "extract_ID(14923,catalog,ratenames)"
   ]
  },
  {
   "cell_type": "code",
   "execution_count": null,
   "metadata": {},
   "outputs": [],
   "source": []
  },
  {
   "cell_type": "markdown",
   "metadata": {},
   "source": [
    "<h2> Extracting multiple objects"
   ]
  },
  {
   "cell_type": "code",
   "execution_count": 404,
   "metadata": {},
   "outputs": [
    {
     "name": "stdout",
     "output_type": "stream",
     "text": [
      "108544 24.718433\n",
      "124928 23.96973\n",
      "RA and DEC are: 215.0178685911 52.9327856832\n",
      "Doing  /Users/npirzkal/Dropbox/mirage/JWSTSIMS-56/data/jw00042002001_01101_00001_nrca5_rate.fits 1 of 3\n",
      "Filter: F356W\n",
      "grism: R\n",
      "Module: A\n",
      "/Users/npirzkal/Dropbox/mirage/JWSTSIMS-56/data/jw00042002001_01101_00001_nrca5_rate.fits Target is at  1335.6094058023361 1469.9347616808602\n",
      "75779 25.933475\n",
      "RA and DEC are: 214.9975295911 52.9340636832\n",
      "Doing  /Users/npirzkal/Dropbox/mirage/JWSTSIMS-56/data/jw00042002001_01101_00001_nrca5_rate.fits 1 of 3\n",
      "Filter: F356W\n",
      "grism: R\n",
      "Module: A\n",
      "/Users/npirzkal/Dropbox/mirage/JWSTSIMS-56/data/jw00042002001_01101_00001_nrca5_rate.fits Target is at  2039.432185518915 1538.2306955201152\n",
      "67588 25.966763\n",
      "RA and DEC are: 215.0068485911 52.9277976832\n",
      "Doing  /Users/npirzkal/Dropbox/mirage/JWSTSIMS-56/data/jw00042002001_01101_00001_nrca5_rate.fits 1 of 3\n",
      "Filter: F356W\n",
      "grism: R\n",
      "Module: A\n",
      "/Users/npirzkal/Dropbox/mirage/JWSTSIMS-56/data/jw00042002001_01101_00001_nrca5_rate.fits Target is at  1715.103417187155 1183.2937850977623\n",
      "235520 25.01162\n",
      "RA and DEC are: 215.0283905911 52.9419836832\n",
      "Doing  /Users/npirzkal/Dropbox/mirage/JWSTSIMS-56/data/jw00042002001_01101_00001_nrca5_rate.fits 1 of 3\n",
      "Filter: F356W\n",
      "grism: R\n",
      "Module: A\n",
      "/Users/npirzkal/Dropbox/mirage/JWSTSIMS-56/data/jw00042002001_01101_00001_nrca5_rate.fits Target is at  970.8875682028315 1999.0322253013805\n"
     ]
    },
    {
     "name": "stderr",
     "output_type": "stream",
     "text": [
      "/Users/npirzkal/anaconda3/envs/mirage/lib/python3.6/site-packages/ipykernel_launcher.py:82: RuntimeWarning: invalid value encountered in true_divide\n",
      "/Users/npirzkal/anaconda3/envs/mirage/lib/python3.6/site-packages/ipykernel_launcher.py:84: RuntimeWarning: invalid value encountered in true_divide\n"
     ]
    },
    {
     "name": "stdout",
     "output_type": "stream",
     "text": [
      "Median data level: 1.0165241642434855\n",
      "Estimated background level: 1.002096996309166\n",
      "3.05\n",
      "4.109999999999999\n",
      "Doing  /Users/npirzkal/Dropbox/mirage/JWSTSIMS-56/data/jw00042002001_01101_00002_nrca5_rate.fits 2 of 3\n",
      "Filter: F356W\n",
      "grism: R\n",
      "Module: A\n",
      "/Users/npirzkal/Dropbox/mirage/JWSTSIMS-56/data/jw00042002001_01101_00002_nrca5_rate.fits Target is at  1091.2321854970824 1879.06353478354\n",
      "Median data level: 1.0076669353484422\n",
      "Estimated background level: 0.9940412707358777\n",
      "3.05\n",
      "4.109999999999999\n",
      "Doing  /Users/npirzkal/Dropbox/mirage/JWSTSIMS-56/data/jw00042002001_01101_00003_nrca5_rate.fits 3 of 3\n",
      "Filter: F356W\n",
      "grism: R\n",
      "Module: A\n",
      "/Users/npirzkal/Dropbox/mirage/JWSTSIMS-56/data/jw00042002001_01101_00003_nrca5_rate.fits Target is at  1211.2996992725884 1759.0930123276353\n",
      "Median data level: 1.0078249864821816\n",
      "Estimated background level: 0.994329784691824\n",
      "3.05\n",
      "4.109999999999999\n"
     ]
    },
    {
     "name": "stderr",
     "output_type": "stream",
     "text": [
      "/Users/npirzkal/anaconda3/envs/mirage/lib/python3.6/site-packages/numpy/lib/nanfunctions.py:1115: RuntimeWarning: All-NaN slice encountered\n",
      "  overwrite_input=overwrite_input)\n",
      "/Users/npirzkal/anaconda3/envs/mirage/lib/python3.6/site-packages/ipykernel_launcher.py:77: RuntimeWarning: Mean of empty slice\n",
      "/Users/npirzkal/anaconda3/envs/mirage/lib/python3.6/site-packages/ipykernel_launcher.py:78: RuntimeWarning: Mean of empty slice\n",
      "/Users/npirzkal/anaconda3/envs/mirage/lib/python3.6/site-packages/ipykernel_launcher.py:79: RuntimeWarning: Mean of empty slice\n",
      "/Users/npirzkal/anaconda3/envs/mirage/lib/python3.6/site-packages/ipykernel_launcher.py:81: RuntimeWarning: Mean of empty slice\n",
      "/Users/npirzkal/anaconda3/envs/mirage/lib/python3.6/site-packages/ipykernel_launcher.py:20: RuntimeWarning: Mean of empty slice\n",
      "/Users/npirzkal/anaconda3/envs/mirage/lib/python3.6/site-packages/ipykernel_launcher.py:26: RuntimeWarning: invalid value encountered in true_divide\n",
      "/Users/npirzkal/anaconda3/envs/mirage/lib/python3.6/site-packages/scipy/interpolate/interpolate.py:687: RuntimeWarning: invalid value encountered in less\n",
      "  below_bounds = x_new < self.x[0]\n",
      "/Users/npirzkal/anaconda3/envs/mirage/lib/python3.6/site-packages/scipy/interpolate/interpolate.py:688: RuntimeWarning: invalid value encountered in greater\n",
      "  above_bounds = x_new > self.x[-1]\n",
      "/Users/npirzkal/anaconda3/envs/mirage/lib/python3.6/site-packages/ipykernel_launcher.py:29: RuntimeWarning: divide by zero encountered in true_divide\n",
      "/Users/npirzkal/anaconda3/envs/mirage/lib/python3.6/site-packages/ipykernel_launcher.py:34: RuntimeWarning: invalid value encountered in true_divide\n",
      "/Users/npirzkal/anaconda3/envs/mirage/lib/python3.6/site-packages/ipykernel_launcher.py:35: RuntimeWarning: divide by zero encountered in true_divide\n"
     ]
    },
    {
     "name": "stdout",
     "output_type": "stream",
     "text": [
      "10 24.725117\n",
      "88075 24.659409\n",
      "38924 25.918461\n",
      "RA and DEC are: 215.0468685911 52.9244046832\n",
      "Doing  /Users/npirzkal/Dropbox/mirage/JWSTSIMS-56/data/jw00042002001_01101_00001_nrca5_rate.fits 1 of 3\n",
      "Filter: F356W\n",
      "grism: R\n",
      "Module: A\n",
      "/Users/npirzkal/Dropbox/mirage/JWSTSIMS-56/data/jw00042002001_01101_00001_nrca5_rate.fits Target is at  331.68247588371037 986.896018704364\n",
      "143374 24.587322\n",
      "RA and DEC are: 215.0375675911 52.9295026832\n",
      "Doing  /Users/npirzkal/Dropbox/mirage/JWSTSIMS-56/data/jw00042002001_01101_00001_nrca5_rate.fits 1 of 3\n",
      "Filter: F356W\n",
      "grism: R\n",
      "Module: A\n",
      "/Users/npirzkal/Dropbox/mirage/JWSTSIMS-56/data/jw00042002001_01101_00001_nrca5_rate.fits Target is at  652.0437167227925 1280.947444849514\n",
      "256016 25.721497\n",
      "RA and DEC are: 215.0115235911 52.9235996832\n",
      "Doing  /Users/npirzkal/Dropbox/mirage/JWSTSIMS-56/data/jw00042002001_01101_00001_nrca5_rate.fits 1 of 3\n",
      "Filter: F356W\n",
      "grism: R\n",
      "Module: A\n",
      "/Users/npirzkal/Dropbox/mirage/JWSTSIMS-56/data/jw00042002001_01101_00001_nrca5_rate.fits Target is at  1552.5942323261652 944.8448532856743\n",
      "104467 25.12723\n",
      "RA and DEC are: 214.9954335911 52.9382666832\n",
      "Doing  /Users/npirzkal/Dropbox/mirage/JWSTSIMS-56/data/jw00042002001_01101_00001_nrca5_rate.fits 1 of 3\n",
      "Filter: F356W\n",
      "grism: R\n",
      "Module: A\n",
      "/Users/npirzkal/Dropbox/mirage/JWSTSIMS-56/data/jw00042002001_01101_00001_nrca5_rate.fits Target is at  2114.2528018867665 1777.4276643398011\n"
     ]
    },
    {
     "name": "stderr",
     "output_type": "stream",
     "text": [
      "/Users/npirzkal/anaconda3/envs/mirage/lib/python3.6/site-packages/ipykernel_launcher.py:82: RuntimeWarning: invalid value encountered in true_divide\n",
      "/Users/npirzkal/anaconda3/envs/mirage/lib/python3.6/site-packages/ipykernel_launcher.py:84: RuntimeWarning: invalid value encountered in true_divide\n"
     ]
    },
    {
     "name": "stdout",
     "output_type": "stream",
     "text": [
      "Median data level: 1.0165241642434855\n",
      "Estimated background level: 1.002096996309166\n",
      "3.05\n",
      "4.109999999999999\n",
      "Doing  /Users/npirzkal/Dropbox/mirage/JWSTSIMS-56/data/jw00042002001_01101_00002_nrca5_rate.fits 2 of 3\n",
      "Filter: F356W\n",
      "grism: R\n",
      "Module: A\n",
      "/Users/npirzkal/Dropbox/mirage/JWSTSIMS-56/data/jw00042002001_01101_00002_nrca5_rate.fits Target is at  2231.869362064909 1656.8694122112265\n",
      "Median data level: 1.0076669353484422\n",
      "Estimated background level: 0.9940412707358777\n",
      "3.05\n",
      "4.109999999999999\n",
      "Doing  /Users/npirzkal/Dropbox/mirage/JWSTSIMS-56/data/jw00042002001_01101_00003_nrca5_rate.fits 3 of 3\n",
      "Filter: F356W\n",
      "grism: R\n",
      "Module: A\n",
      "/Users/npirzkal/Dropbox/mirage/JWSTSIMS-56/data/jw00042002001_01101_00003_nrca5_rate.fits Target is at  2348.974548314917 1536.464649251606\n",
      "Median data level: 1.0078249864821816\n",
      "Estimated background level: 0.994329784691824\n",
      "3.05\n",
      "4.109999999999999\n"
     ]
    },
    {
     "name": "stderr",
     "output_type": "stream",
     "text": [
      "/Users/npirzkal/anaconda3/envs/mirage/lib/python3.6/site-packages/numpy/lib/nanfunctions.py:1115: RuntimeWarning: All-NaN slice encountered\n",
      "  overwrite_input=overwrite_input)\n",
      "/Users/npirzkal/anaconda3/envs/mirage/lib/python3.6/site-packages/ipykernel_launcher.py:77: RuntimeWarning: Mean of empty slice\n",
      "/Users/npirzkal/anaconda3/envs/mirage/lib/python3.6/site-packages/ipykernel_launcher.py:78: RuntimeWarning: Mean of empty slice\n",
      "/Users/npirzkal/anaconda3/envs/mirage/lib/python3.6/site-packages/ipykernel_launcher.py:79: RuntimeWarning: Mean of empty slice\n",
      "/Users/npirzkal/anaconda3/envs/mirage/lib/python3.6/site-packages/ipykernel_launcher.py:81: RuntimeWarning: Mean of empty slice\n",
      "/Users/npirzkal/anaconda3/envs/mirage/lib/python3.6/site-packages/ipykernel_launcher.py:20: RuntimeWarning: Mean of empty slice\n",
      "/Users/npirzkal/anaconda3/envs/mirage/lib/python3.6/site-packages/ipykernel_launcher.py:26: RuntimeWarning: invalid value encountered in true_divide\n",
      "/Users/npirzkal/anaconda3/envs/mirage/lib/python3.6/site-packages/scipy/interpolate/interpolate.py:687: RuntimeWarning: invalid value encountered in less\n",
      "  below_bounds = x_new < self.x[0]\n",
      "/Users/npirzkal/anaconda3/envs/mirage/lib/python3.6/site-packages/scipy/interpolate/interpolate.py:688: RuntimeWarning: invalid value encountered in greater\n",
      "  above_bounds = x_new > self.x[-1]\n",
      "/Users/npirzkal/anaconda3/envs/mirage/lib/python3.6/site-packages/ipykernel_launcher.py:29: RuntimeWarning: divide by zero encountered in true_divide\n",
      "/Users/npirzkal/anaconda3/envs/mirage/lib/python3.6/site-packages/ipykernel_launcher.py:34: RuntimeWarning: invalid value encountered in true_divide\n",
      "/Users/npirzkal/anaconda3/envs/mirage/lib/python3.6/site-packages/ipykernel_launcher.py:35: RuntimeWarning: divide by zero encountered in true_divide\n"
     ]
    },
    {
     "name": "stdout",
     "output_type": "stream",
     "text": [
      "73755 24.33919\n",
      "12318 23.319622\n",
      "153631 24.435024\n",
      "81954 25.948605\n",
      "RA and DEC are: 215.0443895911 52.9436266832\n",
      "Doing  /Users/npirzkal/Dropbox/mirage/JWSTSIMS-56/data/jw00042002001_01101_00001_nrca5_rate.fits 1 of 3\n",
      "Filter: F356W\n",
      "grism: R\n",
      "Module: A\n",
      "/Users/npirzkal/Dropbox/mirage/JWSTSIMS-56/data/jw00042002001_01101_00001_nrca5_rate.fits Target is at  411.98143108989484 2092.148486953885\n",
      "180263 25.616426\n",
      "RA and DEC are: 214.9943325911 52.9108336832\n",
      "Doing  /Users/npirzkal/Dropbox/mirage/JWSTSIMS-56/data/jw00042002001_01101_00001_nrca5_rate.fits 1 of 3\n",
      "Filter: F356W\n",
      "grism: R\n",
      "Module: A\n",
      "/Users/npirzkal/Dropbox/mirage/JWSTSIMS-56/data/jw00042002001_01101_00001_nrca5_rate.fits Target is at  2133.850611407419 222.8525807378851\n"
     ]
    },
    {
     "name": "stderr",
     "output_type": "stream",
     "text": [
      "/Users/npirzkal/anaconda3/envs/mirage/lib/python3.6/site-packages/ipykernel_launcher.py:82: RuntimeWarning: invalid value encountered in true_divide\n",
      "/Users/npirzkal/anaconda3/envs/mirage/lib/python3.6/site-packages/ipykernel_launcher.py:84: RuntimeWarning: invalid value encountered in true_divide\n"
     ]
    },
    {
     "name": "stdout",
     "output_type": "stream",
     "text": [
      "Median data level: 1.0165241642434855\n",
      "Estimated background level: 1.002096996309166\n",
      "3.05\n",
      "4.109999999999999\n",
      "Doing  /Users/npirzkal/Dropbox/mirage/JWSTSIMS-56/data/jw00042002001_01101_00002_nrca5_rate.fits 2 of 3\n",
      "Filter: F356W\n",
      "grism: R\n",
      "Module: A\n",
      "/Users/npirzkal/Dropbox/mirage/JWSTSIMS-56/data/jw00042002001_01101_00002_nrca5_rate.fits Target is at  2249.1373193440304 106.36013475309176\n",
      "Median data level: 1.0076669353484422\n",
      "Estimated background level: 0.9940412707358777\n",
      "3.05\n",
      "4.109999999999999\n",
      "Doing  /Users/npirzkal/Dropbox/mirage/JWSTSIMS-56/data/jw00042002001_01101_00003_nrca5_rate.fits 3 of 3\n",
      "Filter: F356W\n",
      "grism: R\n",
      "Module: A\n",
      "/Users/npirzkal/Dropbox/mirage/JWSTSIMS-56/data/jw00042002001_01101_00003_nrca5_rate.fits Target is at  2363.7369708249857 -9.651094546914692\n",
      "8233 25.059036\n",
      "RA and DEC are: 215.0197265911 52.9209496832\n",
      "Doing  /Users/npirzkal/Dropbox/mirage/JWSTSIMS-56/data/jw00042002001_01101_00001_nrca5_rate.fits 1 of 3\n",
      "Filter: F356W\n",
      "grism: R\n",
      "Module: A\n",
      "/Users/npirzkal/Dropbox/mirage/JWSTSIMS-56/data/jw00042002001_01101_00001_nrca5_rate.fits Target is at  1269.620388402453 794.3793017052145\n",
      "Median data level: 1.0165241642434855\n",
      "Estimated background level: 1.002096996309166\n",
      "3.05\n",
      "4.109999999999999\n",
      "Doing  /Users/npirzkal/Dropbox/mirage/JWSTSIMS-56/data/jw00042002001_01101_00002_nrca5_rate.fits 2 of 3\n",
      "Filter: F356W\n",
      "grism: R\n",
      "Module: A\n",
      "/Users/npirzkal/Dropbox/mirage/JWSTSIMS-56/data/jw00042002001_01101_00002_nrca5_rate.fits Target is at  1388.3097465605842 676.2712473520235\n",
      "227378 24.669823\n",
      "133173 24.070934\n",
      "RA and DEC are: 214.9966035911 52.9173676832\n",
      "Doing  /Users/npirzkal/Dropbox/mirage/JWSTSIMS-56/data/jw00042002001_01101_00001_nrca5_rate.fits 1 of 3\n",
      "Filter: F356W\n",
      "grism: R\n",
      "Module: A\n",
      "/Users/npirzkal/Dropbox/mirage/JWSTSIMS-56/data/jw00042002001_01101_00001_nrca5_rate.fits Target is at  2060.97334121303 590.0663891609277\n",
      "12347 25.867371\n",
      "RA and DEC are: 215.0182695911 52.9267876832\n",
      "Doing  /Users/npirzkal/Dropbox/mirage/JWSTSIMS-56/data/jw00042002001_01101_00001_nrca5_rate.fits 1 of 3\n",
      "Filter: F356W\n",
      "grism: R\n",
      "Module: A\n",
      "/Users/npirzkal/Dropbox/mirage/JWSTSIMS-56/data/jw00042002001_01101_00001_nrca5_rate.fits Target is at  1320.6039853378863 1126.9126296670624\n",
      "34875 24.421917\n",
      "RA and DEC are: 215.0512995911 52.9370686832\n",
      "Doing  /Users/npirzkal/Dropbox/mirage/JWSTSIMS-56/data/jw00042002001_01101_00001_nrca5_rate.fits 1 of 3\n",
      "Filter: F356W\n",
      "grism: R\n",
      "Module: A\n",
      "/Users/npirzkal/Dropbox/mirage/JWSTSIMS-56/data/jw00042002001_01101_00001_nrca5_rate.fits Target is at  172.51747175937896 1712.270853404539\n",
      "90179 25.884403\n",
      "RA and DEC are: 215.0033515911 52.9356616832\n",
      "Doing  /Users/npirzkal/Dropbox/mirage/JWSTSIMS-56/data/jw00042002001_01101_00001_nrca5_rate.fits 1 of 3\n",
      "Filter: F356W\n",
      "grism: R\n",
      "Module: A\n",
      "/Users/npirzkal/Dropbox/mirage/JWSTSIMS-56/data/jw00042002001_01101_00001_nrca5_rate.fits Target is at  1839.3940027148017 1631.5997344048465\n",
      "34888 24.772396\n",
      "34889 25.732174\n",
      "RA and DEC are: 215.0490945911 52.9387486832\n",
      "Doing  /Users/npirzkal/Dropbox/mirage/JWSTSIMS-56/data/jw00042002001_01101_00001_nrca5_rate.fits 1 of 3\n",
      "Filter: F356W\n",
      "grism: R\n",
      "Module: A\n",
      "/Users/npirzkal/Dropbox/mirage/JWSTSIMS-56/data/jw00042002001_01101_00001_nrca5_rate.fits Target is at  248.7697101964368 1809.739716405264\n",
      "Median data level: 1.0165241642434855\n",
      "Estimated background level: 1.002096996309166\n",
      "3.05\n",
      "4.109999999999999\n",
      "Doing  /Users/npirzkal/Dropbox/mirage/JWSTSIMS-56/data/jw00042002001_01101_00002_nrca5_rate.fits 2 of 3\n",
      "Filter: F356W\n",
      "grism: R\n",
      "Module: A\n",
      "/Users/npirzkal/Dropbox/mirage/JWSTSIMS-56/data/jw00042002001_01101_00002_nrca5_rate.fits Target is at  369.8135722195583 1690.7996046072449\n",
      "Median data level: 1.0076669353484422\n",
      "Estimated background level: 0.9940412707358777\n",
      "3.05\n",
      "4.109999999999999\n",
      "Doing  /Users/npirzkal/Dropbox/mirage/JWSTSIMS-56/data/jw00042002001_01101_00003_nrca5_rate.fits 3 of 3\n",
      "Filter: F356W\n",
      "grism: R\n",
      "Module: A\n",
      "/Users/npirzkal/Dropbox/mirage/JWSTSIMS-56/data/jw00042002001_01101_00003_nrca5_rate.fits Target is at  490.7071591579745 1571.8134190862097\n",
      "168013 24.030174\n",
      "67670 20.986122\n",
      "6231 24.079327\n",
      "92250 25.941395\n",
      "RA and DEC are: 214.9983965911 52.9241386832\n",
      "Doing  /Users/npirzkal/Dropbox/mirage/JWSTSIMS-56/data/jw00042002001_01101_00001_nrca5_rate.fits 1 of 3\n",
      "Filter: F356W\n",
      "grism: R\n",
      "Module: A\n",
      "/Users/npirzkal/Dropbox/mirage/JWSTSIMS-56/data/jw00042002001_01101_00001_nrca5_rate.fits Target is at  2003.7713159182877 973.4313313425681\n",
      "Median data level: 1.0165241642434855\n",
      "Estimated background level: 1.002096996309166\n",
      "3.05\n",
      "4.109999999999999\n",
      "Doing  /Users/npirzkal/Dropbox/mirage/JWSTSIMS-56/data/jw00042002001_01101_00002_nrca5_rate.fits 2 of 3\n",
      "Filter: F356W\n",
      "grism: R\n",
      "Module: A\n",
      "/Users/npirzkal/Dropbox/mirage/JWSTSIMS-56/data/jw00042002001_01101_00002_nrca5_rate.fits Target is at  2120.722543552285 854.6209578032425\n",
      "Median data level: 1.0076669353484422\n",
      "Estimated background level: 0.9940412707358777\n",
      "3.05\n",
      "4.109999999999999\n",
      "Doing  /Users/npirzkal/Dropbox/mirage/JWSTSIMS-56/data/jw00042002001_01101_00003_nrca5_rate.fits 3 of 3\n",
      "Filter: F356W\n",
      "grism: R\n",
      "Module: A\n",
      "/Users/npirzkal/Dropbox/mirage/JWSTSIMS-56/data/jw00042002001_01101_00003_nrca5_rate.fits Target is at  2237.114855999884 736.1038137135322\n",
      "Median data level: 1.0078249864821816\n",
      "Estimated background level: 0.994329784691824\n",
      "3.05\n",
      "4.109999999999999\n"
     ]
    },
    {
     "name": "stderr",
     "output_type": "stream",
     "text": [
      "/Users/npirzkal/anaconda3/envs/mirage/lib/python3.6/site-packages/numpy/lib/nanfunctions.py:1115: RuntimeWarning: All-NaN slice encountered\n",
      "  overwrite_input=overwrite_input)\n",
      "/Users/npirzkal/anaconda3/envs/mirage/lib/python3.6/site-packages/ipykernel_launcher.py:77: RuntimeWarning: Mean of empty slice\n",
      "/Users/npirzkal/anaconda3/envs/mirage/lib/python3.6/site-packages/ipykernel_launcher.py:78: RuntimeWarning: Mean of empty slice\n",
      "/Users/npirzkal/anaconda3/envs/mirage/lib/python3.6/site-packages/ipykernel_launcher.py:79: RuntimeWarning: Mean of empty slice\n",
      "/Users/npirzkal/anaconda3/envs/mirage/lib/python3.6/site-packages/ipykernel_launcher.py:81: RuntimeWarning: Mean of empty slice\n",
      "/Users/npirzkal/anaconda3/envs/mirage/lib/python3.6/site-packages/ipykernel_launcher.py:20: RuntimeWarning: Mean of empty slice\n",
      "/Users/npirzkal/anaconda3/envs/mirage/lib/python3.6/site-packages/ipykernel_launcher.py:26: RuntimeWarning: invalid value encountered in true_divide\n",
      "/Users/npirzkal/anaconda3/envs/mirage/lib/python3.6/site-packages/scipy/interpolate/interpolate.py:687: RuntimeWarning: invalid value encountered in less\n",
      "  below_bounds = x_new < self.x[0]\n",
      "/Users/npirzkal/anaconda3/envs/mirage/lib/python3.6/site-packages/scipy/interpolate/interpolate.py:688: RuntimeWarning: invalid value encountered in greater\n",
      "  above_bounds = x_new > self.x[-1]\n",
      "/Users/npirzkal/anaconda3/envs/mirage/lib/python3.6/site-packages/ipykernel_launcher.py:34: RuntimeWarning: invalid value encountered in true_divide\n"
     ]
    },
    {
     "name": "stdout",
     "output_type": "stream",
     "text": [
      "186458 25.547571\n",
      "RA and DEC are: 215.0245015911 52.9277716832\n",
      "Doing  /Users/npirzkal/Dropbox/mirage/JWSTSIMS-56/data/jw00042002001_01101_00001_nrca5_rate.fits 1 of 3\n",
      "Filter: F356W\n",
      "grism: R\n",
      "Module: A\n",
      "/Users/npirzkal/Dropbox/mirage/JWSTSIMS-56/data/jw00042002001_01101_00001_nrca5_rate.fits Target is at  1105.1264896785283 1183.1584137072728\n"
     ]
    },
    {
     "name": "stderr",
     "output_type": "stream",
     "text": [
      "/Users/npirzkal/anaconda3/envs/mirage/lib/python3.6/site-packages/ipykernel_launcher.py:82: RuntimeWarning: invalid value encountered in true_divide\n",
      "/Users/npirzkal/anaconda3/envs/mirage/lib/python3.6/site-packages/ipykernel_launcher.py:84: RuntimeWarning: invalid value encountered in true_divide\n"
     ]
    },
    {
     "name": "stdout",
     "output_type": "stream",
     "text": [
      "Median data level: 1.0165241642434855\n",
      "Estimated background level: 1.002096996309166\n",
      "3.05\n",
      "4.109999999999999\n",
      "Doing  /Users/npirzkal/Dropbox/mirage/JWSTSIMS-56/data/jw00042002001_01101_00002_nrca5_rate.fits 2 of 3\n",
      "Filter: F356W\n",
      "grism: R\n",
      "Module: A\n",
      "/Users/npirzkal/Dropbox/mirage/JWSTSIMS-56/data/jw00042002001_01101_00002_nrca5_rate.fits Target is at  1224.5830508137888 1064.2809462788462\n",
      "Median data level: 1.0076669353484422\n",
      "Estimated background level: 0.9940412707358777\n",
      "3.05\n",
      "4.109999999999999\n",
      "Doing  /Users/npirzkal/Dropbox/mirage/JWSTSIMS-56/data/jw00042002001_01101_00003_nrca5_rate.fits 3 of 3\n",
      "Filter: F356W\n",
      "grism: R\n",
      "Module: A\n",
      "/Users/npirzkal/Dropbox/mirage/JWSTSIMS-56/data/jw00042002001_01101_00003_nrca5_rate.fits Target is at  1343.6687518791507 945.5681710204076\n",
      "Median data level: 1.0078249864821816\n",
      "Estimated background level: 0.994329784691824\n",
      "3.05\n",
      "4.109999999999999\n"
     ]
    },
    {
     "name": "stderr",
     "output_type": "stream",
     "text": [
      "/Users/npirzkal/anaconda3/envs/mirage/lib/python3.6/site-packages/numpy/lib/nanfunctions.py:1115: RuntimeWarning: All-NaN slice encountered\n",
      "  overwrite_input=overwrite_input)\n",
      "/Users/npirzkal/anaconda3/envs/mirage/lib/python3.6/site-packages/ipykernel_launcher.py:77: RuntimeWarning: Mean of empty slice\n",
      "/Users/npirzkal/anaconda3/envs/mirage/lib/python3.6/site-packages/ipykernel_launcher.py:78: RuntimeWarning: Mean of empty slice\n",
      "/Users/npirzkal/anaconda3/envs/mirage/lib/python3.6/site-packages/ipykernel_launcher.py:79: RuntimeWarning: Mean of empty slice\n",
      "/Users/npirzkal/anaconda3/envs/mirage/lib/python3.6/site-packages/ipykernel_launcher.py:81: RuntimeWarning: Mean of empty slice\n",
      "/Users/npirzkal/anaconda3/envs/mirage/lib/python3.6/site-packages/ipykernel_launcher.py:20: RuntimeWarning: Mean of empty slice\n",
      "/Users/npirzkal/anaconda3/envs/mirage/lib/python3.6/site-packages/ipykernel_launcher.py:26: RuntimeWarning: invalid value encountered in true_divide\n",
      "/Users/npirzkal/anaconda3/envs/mirage/lib/python3.6/site-packages/scipy/interpolate/interpolate.py:687: RuntimeWarning: invalid value encountered in less\n",
      "  below_bounds = x_new < self.x[0]\n",
      "/Users/npirzkal/anaconda3/envs/mirage/lib/python3.6/site-packages/scipy/interpolate/interpolate.py:688: RuntimeWarning: invalid value encountered in greater\n",
      "  above_bounds = x_new > self.x[-1]\n",
      "/Users/npirzkal/anaconda3/envs/mirage/lib/python3.6/site-packages/ipykernel_launcher.py:29: RuntimeWarning: divide by zero encountered in true_divide\n",
      "/Users/npirzkal/anaconda3/envs/mirage/lib/python3.6/site-packages/ipykernel_launcher.py:34: RuntimeWarning: invalid value encountered in true_divide\n",
      "/Users/npirzkal/anaconda3/envs/mirage/lib/python3.6/site-packages/ipykernel_launcher.py:35: RuntimeWarning: divide by zero encountered in true_divide\n"
     ]
    },
    {
     "name": "stdout",
     "output_type": "stream",
     "text": [
      "39001 24.808865\n",
      "206944 25.245752\n",
      "RA and DEC are: 215.0122495911 52.9206086832\n",
      "Doing  /Users/npirzkal/Dropbox/mirage/JWSTSIMS-56/data/jw00042002001_01101_00001_nrca5_rate.fits 1 of 3\n",
      "Filter: F356W\n",
      "grism: R\n",
      "Module: A\n",
      "/Users/npirzkal/Dropbox/mirage/JWSTSIMS-56/data/jw00042002001_01101_00001_nrca5_rate.fits Target is at  1526.8063304142902 774.9673448834947\n",
      "62706 23.822102\n",
      "4091 22.45377\n",
      "141415 25.038004\n",
      "RA and DEC are: 215.0148545911 52.9343486832\n",
      "Doing  /Users/npirzkal/Dropbox/mirage/JWSTSIMS-56/data/jw00042002001_01101_00001_nrca5_rate.fits 1 of 3\n",
      "Filter: F356W\n",
      "grism: R\n",
      "Module: A\n",
      "/Users/npirzkal/Dropbox/mirage/JWSTSIMS-56/data/jw00042002001_01101_00001_nrca5_rate.fits Target is at  1440.5247086464235 1559.125334034515\n"
     ]
    },
    {
     "name": "stderr",
     "output_type": "stream",
     "text": [
      "/Users/npirzkal/anaconda3/envs/mirage/lib/python3.6/site-packages/ipykernel_launcher.py:82: RuntimeWarning: invalid value encountered in true_divide\n",
      "/Users/npirzkal/anaconda3/envs/mirage/lib/python3.6/site-packages/ipykernel_launcher.py:84: RuntimeWarning: invalid value encountered in true_divide\n"
     ]
    },
    {
     "name": "stdout",
     "output_type": "stream",
     "text": [
      "Median data level: 1.0165241642434855\n",
      "Estimated background level: 1.002096996309166\n",
      "3.05\n",
      "4.109999999999999\n",
      "Doing  /Users/npirzkal/Dropbox/mirage/JWSTSIMS-56/data/jw00042002001_01101_00002_nrca5_rate.fits 2 of 3\n",
      "Filter: F356W\n",
      "grism: R\n",
      "Module: A\n",
      "/Users/npirzkal/Dropbox/mirage/JWSTSIMS-56/data/jw00042002001_01101_00002_nrca5_rate.fits Target is at  1559.6510031696555 1439.3306261361333\n",
      "Median data level: 1.0076669353484422\n",
      "Estimated background level: 0.9940412707358777\n",
      "3.05\n",
      "4.109999999999999\n",
      "Doing  /Users/npirzkal/Dropbox/mirage/JWSTSIMS-56/data/jw00042002001_01101_00003_nrca5_rate.fits 3 of 3\n",
      "Filter: F356W\n",
      "grism: R\n",
      "Module: A\n",
      "/Users/npirzkal/Dropbox/mirage/JWSTSIMS-56/data/jw00042002001_01101_00003_nrca5_rate.fits Target is at  1678.3792089106587 1319.666595035711\n",
      "Median data level: 1.0078249864821816\n",
      "Estimated background level: 0.994329784691824\n",
      "3.05\n",
      "4.109999999999999\n"
     ]
    },
    {
     "name": "stderr",
     "output_type": "stream",
     "text": [
      "/Users/npirzkal/anaconda3/envs/mirage/lib/python3.6/site-packages/numpy/lib/nanfunctions.py:1115: RuntimeWarning: All-NaN slice encountered\n",
      "  overwrite_input=overwrite_input)\n",
      "/Users/npirzkal/anaconda3/envs/mirage/lib/python3.6/site-packages/ipykernel_launcher.py:77: RuntimeWarning: Mean of empty slice\n",
      "/Users/npirzkal/anaconda3/envs/mirage/lib/python3.6/site-packages/ipykernel_launcher.py:78: RuntimeWarning: Mean of empty slice\n",
      "/Users/npirzkal/anaconda3/envs/mirage/lib/python3.6/site-packages/ipykernel_launcher.py:79: RuntimeWarning: Mean of empty slice\n",
      "/Users/npirzkal/anaconda3/envs/mirage/lib/python3.6/site-packages/ipykernel_launcher.py:81: RuntimeWarning: Mean of empty slice\n",
      "/Users/npirzkal/anaconda3/envs/mirage/lib/python3.6/site-packages/ipykernel_launcher.py:20: RuntimeWarning: Mean of empty slice\n",
      "/Users/npirzkal/anaconda3/envs/mirage/lib/python3.6/site-packages/ipykernel_launcher.py:26: RuntimeWarning: invalid value encountered in true_divide\n",
      "/Users/npirzkal/anaconda3/envs/mirage/lib/python3.6/site-packages/scipy/interpolate/interpolate.py:687: RuntimeWarning: invalid value encountered in less\n",
      "  below_bounds = x_new < self.x[0]\n",
      "/Users/npirzkal/anaconda3/envs/mirage/lib/python3.6/site-packages/scipy/interpolate/interpolate.py:688: RuntimeWarning: invalid value encountered in greater\n",
      "  above_bounds = x_new > self.x[-1]\n",
      "/Users/npirzkal/anaconda3/envs/mirage/lib/python3.6/site-packages/ipykernel_launcher.py:29: RuntimeWarning: divide by zero encountered in true_divide\n",
      "/Users/npirzkal/anaconda3/envs/mirage/lib/python3.6/site-packages/ipykernel_launcher.py:34: RuntimeWarning: invalid value encountered in true_divide\n",
      "/Users/npirzkal/anaconda3/envs/mirage/lib/python3.6/site-packages/ipykernel_launcher.py:35: RuntimeWarning: divide by zero encountered in true_divide\n"
     ]
    },
    {
     "name": "stdout",
     "output_type": "stream",
     "text": [
      "6250 23.660389\n",
      "RA and DEC are: 215.0209265911 52.9082406832\n",
      "Doing  /Users/npirzkal/Dropbox/mirage/JWSTSIMS-56/data/jw00042002001_01101_00001_nrca5_rate.fits 1 of 3\n",
      "Filter: F356W\n",
      "grism: R\n",
      "Module: A\n",
      "/Users/npirzkal/Dropbox/mirage/JWSTSIMS-56/data/jw00042002001_01101_00001_nrca5_rate.fits Target is at  1228.2020555423119 76.64185430405098\n"
     ]
    },
    {
     "name": "stderr",
     "output_type": "stream",
     "text": [
      "/Users/npirzkal/anaconda3/envs/mirage/lib/python3.6/site-packages/ipykernel_launcher.py:82: RuntimeWarning: invalid value encountered in true_divide\n",
      "/Users/npirzkal/anaconda3/envs/mirage/lib/python3.6/site-packages/ipykernel_launcher.py:84: RuntimeWarning: invalid value encountered in true_divide\n"
     ]
    },
    {
     "name": "stdout",
     "output_type": "stream",
     "text": [
      "Median data level: 1.0165241642434855\n",
      "Estimated background level: 1.002096996309166\n",
      "3.05\n",
      "4.109999999999999\n",
      "Doing  /Users/npirzkal/Dropbox/mirage/JWSTSIMS-56/data/jw00042002001_01101_00002_nrca5_rate.fits 2 of 3\n",
      "Filter: F356W\n",
      "grism: R\n",
      "Module: A\n",
      "/Users/npirzkal/Dropbox/mirage/JWSTSIMS-56/data/jw00042002001_01101_00002_nrca5_rate.fits Target is at  1346.0407537171914 -39.382402657040984\n",
      "32876 21.186451\n",
      "119 25.974283\n",
      "RA and DEC are: 215.0380245911 52.9322696832\n",
      "Doing  /Users/npirzkal/Dropbox/mirage/JWSTSIMS-56/data/jw00042002001_01101_00001_nrca5_rate.fits 1 of 3\n",
      "Filter: F356W\n",
      "grism: R\n",
      "Module: A\n",
      "/Users/npirzkal/Dropbox/mirage/JWSTSIMS-56/data/jw00042002001_01101_00001_nrca5_rate.fits Target is at  635.6125687107334 1439.6126133410864\n",
      "110716 23.941631\n",
      "RA and DEC are: 215.0285245911 52.9187266832\n",
      "Doing  /Users/npirzkal/Dropbox/mirage/JWSTSIMS-56/data/jw00042002001_01101_00001_nrca5_rate.fits 1 of 3\n",
      "Filter: F356W\n",
      "grism: R\n",
      "Module: A\n",
      "/Users/npirzkal/Dropbox/mirage/JWSTSIMS-56/data/jw00042002001_01101_00001_nrca5_rate.fits Target is at  966.6834262391102 667.360843053161\n",
      "26754 23.224205\n",
      "155778 23.957462\n",
      "93649 25.797955\n",
      "RA and DEC are: 215.0248235911 52.9422576832\n",
      "Doing  /Users/npirzkal/Dropbox/mirage/JWSTSIMS-56/data/jw00042002001_01101_00001_nrca5_rate.fits 1 of 3\n",
      "Filter: F356W\n",
      "grism: R\n",
      "Module: A\n",
      "/Users/npirzkal/Dropbox/mirage/JWSTSIMS-56/data/jw00042002001_01101_00001_nrca5_rate.fits Target is at  1095.4186104836806 2014.6216414196474\n",
      "71815 24.626659\n",
      "14472 23.81197\n",
      "141451 25.732655\n",
      "RA and DEC are: 215.0468585911 52.9178596832\n",
      "Doing  /Users/npirzkal/Dropbox/mirage/JWSTSIMS-56/data/jw00042002001_01101_00001_nrca5_rate.fits 1 of 3\n",
      "Filter: F356W\n",
      "grism: R\n",
      "Module: A\n",
      "/Users/npirzkal/Dropbox/mirage/JWSTSIMS-56/data/jw00042002001_01101_00001_nrca5_rate.fits Target is at  335.61285221653145 613.9194491510048\n",
      "Median data level: 1.0165241642434855\n",
      "Estimated background level: 1.002096996309166\n",
      "3.05\n",
      "4.109999999999999\n",
      "Doing  /Users/npirzkal/Dropbox/mirage/JWSTSIMS-56/data/jw00042002001_01101_00002_nrca5_rate.fits 2 of 3\n",
      "Filter: F356W\n",
      "grism: R\n",
      "Module: A\n",
      "/Users/npirzkal/Dropbox/mirage/JWSTSIMS-56/data/jw00042002001_01101_00002_nrca5_rate.fits Target is at  455.77554205519266 496.8142030557399\n",
      "Median data level: 1.0076669353484422\n",
      "Estimated background level: 0.9940412707358777\n",
      "3.05\n",
      "4.109999999999999\n",
      "Doing  /Users/npirzkal/Dropbox/mirage/JWSTSIMS-56/data/jw00042002001_01101_00003_nrca5_rate.fits 3 of 3\n",
      "Filter: F356W\n",
      "grism: R\n",
      "Module: A\n",
      "/Users/npirzkal/Dropbox/mirage/JWSTSIMS-56/data/jw00042002001_01101_00003_nrca5_rate.fits Target is at  575.654064466727 379.89865372201314\n",
      "Median data level: 1.0078249864821816\n",
      "Estimated background level: 0.994329784691824\n",
      "3.05\n",
      "4.109999999999999\n"
     ]
    },
    {
     "name": "stderr",
     "output_type": "stream",
     "text": [
      "/Users/npirzkal/anaconda3/envs/mirage/lib/python3.6/site-packages/numpy/lib/nanfunctions.py:1115: RuntimeWarning: All-NaN slice encountered\n",
      "  overwrite_input=overwrite_input)\n",
      "/Users/npirzkal/anaconda3/envs/mirage/lib/python3.6/site-packages/ipykernel_launcher.py:77: RuntimeWarning: Mean of empty slice\n",
      "/Users/npirzkal/anaconda3/envs/mirage/lib/python3.6/site-packages/ipykernel_launcher.py:78: RuntimeWarning: Mean of empty slice\n",
      "/Users/npirzkal/anaconda3/envs/mirage/lib/python3.6/site-packages/ipykernel_launcher.py:79: RuntimeWarning: Mean of empty slice\n",
      "/Users/npirzkal/anaconda3/envs/mirage/lib/python3.6/site-packages/ipykernel_launcher.py:81: RuntimeWarning: Mean of empty slice\n",
      "/Users/npirzkal/anaconda3/envs/mirage/lib/python3.6/site-packages/ipykernel_launcher.py:20: RuntimeWarning: Mean of empty slice\n",
      "/Users/npirzkal/anaconda3/envs/mirage/lib/python3.6/site-packages/ipykernel_launcher.py:26: RuntimeWarning: invalid value encountered in true_divide\n",
      "/Users/npirzkal/anaconda3/envs/mirage/lib/python3.6/site-packages/scipy/interpolate/interpolate.py:687: RuntimeWarning: invalid value encountered in less\n",
      "  below_bounds = x_new < self.x[0]\n",
      "/Users/npirzkal/anaconda3/envs/mirage/lib/python3.6/site-packages/scipy/interpolate/interpolate.py:688: RuntimeWarning: invalid value encountered in greater\n",
      "  above_bounds = x_new > self.x[-1]\n",
      "/Users/npirzkal/anaconda3/envs/mirage/lib/python3.6/site-packages/ipykernel_launcher.py:29: RuntimeWarning: divide by zero encountered in true_divide\n",
      "/Users/npirzkal/anaconda3/envs/mirage/lib/python3.6/site-packages/ipykernel_launcher.py:34: RuntimeWarning: invalid value encountered in true_divide\n",
      "/Users/npirzkal/anaconda3/envs/mirage/lib/python3.6/site-packages/ipykernel_launcher.py:35: RuntimeWarning: divide by zero encountered in true_divide\n"
     ]
    },
    {
     "name": "stdout",
     "output_type": "stream",
     "text": [
      "104588 24.713345\n",
      "141453 24.632362\n",
      "166031 25.285282\n",
      "RA and DEC are: 215.0206545911 52.9107376832\n",
      "Doing  /Users/npirzkal/Dropbox/mirage/JWSTSIMS-56/data/jw00042002001_01101_00001_nrca5_rate.fits 1 of 3\n",
      "Filter: F356W\n",
      "grism: R\n",
      "Module: A\n",
      "/Users/npirzkal/Dropbox/mirage/JWSTSIMS-56/data/jw00042002001_01101_00001_nrca5_rate.fits Target is at  1237.4233304488152 216.8705490387356\n"
     ]
    },
    {
     "name": "stderr",
     "output_type": "stream",
     "text": [
      "/Users/npirzkal/anaconda3/envs/mirage/lib/python3.6/site-packages/ipykernel_launcher.py:82: RuntimeWarning: invalid value encountered in true_divide\n",
      "/Users/npirzkal/anaconda3/envs/mirage/lib/python3.6/site-packages/ipykernel_launcher.py:84: RuntimeWarning: invalid value encountered in true_divide\n"
     ]
    },
    {
     "name": "stdout",
     "output_type": "stream",
     "text": [
      "Median data level: 1.0165241642434855\n",
      "Estimated background level: 1.002096996309166\n",
      "3.05\n",
      "4.109999999999999\n",
      "Doing  /Users/npirzkal/Dropbox/mirage/JWSTSIMS-56/data/jw00042002001_01101_00002_nrca5_rate.fits 2 of 3\n",
      "Filter: F356W\n",
      "grism: R\n",
      "Module: A\n",
      "/Users/npirzkal/Dropbox/mirage/JWSTSIMS-56/data/jw00042002001_01101_00002_nrca5_rate.fits Target is at  1355.4415611115082 100.38852006080197\n",
      "Median data level: 1.0076669353484422\n",
      "Estimated background level: 0.9940412707358777\n",
      "3.05\n",
      "4.109999999999999\n",
      "Doing  /Users/npirzkal/Dropbox/mirage/JWSTSIMS-56/data/jw00042002001_01101_00003_nrca5_rate.fits 3 of 3\n",
      "Filter: F356W\n",
      "grism: R\n",
      "Module: A\n",
      "/Users/npirzkal/Dropbox/mirage/JWSTSIMS-56/data/jw00042002001_01101_00003_nrca5_rate.fits Target is at  1472.9824063876415 -15.739616420715947\n",
      "96398 25.157848\n",
      "RA and DEC are: 215.0040975911 52.9422336832\n",
      "Doing  /Users/npirzkal/Dropbox/mirage/JWSTSIMS-56/data/jw00042002001_01101_00001_nrca5_rate.fits 1 of 3\n",
      "Filter: F356W\n",
      "grism: R\n",
      "Module: A\n",
      "/Users/npirzkal/Dropbox/mirage/JWSTSIMS-56/data/jw00042002001_01101_00001_nrca5_rate.fits Target is at  1816.812215652491 2008.293189452675\n",
      "Median data level: 1.0165241642434855\n",
      "Estimated background level: 1.002096996309166\n",
      "3.05\n",
      "4.109999999999999\n",
      "Doing  /Users/npirzkal/Dropbox/mirage/JWSTSIMS-56/data/jw00042002001_01101_00002_nrca5_rate.fits 2 of 3\n",
      "Filter: F356W\n",
      "grism: R\n",
      "Module: A\n",
      "/Users/npirzkal/Dropbox/mirage/JWSTSIMS-56/data/jw00042002001_01101_00002_nrca5_rate.fits Target is at  1935.4809277608624 1887.5775364958583\n",
      "Median data level: 1.0076669353484422\n",
      "Estimated background level: 0.9940412707358777\n",
      "3.05\n",
      "4.109999999999999\n",
      "Doing  /Users/npirzkal/Dropbox/mirage/JWSTSIMS-56/data/jw00042002001_01101_00003_nrca5_rate.fits 3 of 3\n",
      "Filter: F356W\n",
      "grism: R\n",
      "Module: A\n",
      "/Users/npirzkal/Dropbox/mirage/JWSTSIMS-56/data/jw00042002001_01101_00003_nrca5_rate.fits Target is at  2053.7180454639833 1766.94130868188\n",
      "Median data level: 1.0078249864821816\n",
      "Estimated background level: 0.994329784691824\n",
      "3.05\n",
      "4.109999999999999\n"
     ]
    },
    {
     "name": "stderr",
     "output_type": "stream",
     "text": [
      "/Users/npirzkal/anaconda3/envs/mirage/lib/python3.6/site-packages/numpy/lib/nanfunctions.py:1115: RuntimeWarning: All-NaN slice encountered\n",
      "  overwrite_input=overwrite_input)\n",
      "/Users/npirzkal/anaconda3/envs/mirage/lib/python3.6/site-packages/ipykernel_launcher.py:77: RuntimeWarning: Mean of empty slice\n",
      "/Users/npirzkal/anaconda3/envs/mirage/lib/python3.6/site-packages/ipykernel_launcher.py:78: RuntimeWarning: Mean of empty slice\n",
      "/Users/npirzkal/anaconda3/envs/mirage/lib/python3.6/site-packages/ipykernel_launcher.py:79: RuntimeWarning: Mean of empty slice\n",
      "/Users/npirzkal/anaconda3/envs/mirage/lib/python3.6/site-packages/ipykernel_launcher.py:81: RuntimeWarning: Mean of empty slice\n",
      "/Users/npirzkal/anaconda3/envs/mirage/lib/python3.6/site-packages/ipykernel_launcher.py:20: RuntimeWarning: Mean of empty slice\n",
      "/Users/npirzkal/anaconda3/envs/mirage/lib/python3.6/site-packages/ipykernel_launcher.py:26: RuntimeWarning: invalid value encountered in true_divide\n",
      "/Users/npirzkal/anaconda3/envs/mirage/lib/python3.6/site-packages/scipy/interpolate/interpolate.py:687: RuntimeWarning: invalid value encountered in less\n",
      "  below_bounds = x_new < self.x[0]\n",
      "/Users/npirzkal/anaconda3/envs/mirage/lib/python3.6/site-packages/scipy/interpolate/interpolate.py:688: RuntimeWarning: invalid value encountered in greater\n",
      "  above_bounds = x_new > self.x[-1]\n",
      "/Users/npirzkal/anaconda3/envs/mirage/lib/python3.6/site-packages/ipykernel_launcher.py:34: RuntimeWarning: invalid value encountered in true_divide\n"
     ]
    },
    {
     "name": "stdout",
     "output_type": "stream",
     "text": [
      "26770 25.388866\n",
      "RA and DEC are: 215.0424345911 52.9198326832\n",
      "Doing  /Users/npirzkal/Dropbox/mirage/JWSTSIMS-56/data/jw00042002001_01101_00001_nrca5_rate.fits 1 of 3\n",
      "Filter: F356W\n",
      "grism: R\n",
      "Module: A\n",
      "/Users/npirzkal/Dropbox/mirage/JWSTSIMS-56/data/jw00042002001_01101_00001_nrca5_rate.fits Target is at  486.9669639732616 727.4165063960734\n"
     ]
    },
    {
     "name": "stderr",
     "output_type": "stream",
     "text": [
      "/Users/npirzkal/anaconda3/envs/mirage/lib/python3.6/site-packages/ipykernel_launcher.py:82: RuntimeWarning: invalid value encountered in true_divide\n",
      "/Users/npirzkal/anaconda3/envs/mirage/lib/python3.6/site-packages/ipykernel_launcher.py:84: RuntimeWarning: invalid value encountered in true_divide\n"
     ]
    },
    {
     "name": "stdout",
     "output_type": "stream",
     "text": [
      "Median data level: 1.0165241642434855\n",
      "Estimated background level: 1.002096996309166\n",
      "3.05\n",
      "4.109999999999999\n",
      "Doing  /Users/npirzkal/Dropbox/mirage/JWSTSIMS-56/data/jw00042002001_01101_00002_nrca5_rate.fits 2 of 3\n",
      "Filter: F356W\n",
      "grism: R\n",
      "Module: A\n",
      "/Users/npirzkal/Dropbox/mirage/JWSTSIMS-56/data/jw00042002001_01101_00002_nrca5_rate.fits Target is at  607.031780714649 609.9394141163546\n",
      "Median data level: 1.0076669353484422\n",
      "Estimated background level: 0.9940412707358777\n",
      "3.05\n",
      "4.109999999999999\n",
      "Doing  /Users/npirzkal/Dropbox/mirage/JWSTSIMS-56/data/jw00042002001_01101_00003_nrca5_rate.fits 3 of 3\n",
      "Filter: F356W\n",
      "grism: R\n",
      "Module: A\n",
      "/Users/npirzkal/Dropbox/mirage/JWSTSIMS-56/data/jw00042002001_01101_00003_nrca5_rate.fits Target is at  726.7941537045117 492.6464929905429\n",
      "Median data level: 1.0078249864821816\n",
      "Estimated background level: 0.994329784691824\n",
      "3.05\n",
      "4.109999999999999\n"
     ]
    },
    {
     "name": "stderr",
     "output_type": "stream",
     "text": [
      "/Users/npirzkal/anaconda3/envs/mirage/lib/python3.6/site-packages/numpy/lib/nanfunctions.py:1115: RuntimeWarning: All-NaN slice encountered\n",
      "  overwrite_input=overwrite_input)\n",
      "/Users/npirzkal/anaconda3/envs/mirage/lib/python3.6/site-packages/ipykernel_launcher.py:77: RuntimeWarning: Mean of empty slice\n",
      "/Users/npirzkal/anaconda3/envs/mirage/lib/python3.6/site-packages/ipykernel_launcher.py:78: RuntimeWarning: Mean of empty slice\n",
      "/Users/npirzkal/anaconda3/envs/mirage/lib/python3.6/site-packages/ipykernel_launcher.py:79: RuntimeWarning: Mean of empty slice\n",
      "/Users/npirzkal/anaconda3/envs/mirage/lib/python3.6/site-packages/ipykernel_launcher.py:81: RuntimeWarning: Mean of empty slice\n",
      "/Users/npirzkal/anaconda3/envs/mirage/lib/python3.6/site-packages/ipykernel_launcher.py:20: RuntimeWarning: Mean of empty slice\n",
      "/Users/npirzkal/anaconda3/envs/mirage/lib/python3.6/site-packages/ipykernel_launcher.py:26: RuntimeWarning: invalid value encountered in true_divide\n",
      "/Users/npirzkal/anaconda3/envs/mirage/lib/python3.6/site-packages/scipy/interpolate/interpolate.py:687: RuntimeWarning: invalid value encountered in less\n",
      "  below_bounds = x_new < self.x[0]\n",
      "/Users/npirzkal/anaconda3/envs/mirage/lib/python3.6/site-packages/scipy/interpolate/interpolate.py:688: RuntimeWarning: invalid value encountered in greater\n",
      "  above_bounds = x_new > self.x[-1]\n",
      "/Users/npirzkal/anaconda3/envs/mirage/lib/python3.6/site-packages/ipykernel_launcher.py:29: RuntimeWarning: divide by zero encountered in true_divide\n",
      "/Users/npirzkal/anaconda3/envs/mirage/lib/python3.6/site-packages/ipykernel_launcher.py:34: RuntimeWarning: invalid value encountered in true_divide\n",
      "/Users/npirzkal/anaconda3/envs/mirage/lib/python3.6/site-packages/ipykernel_launcher.py:35: RuntimeWarning: divide by zero encountered in true_divide\n"
     ]
    },
    {
     "name": "stdout",
     "output_type": "stream",
     "text": [
      "51351 24.213711\n",
      "77976 25.9524\n",
      "RA and DEC are: 215.0172935911 52.9239016832\n",
      "Doing  /Users/npirzkal/Dropbox/mirage/JWSTSIMS-56/data/jw00042002001_01101_00001_nrca5_rate.fits 1 of 3\n",
      "Filter: F356W\n",
      "grism: R\n",
      "Module: A\n",
      "/Users/npirzkal/Dropbox/mirage/JWSTSIMS-56/data/jw00042002001_01101_00001_nrca5_rate.fits Target is at  1353.834704911982 962.3311512276795\n"
     ]
    },
    {
     "name": "stderr",
     "output_type": "stream",
     "text": [
      "/Users/npirzkal/anaconda3/envs/mirage/lib/python3.6/site-packages/ipykernel_launcher.py:82: RuntimeWarning: invalid value encountered in true_divide\n",
      "/Users/npirzkal/anaconda3/envs/mirage/lib/python3.6/site-packages/ipykernel_launcher.py:84: RuntimeWarning: invalid value encountered in true_divide\n"
     ]
    },
    {
     "name": "stdout",
     "output_type": "stream",
     "text": [
      "Median data level: 1.0165241642434855\n",
      "Estimated background level: 1.002096996309166\n",
      "3.05\n",
      "4.109999999999999\n",
      "Doing  /Users/npirzkal/Dropbox/mirage/JWSTSIMS-56/data/jw00042002001_01101_00002_nrca5_rate.fits 2 of 3\n",
      "Filter: F356W\n",
      "grism: R\n",
      "Module: A\n",
      "/Users/npirzkal/Dropbox/mirage/JWSTSIMS-56/data/jw00042002001_01101_00002_nrca5_rate.fits Target is at  1472.5273159515546 843.7817259365364\n",
      "Median data level: 1.0076669353484422\n",
      "Estimated background level: 0.9940412707358777\n",
      "3.05\n",
      "4.109999999999999\n",
      "Doing  /Users/npirzkal/Dropbox/mirage/JWSTSIMS-56/data/jw00042002001_01101_00003_nrca5_rate.fits 3 of 3\n",
      "Filter: F356W\n",
      "grism: R\n",
      "Module: A\n",
      "/Users/npirzkal/Dropbox/mirage/JWSTSIMS-56/data/jw00042002001_01101_00003_nrca5_rate.fits Target is at  1590.7889764087117 725.4579728048169\n",
      "Median data level: 1.0078249864821816\n",
      "Estimated background level: 0.994329784691824\n",
      "3.05\n",
      "4.109999999999999\n"
     ]
    },
    {
     "name": "stderr",
     "output_type": "stream",
     "text": [
      "/Users/npirzkal/anaconda3/envs/mirage/lib/python3.6/site-packages/numpy/lib/nanfunctions.py:1115: RuntimeWarning: All-NaN slice encountered\n",
      "  overwrite_input=overwrite_input)\n",
      "/Users/npirzkal/anaconda3/envs/mirage/lib/python3.6/site-packages/ipykernel_launcher.py:77: RuntimeWarning: Mean of empty slice\n",
      "/Users/npirzkal/anaconda3/envs/mirage/lib/python3.6/site-packages/ipykernel_launcher.py:78: RuntimeWarning: Mean of empty slice\n",
      "/Users/npirzkal/anaconda3/envs/mirage/lib/python3.6/site-packages/ipykernel_launcher.py:79: RuntimeWarning: Mean of empty slice\n",
      "/Users/npirzkal/anaconda3/envs/mirage/lib/python3.6/site-packages/ipykernel_launcher.py:81: RuntimeWarning: Mean of empty slice\n",
      "/Users/npirzkal/anaconda3/envs/mirage/lib/python3.6/site-packages/ipykernel_launcher.py:20: RuntimeWarning: Mean of empty slice\n",
      "/Users/npirzkal/anaconda3/envs/mirage/lib/python3.6/site-packages/ipykernel_launcher.py:26: RuntimeWarning: invalid value encountered in true_divide\n",
      "/Users/npirzkal/anaconda3/envs/mirage/lib/python3.6/site-packages/scipy/interpolate/interpolate.py:687: RuntimeWarning: invalid value encountered in less\n",
      "  below_bounds = x_new < self.x[0]\n",
      "/Users/npirzkal/anaconda3/envs/mirage/lib/python3.6/site-packages/scipy/interpolate/interpolate.py:688: RuntimeWarning: invalid value encountered in greater\n",
      "  above_bounds = x_new > self.x[-1]\n",
      "/Users/npirzkal/anaconda3/envs/mirage/lib/python3.6/site-packages/ipykernel_launcher.py:29: RuntimeWarning: divide by zero encountered in true_divide\n",
      "/Users/npirzkal/anaconda3/envs/mirage/lib/python3.6/site-packages/ipykernel_launcher.py:34: RuntimeWarning: invalid value encountered in true_divide\n",
      "/Users/npirzkal/anaconda3/envs/mirage/lib/python3.6/site-packages/ipykernel_launcher.py:35: RuntimeWarning: divide by zero encountered in true_divide\n"
     ]
    },
    {
     "name": "stdout",
     "output_type": "stream",
     "text": [
      "12442 24.864979\n",
      "RA and DEC are: 215.0074025911 52.9245946832\n",
      "Doing  /Users/npirzkal/Dropbox/mirage/JWSTSIMS-56/data/jw00042002001_01101_00001_nrca5_rate.fits 1 of 3\n",
      "Filter: F356W\n",
      "grism: R\n",
      "Module: A\n",
      "/Users/npirzkal/Dropbox/mirage/JWSTSIMS-56/data/jw00042002001_01101_00001_nrca5_rate.fits Target is at  1694.756807053402 1000.9903003499273\n",
      "233637 25.982218\n",
      "RA and DEC are: 215.0112475911 52.9113606832\n",
      "Doing  /Users/npirzkal/Dropbox/mirage/JWSTSIMS-56/data/jw00042002001_01101_00001_nrca5_rate.fits 1 of 3\n",
      "Filter: F356W\n",
      "grism: R\n",
      "Module: A\n",
      "/Users/npirzkal/Dropbox/mirage/JWSTSIMS-56/data/jw00042002001_01101_00001_nrca5_rate.fits Target is at  1558.8506062224278 252.68764450399658\n",
      "213157 25.975071\n",
      "RA and DEC are: 215.0404835911 52.9401606832\n",
      "Doing  /Users/npirzkal/Dropbox/mirage/JWSTSIMS-56/data/jw00042002001_01101_00001_nrca5_rate.fits 1 of 3\n",
      "Filter: F356W\n",
      "grism: R\n",
      "Module: A\n",
      "/Users/npirzkal/Dropbox/mirage/JWSTSIMS-56/data/jw00042002001_01101_00001_nrca5_rate.fits Target is at  548.7718279083506 1893.1331861337515\n",
      "1879 25.824976\n",
      "RA and DEC are: 214.9937095911 52.9423906832\n",
      "Doing  /Users/npirzkal/Dropbox/mirage/JWSTSIMS-56/data/jw00042002001_01101_00001_nrca5_rate.fits 1 of 3\n",
      "Filter: F356W\n",
      "grism: R\n",
      "Module: A\n",
      "/Users/npirzkal/Dropbox/mirage/JWSTSIMS-56/data/jw00042002001_01101_00001_nrca5_rate.fits Target is at  2176.3348928748546 2012.2732454979005\n",
      "26793 25.514088\n",
      "RA and DEC are: 215.0445675911 52.9311746832\n",
      "Doing  /Users/npirzkal/Dropbox/mirage/JWSTSIMS-56/data/jw00042002001_01101_00001_nrca5_rate.fits 1 of 3\n",
      "Filter: F356W\n",
      "grism: R\n",
      "Module: A\n",
      "/Users/npirzkal/Dropbox/mirage/JWSTSIMS-56/data/jw00042002001_01101_00001_nrca5_rate.fits Target is at  408.60509219270386 1375.3526525982363\n",
      "129195 24.367596\n",
      "51372 22.041115\n",
      "112811 23.083214\n",
      "8376 25.531536\n",
      "RA and DEC are: 215.0387305911 52.9363536832\n",
      "Doing  /Users/npirzkal/Dropbox/mirage/JWSTSIMS-56/data/jw00042002001_01101_00001_nrca5_rate.fits 1 of 3\n",
      "Filter: F356W\n",
      "grism: R\n",
      "Module: A\n",
      "/Users/npirzkal/Dropbox/mirage/JWSTSIMS-56/data/jw00042002001_01101_00001_nrca5_rate.fits Target is at  610.3740156548195 1674.2343359674792\n"
     ]
    },
    {
     "name": "stderr",
     "output_type": "stream",
     "text": [
      "/Users/npirzkal/anaconda3/envs/mirage/lib/python3.6/site-packages/ipykernel_launcher.py:82: RuntimeWarning: invalid value encountered in true_divide\n",
      "/Users/npirzkal/anaconda3/envs/mirage/lib/python3.6/site-packages/ipykernel_launcher.py:84: RuntimeWarning: invalid value encountered in true_divide\n"
     ]
    },
    {
     "name": "stdout",
     "output_type": "stream",
     "text": [
      "Median data level: 1.0165241642434855\n",
      "Estimated background level: 1.002096996309166\n",
      "3.05\n",
      "4.109999999999999\n",
      "Doing  /Users/npirzkal/Dropbox/mirage/JWSTSIMS-56/data/jw00042002001_01101_00002_nrca5_rate.fits 2 of 3\n",
      "Filter: F356W\n",
      "grism: R\n",
      "Module: A\n",
      "/Users/npirzkal/Dropbox/mirage/JWSTSIMS-56/data/jw00042002001_01101_00002_nrca5_rate.fits Target is at  731.0106049556357 1554.998048855822\n",
      "Median data level: 1.0076669353484422\n",
      "Estimated background level: 0.9940412707358777\n",
      "3.05\n",
      "4.109999999999999\n",
      "Doing  /Users/npirzkal/Dropbox/mirage/JWSTSIMS-56/data/jw00042002001_01101_00003_nrca5_rate.fits 3 of 3\n",
      "Filter: F356W\n",
      "grism: R\n",
      "Module: A\n",
      "/Users/npirzkal/Dropbox/mirage/JWSTSIMS-56/data/jw00042002001_01101_00003_nrca5_rate.fits Target is at  851.4056437271671 1435.7888295111334\n",
      "Median data level: 1.0078249864821816\n",
      "Estimated background level: 0.994329784691824\n",
      "3.05\n",
      "4.109999999999999\n"
     ]
    },
    {
     "name": "stderr",
     "output_type": "stream",
     "text": [
      "/Users/npirzkal/anaconda3/envs/mirage/lib/python3.6/site-packages/numpy/lib/nanfunctions.py:1115: RuntimeWarning: All-NaN slice encountered\n",
      "  overwrite_input=overwrite_input)\n",
      "/Users/npirzkal/anaconda3/envs/mirage/lib/python3.6/site-packages/ipykernel_launcher.py:77: RuntimeWarning: Mean of empty slice\n",
      "/Users/npirzkal/anaconda3/envs/mirage/lib/python3.6/site-packages/ipykernel_launcher.py:78: RuntimeWarning: Mean of empty slice\n",
      "/Users/npirzkal/anaconda3/envs/mirage/lib/python3.6/site-packages/ipykernel_launcher.py:79: RuntimeWarning: Mean of empty slice\n",
      "/Users/npirzkal/anaconda3/envs/mirage/lib/python3.6/site-packages/ipykernel_launcher.py:81: RuntimeWarning: Mean of empty slice\n",
      "/Users/npirzkal/anaconda3/envs/mirage/lib/python3.6/site-packages/ipykernel_launcher.py:20: RuntimeWarning: Mean of empty slice\n",
      "/Users/npirzkal/anaconda3/envs/mirage/lib/python3.6/site-packages/ipykernel_launcher.py:26: RuntimeWarning: invalid value encountered in true_divide\n",
      "/Users/npirzkal/anaconda3/envs/mirage/lib/python3.6/site-packages/scipy/interpolate/interpolate.py:687: RuntimeWarning: invalid value encountered in less\n",
      "  below_bounds = x_new < self.x[0]\n",
      "/Users/npirzkal/anaconda3/envs/mirage/lib/python3.6/site-packages/scipy/interpolate/interpolate.py:688: RuntimeWarning: invalid value encountered in greater\n",
      "  above_bounds = x_new > self.x[-1]\n",
      "/Users/npirzkal/anaconda3/envs/mirage/lib/python3.6/site-packages/ipykernel_launcher.py:29: RuntimeWarning: divide by zero encountered in true_divide\n",
      "/Users/npirzkal/anaconda3/envs/mirage/lib/python3.6/site-packages/ipykernel_launcher.py:34: RuntimeWarning: invalid value encountered in true_divide\n",
      "/Users/npirzkal/anaconda3/envs/mirage/lib/python3.6/site-packages/ipykernel_launcher.py:35: RuntimeWarning: divide by zero encountered in true_divide\n"
     ]
    },
    {
     "name": "stdout",
     "output_type": "stream",
     "text": [
      "139454 25.531487\n",
      "RA and DEC are: 215.0000835911 52.9344906832\n",
      "Doing  /Users/npirzkal/Dropbox/mirage/JWSTSIMS-56/data/jw00042002001_01101_00001_nrca5_rate.fits 1 of 3\n",
      "Filter: F356W\n",
      "grism: R\n",
      "Module: A\n",
      "/Users/npirzkal/Dropbox/mirage/JWSTSIMS-56/data/jw00042002001_01101_00001_nrca5_rate.fits Target is at  1951.6352284788688 1563.5497635454017\n"
     ]
    },
    {
     "name": "stderr",
     "output_type": "stream",
     "text": [
      "/Users/npirzkal/anaconda3/envs/mirage/lib/python3.6/site-packages/ipykernel_launcher.py:82: RuntimeWarning: invalid value encountered in true_divide\n",
      "/Users/npirzkal/anaconda3/envs/mirage/lib/python3.6/site-packages/ipykernel_launcher.py:84: RuntimeWarning: invalid value encountered in true_divide\n"
     ]
    },
    {
     "name": "stdout",
     "output_type": "stream",
     "text": [
      "Median data level: 1.0165241642434855\n",
      "Estimated background level: 1.002096996309166\n",
      "3.05\n",
      "4.109999999999999\n",
      "Doing  /Users/npirzkal/Dropbox/mirage/JWSTSIMS-56/data/jw00042002001_01101_00002_nrca5_rate.fits 2 of 3\n",
      "Filter: F356W\n",
      "grism: R\n",
      "Module: A\n",
      "/Users/npirzkal/Dropbox/mirage/JWSTSIMS-56/data/jw00042002001_01101_00002_nrca5_rate.fits Target is at  2069.485572364306 1443.448675697091\n",
      "Median data level: 1.0076669353484422\n",
      "Estimated background level: 0.9940412707358777\n",
      "3.05\n",
      "4.109999999999999\n",
      "Doing  /Users/npirzkal/Dropbox/mirage/JWSTSIMS-56/data/jw00042002001_01101_00003_nrca5_rate.fits 3 of 3\n",
      "Filter: F356W\n",
      "grism: R\n",
      "Module: A\n",
      "/Users/npirzkal/Dropbox/mirage/JWSTSIMS-56/data/jw00042002001_01101_00003_nrca5_rate.fits Target is at  2186.8417311046187 1323.5258490122173\n",
      "Median data level: 1.0078249864821816\n",
      "Estimated background level: 0.994329784691824\n",
      "3.05\n",
      "4.109999999999999\n"
     ]
    },
    {
     "name": "stderr",
     "output_type": "stream",
     "text": [
      "/Users/npirzkal/anaconda3/envs/mirage/lib/python3.6/site-packages/numpy/lib/nanfunctions.py:1115: RuntimeWarning: All-NaN slice encountered\n",
      "  overwrite_input=overwrite_input)\n",
      "/Users/npirzkal/anaconda3/envs/mirage/lib/python3.6/site-packages/ipykernel_launcher.py:77: RuntimeWarning: Mean of empty slice\n",
      "/Users/npirzkal/anaconda3/envs/mirage/lib/python3.6/site-packages/ipykernel_launcher.py:78: RuntimeWarning: Mean of empty slice\n",
      "/Users/npirzkal/anaconda3/envs/mirage/lib/python3.6/site-packages/ipykernel_launcher.py:79: RuntimeWarning: Mean of empty slice\n",
      "/Users/npirzkal/anaconda3/envs/mirage/lib/python3.6/site-packages/ipykernel_launcher.py:81: RuntimeWarning: Mean of empty slice\n",
      "/Users/npirzkal/anaconda3/envs/mirage/lib/python3.6/site-packages/ipykernel_launcher.py:20: RuntimeWarning: Mean of empty slice\n",
      "/Users/npirzkal/anaconda3/envs/mirage/lib/python3.6/site-packages/ipykernel_launcher.py:26: RuntimeWarning: invalid value encountered in true_divide\n",
      "/Users/npirzkal/anaconda3/envs/mirage/lib/python3.6/site-packages/scipy/interpolate/interpolate.py:687: RuntimeWarning: invalid value encountered in less\n",
      "  below_bounds = x_new < self.x[0]\n",
      "/Users/npirzkal/anaconda3/envs/mirage/lib/python3.6/site-packages/scipy/interpolate/interpolate.py:688: RuntimeWarning: invalid value encountered in greater\n",
      "  above_bounds = x_new > self.x[-1]\n",
      "/Users/npirzkal/anaconda3/envs/mirage/lib/python3.6/site-packages/ipykernel_launcher.py:34: RuntimeWarning: invalid value encountered in true_divide\n"
     ]
    },
    {
     "name": "stdout",
     "output_type": "stream",
     "text": [
      "65727 25.967327\n",
      "RA and DEC are: 215.0156465911 52.9204336832\n",
      "Doing  /Users/npirzkal/Dropbox/mirage/JWSTSIMS-56/data/jw00042002001_01101_00001_nrca5_rate.fits 1 of 3\n",
      "Filter: F356W\n",
      "grism: R\n",
      "Module: A\n",
      "/Users/npirzkal/Dropbox/mirage/JWSTSIMS-56/data/jw00042002001_01101_00001_nrca5_rate.fits Target is at  1409.9764989681548 765.1195818337649\n"
     ]
    },
    {
     "name": "stderr",
     "output_type": "stream",
     "text": [
      "/Users/npirzkal/anaconda3/envs/mirage/lib/python3.6/site-packages/ipykernel_launcher.py:82: RuntimeWarning: invalid value encountered in true_divide\n",
      "/Users/npirzkal/anaconda3/envs/mirage/lib/python3.6/site-packages/ipykernel_launcher.py:84: RuntimeWarning: invalid value encountered in true_divide\n"
     ]
    },
    {
     "name": "stdout",
     "output_type": "stream",
     "text": [
      "Median data level: 1.0165241642434855\n",
      "Estimated background level: 1.002096996309166\n",
      "3.05\n",
      "4.109999999999999\n",
      "Doing  /Users/npirzkal/Dropbox/mirage/JWSTSIMS-56/data/jw00042002001_01101_00002_nrca5_rate.fits 2 of 3\n",
      "Filter: F356W\n",
      "grism: R\n",
      "Module: A\n",
      "/Users/npirzkal/Dropbox/mirage/JWSTSIMS-56/data/jw00042002001_01101_00002_nrca5_rate.fits Target is at  1528.3001931044632 647.0245808793732\n",
      "Median data level: 1.0076669353484422\n",
      "Estimated background level: 0.9940412707358777\n",
      "3.05\n",
      "4.109999999999999\n",
      "Doing  /Users/npirzkal/Dropbox/mirage/JWSTSIMS-56/data/jw00042002001_01101_00003_nrca5_rate.fits 3 of 3\n",
      "Filter: F356W\n",
      "grism: R\n",
      "Module: A\n",
      "/Users/npirzkal/Dropbox/mirage/JWSTSIMS-56/data/jw00042002001_01101_00003_nrca5_rate.fits Target is at  1646.1660821947412 529.1955602272171\n",
      "Median data level: 1.0078249864821816\n",
      "Estimated background level: 0.994329784691824\n",
      "3.05\n",
      "4.109999999999999\n"
     ]
    },
    {
     "name": "stderr",
     "output_type": "stream",
     "text": [
      "/Users/npirzkal/anaconda3/envs/mirage/lib/python3.6/site-packages/numpy/lib/nanfunctions.py:1115: RuntimeWarning: All-NaN slice encountered\n",
      "  overwrite_input=overwrite_input)\n",
      "/Users/npirzkal/anaconda3/envs/mirage/lib/python3.6/site-packages/ipykernel_launcher.py:77: RuntimeWarning: Mean of empty slice\n",
      "/Users/npirzkal/anaconda3/envs/mirage/lib/python3.6/site-packages/ipykernel_launcher.py:78: RuntimeWarning: Mean of empty slice\n",
      "/Users/npirzkal/anaconda3/envs/mirage/lib/python3.6/site-packages/ipykernel_launcher.py:79: RuntimeWarning: Mean of empty slice\n",
      "/Users/npirzkal/anaconda3/envs/mirage/lib/python3.6/site-packages/ipykernel_launcher.py:81: RuntimeWarning: Mean of empty slice\n",
      "/Users/npirzkal/anaconda3/envs/mirage/lib/python3.6/site-packages/ipykernel_launcher.py:20: RuntimeWarning: Mean of empty slice\n",
      "/Users/npirzkal/anaconda3/envs/mirage/lib/python3.6/site-packages/ipykernel_launcher.py:26: RuntimeWarning: invalid value encountered in true_divide\n",
      "/Users/npirzkal/anaconda3/envs/mirage/lib/python3.6/site-packages/scipy/interpolate/interpolate.py:687: RuntimeWarning: invalid value encountered in less\n",
      "  below_bounds = x_new < self.x[0]\n",
      "/Users/npirzkal/anaconda3/envs/mirage/lib/python3.6/site-packages/scipy/interpolate/interpolate.py:688: RuntimeWarning: invalid value encountered in greater\n",
      "  above_bounds = x_new > self.x[-1]\n",
      "/Users/npirzkal/anaconda3/envs/mirage/lib/python3.6/site-packages/ipykernel_launcher.py:29: RuntimeWarning: divide by zero encountered in true_divide\n",
      "/Users/npirzkal/anaconda3/envs/mirage/lib/python3.6/site-packages/ipykernel_launcher.py:34: RuntimeWarning: invalid value encountered in true_divide\n",
      "/Users/npirzkal/anaconda3/envs/mirage/lib/python3.6/site-packages/ipykernel_launcher.py:35: RuntimeWarning: divide by zero encountered in true_divide\n"
     ]
    },
    {
     "name": "stdout",
     "output_type": "stream",
     "text": [
      "198846 23.285774\n",
      "121025 24.141979\n",
      "RA and DEC are: 215.0292635911 52.9099086832\n",
      "Doing  /Users/npirzkal/Dropbox/mirage/JWSTSIMS-56/data/jw00042002001_01101_00001_nrca5_rate.fits 1 of 3\n",
      "Filter: F356W\n",
      "grism: R\n",
      "Module: A\n",
      "/Users/npirzkal/Dropbox/mirage/JWSTSIMS-56/data/jw00042002001_01101_00001_nrca5_rate.fits Target is at  943.064429709697 168.8506760311849\n"
     ]
    },
    {
     "name": "stderr",
     "output_type": "stream",
     "text": [
      "/Users/npirzkal/anaconda3/envs/mirage/lib/python3.6/site-packages/ipykernel_launcher.py:82: RuntimeWarning: invalid value encountered in true_divide\n",
      "/Users/npirzkal/anaconda3/envs/mirage/lib/python3.6/site-packages/ipykernel_launcher.py:84: RuntimeWarning: invalid value encountered in true_divide\n"
     ]
    },
    {
     "name": "stdout",
     "output_type": "stream",
     "text": [
      "Median data level: 1.0165241642434855\n",
      "Estimated background level: 1.002096996309166\n",
      "3.05\n",
      "4.109999999999999\n",
      "Doing  /Users/npirzkal/Dropbox/mirage/JWSTSIMS-56/data/jw00042002001_01101_00002_nrca5_rate.fits 2 of 3\n",
      "Filter: F356W\n",
      "grism: R\n",
      "Module: A\n",
      "/Users/npirzkal/Dropbox/mirage/JWSTSIMS-56/data/jw00042002001_01101_00002_nrca5_rate.fits Target is at  1061.691734895505 52.60414558992852\n",
      "Median data level: 1.0076669353484422\n",
      "Estimated background level: 0.9940412707358777\n",
      "3.05\n",
      "4.109999999999999\n",
      "Doing  /Users/npirzkal/Dropbox/mirage/JWSTSIMS-56/data/jw00042002001_01101_00003_nrca5_rate.fits 3 of 3\n",
      "Filter: F356W\n",
      "grism: R\n",
      "Module: A\n",
      "/Users/npirzkal/Dropbox/mirage/JWSTSIMS-56/data/jw00042002001_01101_00003_nrca5_rate.fits Target is at  1179.8912126910193 -63.311332118118116\n",
      "65730 24.574074\n",
      "RA and DEC are: 215.0132035911 52.9129586832\n",
      "Doing  /Users/npirzkal/Dropbox/mirage/JWSTSIMS-56/data/jw00042002001_01101_00001_nrca5_rate.fits 1 of 3\n",
      "Filter: F356W\n",
      "grism: R\n",
      "Module: A\n",
      "/Users/npirzkal/Dropbox/mirage/JWSTSIMS-56/data/jw00042002001_01101_00001_nrca5_rate.fits Target is at  1492.3834332771885 342.4842653434671\n",
      "245956 25.36655\n",
      "RA and DEC are: 215.0404395911 52.9124426832\n",
      "Doing  /Users/npirzkal/Dropbox/mirage/JWSTSIMS-56/data/jw00042002001_01101_00001_nrca5_rate.fits 1 of 3\n",
      "Filter: F356W\n",
      "grism: R\n",
      "Module: A\n",
      "/Users/npirzkal/Dropbox/mirage/JWSTSIMS-56/data/jw00042002001_01101_00001_nrca5_rate.fits Target is at  559.2078987289557 308.99027055676004\n",
      "Median data level: 1.0165241642434855\n",
      "Estimated background level: 1.002096996309166\n",
      "3.05\n",
      "4.109999999999999\n",
      "Doing  /Users/npirzkal/Dropbox/mirage/JWSTSIMS-56/data/jw00042002001_01101_00002_nrca5_rate.fits 2 of 3\n",
      "Filter: F356W\n",
      "grism: R\n",
      "Module: A\n",
      "/Users/npirzkal/Dropbox/mirage/JWSTSIMS-56/data/jw00042002001_01101_00002_nrca5_rate.fits Target is at  678.7306414945899 192.50911865610158\n",
      "Median data level: 1.0076669353484422\n",
      "Estimated background level: 0.9940412707358777\n",
      "3.05\n",
      "4.109999999999999\n",
      "Doing  /Users/npirzkal/Dropbox/mirage/JWSTSIMS-56/data/jw00042002001_01101_00003_nrca5_rate.fits 3 of 3\n",
      "Filter: F356W\n",
      "grism: R\n",
      "Module: A\n",
      "/Users/npirzkal/Dropbox/mirage/JWSTSIMS-56/data/jw00042002001_01101_00003_nrca5_rate.fits Target is at  797.9048858130382 76.29311585940843\n",
      "Median data level: 1.0078249864821816\n",
      "Estimated background level: 0.994329784691824\n",
      "3.05\n",
      "4.109999999999999\n"
     ]
    },
    {
     "name": "stderr",
     "output_type": "stream",
     "text": [
      "/Users/npirzkal/anaconda3/envs/mirage/lib/python3.6/site-packages/numpy/lib/nanfunctions.py:1115: RuntimeWarning: All-NaN slice encountered\n",
      "  overwrite_input=overwrite_input)\n",
      "/Users/npirzkal/anaconda3/envs/mirage/lib/python3.6/site-packages/ipykernel_launcher.py:77: RuntimeWarning: Mean of empty slice\n",
      "/Users/npirzkal/anaconda3/envs/mirage/lib/python3.6/site-packages/ipykernel_launcher.py:78: RuntimeWarning: Mean of empty slice\n",
      "/Users/npirzkal/anaconda3/envs/mirage/lib/python3.6/site-packages/ipykernel_launcher.py:79: RuntimeWarning: Mean of empty slice\n",
      "/Users/npirzkal/anaconda3/envs/mirage/lib/python3.6/site-packages/ipykernel_launcher.py:81: RuntimeWarning: Mean of empty slice\n",
      "/Users/npirzkal/anaconda3/envs/mirage/lib/python3.6/site-packages/ipykernel_launcher.py:20: RuntimeWarning: Mean of empty slice\n",
      "/Users/npirzkal/anaconda3/envs/mirage/lib/python3.6/site-packages/ipykernel_launcher.py:26: RuntimeWarning: invalid value encountered in true_divide\n",
      "/Users/npirzkal/anaconda3/envs/mirage/lib/python3.6/site-packages/scipy/interpolate/interpolate.py:687: RuntimeWarning: invalid value encountered in less\n",
      "  below_bounds = x_new < self.x[0]\n",
      "/Users/npirzkal/anaconda3/envs/mirage/lib/python3.6/site-packages/scipy/interpolate/interpolate.py:688: RuntimeWarning: invalid value encountered in greater\n",
      "  above_bounds = x_new > self.x[-1]\n",
      "/Users/npirzkal/anaconda3/envs/mirage/lib/python3.6/site-packages/ipykernel_launcher.py:29: RuntimeWarning: divide by zero encountered in true_divide\n",
      "/Users/npirzkal/anaconda3/envs/mirage/lib/python3.6/site-packages/ipykernel_launcher.py:34: RuntimeWarning: invalid value encountered in true_divide\n",
      "/Users/npirzkal/anaconda3/envs/mirage/lib/python3.6/site-packages/ipykernel_launcher.py:35: RuntimeWarning: divide by zero encountered in true_divide\n"
     ]
    },
    {
     "name": "stdout",
     "output_type": "stream",
     "text": [
      "28866 25.809578\n",
      "RA and DEC are: 215.0170385911 52.9408746832\n",
      "Doing  /Users/npirzkal/Dropbox/mirage/JWSTSIMS-56/data/jw00042002001_01101_00001_nrca5_rate.fits 1 of 3\n",
      "Filter: F356W\n",
      "grism: R\n",
      "Module: A\n",
      "/Users/npirzkal/Dropbox/mirage/JWSTSIMS-56/data/jw00042002001_01101_00001_nrca5_rate.fits Target is at  1366.4726074785303 1934.0515670694854\n"
     ]
    },
    {
     "name": "stderr",
     "output_type": "stream",
     "text": [
      "/Users/npirzkal/anaconda3/envs/mirage/lib/python3.6/site-packages/ipykernel_launcher.py:82: RuntimeWarning: invalid value encountered in true_divide\n",
      "/Users/npirzkal/anaconda3/envs/mirage/lib/python3.6/site-packages/ipykernel_launcher.py:84: RuntimeWarning: invalid value encountered in true_divide\n"
     ]
    },
    {
     "name": "stdout",
     "output_type": "stream",
     "text": [
      "Median data level: 1.0165241642434855\n",
      "Estimated background level: 1.002096996309166\n",
      "3.05\n",
      "4.109999999999999\n",
      "Doing  /Users/npirzkal/Dropbox/mirage/JWSTSIMS-56/data/jw00042002001_01101_00002_nrca5_rate.fits 2 of 3\n",
      "Filter: F356W\n",
      "grism: R\n",
      "Module: A\n",
      "/Users/npirzkal/Dropbox/mirage/JWSTSIMS-56/data/jw00042002001_01101_00002_nrca5_rate.fits Target is at  1486.0831028744915 1813.775101355263\n",
      "Median data level: 1.0076669353484422\n",
      "Estimated background level: 0.9940412707358777\n",
      "3.05\n",
      "4.109999999999999\n",
      "Doing  /Users/npirzkal/Dropbox/mirage/JWSTSIMS-56/data/jw00042002001_01101_00003_nrca5_rate.fits 3 of 3\n",
      "Filter: F356W\n",
      "grism: R\n",
      "Module: A\n",
      "/Users/npirzkal/Dropbox/mirage/JWSTSIMS-56/data/jw00042002001_01101_00003_nrca5_rate.fits Target is at  1605.3392026567267 1693.5508865703032\n",
      "Median data level: 1.0078249864821816\n",
      "Estimated background level: 0.994329784691824\n",
      "3.05\n",
      "4.109999999999999\n"
     ]
    },
    {
     "name": "stderr",
     "output_type": "stream",
     "text": [
      "/Users/npirzkal/anaconda3/envs/mirage/lib/python3.6/site-packages/numpy/lib/nanfunctions.py:1115: RuntimeWarning: All-NaN slice encountered\n",
      "  overwrite_input=overwrite_input)\n",
      "/Users/npirzkal/anaconda3/envs/mirage/lib/python3.6/site-packages/ipykernel_launcher.py:77: RuntimeWarning: Mean of empty slice\n",
      "/Users/npirzkal/anaconda3/envs/mirage/lib/python3.6/site-packages/ipykernel_launcher.py:78: RuntimeWarning: Mean of empty slice\n",
      "/Users/npirzkal/anaconda3/envs/mirage/lib/python3.6/site-packages/ipykernel_launcher.py:79: RuntimeWarning: Mean of empty slice\n",
      "/Users/npirzkal/anaconda3/envs/mirage/lib/python3.6/site-packages/ipykernel_launcher.py:81: RuntimeWarning: Mean of empty slice\n",
      "/Users/npirzkal/anaconda3/envs/mirage/lib/python3.6/site-packages/ipykernel_launcher.py:20: RuntimeWarning: Mean of empty slice\n",
      "/Users/npirzkal/anaconda3/envs/mirage/lib/python3.6/site-packages/ipykernel_launcher.py:26: RuntimeWarning: invalid value encountered in true_divide\n",
      "/Users/npirzkal/anaconda3/envs/mirage/lib/python3.6/site-packages/scipy/interpolate/interpolate.py:687: RuntimeWarning: invalid value encountered in less\n",
      "  below_bounds = x_new < self.x[0]\n",
      "/Users/npirzkal/anaconda3/envs/mirage/lib/python3.6/site-packages/scipy/interpolate/interpolate.py:688: RuntimeWarning: invalid value encountered in greater\n",
      "  above_bounds = x_new > self.x[-1]\n",
      "/Users/npirzkal/anaconda3/envs/mirage/lib/python3.6/site-packages/ipykernel_launcher.py:34: RuntimeWarning: invalid value encountered in true_divide\n"
     ]
    },
    {
     "name": "stdout",
     "output_type": "stream",
     "text": [
      "6346 25.5686\n",
      "RA and DEC are: 215.0265615911 52.9397006832\n",
      "Doing  /Users/npirzkal/Dropbox/mirage/JWSTSIMS-56/data/jw00042002001_01101_00001_nrca5_rate.fits 1 of 3\n",
      "Filter: F356W\n",
      "grism: R\n",
      "Module: A\n",
      "/Users/npirzkal/Dropbox/mirage/JWSTSIMS-56/data/jw00042002001_01101_00001_nrca5_rate.fits Target is at  1034.4338163948328 1867.588204529584\n",
      "22731 23.610176\n",
      "RA and DEC are: 215.0077365911 52.9438916832\n",
      "Doing  /Users/npirzkal/Dropbox/mirage/JWSTSIMS-56/data/jw00042002001_01101_00001_nrca5_rate.fits 1 of 3\n",
      "Filter: F356W\n",
      "grism: R\n",
      "Module: A\n",
      "/Users/npirzkal/Dropbox/mirage/JWSTSIMS-56/data/jw00042002001_01101_00001_nrca5_rate.fits Target is at  1691.2226106471771 2104.7813564252574\n",
      "53453 24.22068\n",
      "RA and DEC are: 215.0391525911 52.9097726832\n",
      "Doing  /Users/npirzkal/Dropbox/mirage/JWSTSIMS-56/data/jw00042002001_01101_00001_nrca5_rate.fits 1 of 3\n",
      "Filter: F356W\n",
      "grism: R\n",
      "Module: A\n",
      "/Users/npirzkal/Dropbox/mirage/JWSTSIMS-56/data/jw00042002001_01101_00001_nrca5_rate.fits Target is at  604.6902377971358 158.83788401325523\n",
      "114897 22.683254\n",
      "RA and DEC are: 215.0105785911 52.9107346832\n",
      "Doing  /Users/npirzkal/Dropbox/mirage/JWSTSIMS-56/data/jw00042002001_01101_00001_nrca5_rate.fits 1 of 3\n",
      "Filter: F356W\n",
      "grism: R\n",
      "Module: A\n",
      "/Users/npirzkal/Dropbox/mirage/JWSTSIMS-56/data/jw00042002001_01101_00001_nrca5_rate.fits Target is at  1581.519519415856 217.56245583767668\n"
     ]
    },
    {
     "name": "stderr",
     "output_type": "stream",
     "text": [
      "/Users/npirzkal/anaconda3/envs/mirage/lib/python3.6/site-packages/ipykernel_launcher.py:82: RuntimeWarning: invalid value encountered in true_divide\n",
      "/Users/npirzkal/anaconda3/envs/mirage/lib/python3.6/site-packages/ipykernel_launcher.py:84: RuntimeWarning: invalid value encountered in true_divide\n"
     ]
    },
    {
     "name": "stdout",
     "output_type": "stream",
     "text": [
      "Median data level: 1.0165241642434855\n",
      "Estimated background level: 1.002096996309166\n",
      "3.05\n",
      "4.109999999999999\n",
      "Doing  /Users/npirzkal/Dropbox/mirage/JWSTSIMS-56/data/jw00042002001_01101_00002_nrca5_rate.fits 2 of 3\n",
      "Filter: F356W\n",
      "grism: R\n",
      "Module: A\n",
      "/Users/npirzkal/Dropbox/mirage/JWSTSIMS-56/data/jw00042002001_01101_00002_nrca5_rate.fits Target is at  1698.6214479148448 101.02742625114479\n",
      "Median data level: 1.0076669353484422\n",
      "Estimated background level: 0.9940412707358777\n",
      "3.05\n",
      "4.109999999999999\n",
      "Doing  /Users/npirzkal/Dropbox/mirage/JWSTSIMS-56/data/jw00042002001_01101_00003_nrca5_rate.fits 3 of 3\n",
      "Filter: F356W\n",
      "grism: R\n",
      "Module: A\n",
      "/Users/npirzkal/Dropbox/mirage/JWSTSIMS-56/data/jw00042002001_01101_00003_nrca5_rate.fits Target is at  1815.176009289653 -15.110450976086895\n",
      "243922 25.936657\n",
      "RA and DEC are: 215.0459805911 52.9362516832\n",
      "Doing  /Users/npirzkal/Dropbox/mirage/JWSTSIMS-56/data/jw00042002001_01101_00001_nrca5_rate.fits 1 of 3\n",
      "Filter: F356W\n",
      "grism: R\n",
      "Module: A\n",
      "/Users/npirzkal/Dropbox/mirage/JWSTSIMS-56/data/jw00042002001_01101_00001_nrca5_rate.fits Target is at  357.9254938161846 1666.8342168695992\n",
      "6355 25.232258\n",
      "RA and DEC are: 215.0148205911 52.9126936832\n",
      "Doing  /Users/npirzkal/Dropbox/mirage/JWSTSIMS-56/data/jw00042002001_01101_00001_nrca5_rate.fits 1 of 3\n",
      "Filter: F356W\n",
      "grism: R\n",
      "Module: A\n",
      "/Users/npirzkal/Dropbox/mirage/JWSTSIMS-56/data/jw00042002001_01101_00001_nrca5_rate.fits Target is at  1437.0494478353805 327.4785371745412\n",
      "Median data level: 1.0165241642434855\n",
      "Estimated background level: 1.002096996309166\n",
      "3.05\n",
      "4.109999999999999\n",
      "Doing  /Users/npirzkal/Dropbox/mirage/JWSTSIMS-56/data/jw00042002001_01101_00002_nrca5_rate.fits 2 of 3\n",
      "Filter: F356W\n",
      "grism: R\n",
      "Module: A\n",
      "/Users/npirzkal/Dropbox/mirage/JWSTSIMS-56/data/jw00042002001_01101_00002_nrca5_rate.fits Target is at  1554.7167272200586 210.60857612496466\n",
      "Median data level: 1.0076669353484422\n",
      "Estimated background level: 0.9940412707358777\n",
      "3.05\n",
      "4.109999999999999\n",
      "Doing  /Users/npirzkal/Dropbox/mirage/JWSTSIMS-56/data/jw00042002001_01101_00003_nrca5_rate.fits 3 of 3\n",
      "Filter: F356W\n",
      "grism: R\n",
      "Module: A\n",
      "/Users/npirzkal/Dropbox/mirage/JWSTSIMS-56/data/jw00042002001_01101_00003_nrca5_rate.fits Target is at  1671.8790930009409 94.09274640878698\n",
      "Median data level: 1.0078249864821816\n",
      "Estimated background level: 0.994329784691824\n",
      "3.05\n",
      "4.109999999999999\n"
     ]
    },
    {
     "name": "stderr",
     "output_type": "stream",
     "text": [
      "/Users/npirzkal/anaconda3/envs/mirage/lib/python3.6/site-packages/numpy/lib/nanfunctions.py:1115: RuntimeWarning: All-NaN slice encountered\n",
      "  overwrite_input=overwrite_input)\n",
      "/Users/npirzkal/anaconda3/envs/mirage/lib/python3.6/site-packages/ipykernel_launcher.py:77: RuntimeWarning: Mean of empty slice\n",
      "/Users/npirzkal/anaconda3/envs/mirage/lib/python3.6/site-packages/ipykernel_launcher.py:78: RuntimeWarning: Mean of empty slice\n",
      "/Users/npirzkal/anaconda3/envs/mirage/lib/python3.6/site-packages/ipykernel_launcher.py:79: RuntimeWarning: Mean of empty slice\n",
      "/Users/npirzkal/anaconda3/envs/mirage/lib/python3.6/site-packages/ipykernel_launcher.py:81: RuntimeWarning: Mean of empty slice\n",
      "/Users/npirzkal/anaconda3/envs/mirage/lib/python3.6/site-packages/ipykernel_launcher.py:20: RuntimeWarning: Mean of empty slice\n",
      "/Users/npirzkal/anaconda3/envs/mirage/lib/python3.6/site-packages/ipykernel_launcher.py:26: RuntimeWarning: invalid value encountered in true_divide\n",
      "/Users/npirzkal/anaconda3/envs/mirage/lib/python3.6/site-packages/scipy/interpolate/interpolate.py:687: RuntimeWarning: invalid value encountered in less\n",
      "  below_bounds = x_new < self.x[0]\n",
      "/Users/npirzkal/anaconda3/envs/mirage/lib/python3.6/site-packages/scipy/interpolate/interpolate.py:688: RuntimeWarning: invalid value encountered in greater\n",
      "  above_bounds = x_new > self.x[-1]\n",
      "/Users/npirzkal/anaconda3/envs/mirage/lib/python3.6/site-packages/ipykernel_launcher.py:29: RuntimeWarning: divide by zero encountered in true_divide\n",
      "/Users/npirzkal/anaconda3/envs/mirage/lib/python3.6/site-packages/ipykernel_launcher.py:34: RuntimeWarning: invalid value encountered in true_divide\n",
      "/Users/npirzkal/anaconda3/envs/mirage/lib/python3.6/site-packages/ipykernel_launcher.py:35: RuntimeWarning: divide by zero encountered in true_divide\n"
     ]
    },
    {
     "name": "stdout",
     "output_type": "stream",
     "text": [
      "8406 25.042263\n",
      "RA and DEC are: 215.0437565911 52.9162786832\n",
      "Doing  /Users/npirzkal/Dropbox/mirage/JWSTSIMS-56/data/jw00042002001_01101_00001_nrca5_rate.fits 1 of 3\n",
      "Filter: F356W\n",
      "grism: R\n",
      "Module: A\n",
      "/Users/npirzkal/Dropbox/mirage/JWSTSIMS-56/data/jw00042002001_01101_00001_nrca5_rate.fits Target is at  443.24297189968 525.1262793895783\n"
     ]
    },
    {
     "name": "stderr",
     "output_type": "stream",
     "text": [
      "/Users/npirzkal/anaconda3/envs/mirage/lib/python3.6/site-packages/ipykernel_launcher.py:82: RuntimeWarning: invalid value encountered in true_divide\n",
      "/Users/npirzkal/anaconda3/envs/mirage/lib/python3.6/site-packages/ipykernel_launcher.py:84: RuntimeWarning: invalid value encountered in true_divide\n"
     ]
    },
    {
     "name": "stdout",
     "output_type": "stream",
     "text": [
      "Median data level: 1.0165241642434855\n",
      "Estimated background level: 1.002096996309166\n",
      "3.05\n",
      "4.109999999999999\n",
      "Doing  /Users/npirzkal/Dropbox/mirage/JWSTSIMS-56/data/jw00042002001_01101_00002_nrca5_rate.fits 2 of 3\n",
      "Filter: F356W\n",
      "grism: R\n",
      "Module: A\n",
      "/Users/npirzkal/Dropbox/mirage/JWSTSIMS-56/data/jw00042002001_01101_00002_nrca5_rate.fits Target is at  563.1738413712637 408.1549223766975\n",
      "Median data level: 1.0076669353484422\n",
      "Estimated background level: 0.9940412707358777\n",
      "3.05\n",
      "4.109999999999999\n",
      "Doing  /Users/npirzkal/Dropbox/mirage/JWSTSIMS-56/data/jw00042002001_01101_00003_nrca5_rate.fits 3 of 3\n",
      "Filter: F356W\n",
      "grism: R\n",
      "Module: A\n",
      "/Users/npirzkal/Dropbox/mirage/JWSTSIMS-56/data/jw00042002001_01101_00003_nrca5_rate.fits Target is at  682.7939160281342 291.3987437615873\n",
      "Median data level: 1.0078249864821816\n",
      "Estimated background level: 0.994329784691824\n",
      "3.05\n",
      "4.109999999999999\n"
     ]
    },
    {
     "name": "stderr",
     "output_type": "stream",
     "text": [
      "/Users/npirzkal/anaconda3/envs/mirage/lib/python3.6/site-packages/numpy/lib/nanfunctions.py:1115: RuntimeWarning: All-NaN slice encountered\n",
      "  overwrite_input=overwrite_input)\n",
      "/Users/npirzkal/anaconda3/envs/mirage/lib/python3.6/site-packages/ipykernel_launcher.py:77: RuntimeWarning: Mean of empty slice\n",
      "/Users/npirzkal/anaconda3/envs/mirage/lib/python3.6/site-packages/ipykernel_launcher.py:78: RuntimeWarning: Mean of empty slice\n",
      "/Users/npirzkal/anaconda3/envs/mirage/lib/python3.6/site-packages/ipykernel_launcher.py:79: RuntimeWarning: Mean of empty slice\n",
      "/Users/npirzkal/anaconda3/envs/mirage/lib/python3.6/site-packages/ipykernel_launcher.py:81: RuntimeWarning: Mean of empty slice\n",
      "/Users/npirzkal/anaconda3/envs/mirage/lib/python3.6/site-packages/ipykernel_launcher.py:20: RuntimeWarning: Mean of empty slice\n",
      "/Users/npirzkal/anaconda3/envs/mirage/lib/python3.6/site-packages/ipykernel_launcher.py:26: RuntimeWarning: invalid value encountered in true_divide\n",
      "/Users/npirzkal/anaconda3/envs/mirage/lib/python3.6/site-packages/scipy/interpolate/interpolate.py:687: RuntimeWarning: invalid value encountered in less\n",
      "  below_bounds = x_new < self.x[0]\n",
      "/Users/npirzkal/anaconda3/envs/mirage/lib/python3.6/site-packages/scipy/interpolate/interpolate.py:688: RuntimeWarning: invalid value encountered in greater\n",
      "  above_bounds = x_new > self.x[-1]\n",
      "/Users/npirzkal/anaconda3/envs/mirage/lib/python3.6/site-packages/ipykernel_launcher.py:29: RuntimeWarning: divide by zero encountered in true_divide\n",
      "/Users/npirzkal/anaconda3/envs/mirage/lib/python3.6/site-packages/ipykernel_launcher.py:34: RuntimeWarning: invalid value encountered in true_divide\n",
      "/Users/npirzkal/anaconda3/envs/mirage/lib/python3.6/site-packages/ipykernel_launcher.py:35: RuntimeWarning: divide by zero encountered in true_divide\n"
     ]
    },
    {
     "name": "stdout",
     "output_type": "stream",
     "text": [
      "180440 25.246624\n",
      "RA and DEC are: 215.0306115911 52.9148246832\n",
      "Doing  /Users/npirzkal/Dropbox/mirage/JWSTSIMS-56/data/jw00042002001_01101_00001_nrca5_rate.fits 1 of 3\n",
      "Filter: F356W\n",
      "grism: R\n",
      "Module: A\n",
      "/Users/npirzkal/Dropbox/mirage/JWSTSIMS-56/data/jw00042002001_01101_00001_nrca5_rate.fits Target is at  895.6501294586373 445.88206431791116\n"
     ]
    },
    {
     "name": "stderr",
     "output_type": "stream",
     "text": [
      "/Users/npirzkal/anaconda3/envs/mirage/lib/python3.6/site-packages/ipykernel_launcher.py:82: RuntimeWarning: invalid value encountered in true_divide\n",
      "/Users/npirzkal/anaconda3/envs/mirage/lib/python3.6/site-packages/ipykernel_launcher.py:84: RuntimeWarning: invalid value encountered in true_divide\n"
     ]
    },
    {
     "name": "stdout",
     "output_type": "stream",
     "text": [
      "Median data level: 1.0165241642434855\n",
      "Estimated background level: 1.002096996309166\n",
      "3.05\n",
      "4.109999999999999\n",
      "Doing  /Users/npirzkal/Dropbox/mirage/JWSTSIMS-56/data/jw00042002001_01101_00002_nrca5_rate.fits 2 of 3\n",
      "Filter: F356W\n",
      "grism: R\n",
      "Module: A\n",
      "/Users/npirzkal/Dropbox/mirage/JWSTSIMS-56/data/jw00042002001_01101_00002_nrca5_rate.fits Target is at  1014.7206861074741 328.8521657781905\n",
      "Median data level: 1.0076669353484422\n",
      "Estimated background level: 0.9940412707358777\n",
      "3.05\n",
      "4.109999999999999\n",
      "Doing  /Users/npirzkal/Dropbox/mirage/JWSTSIMS-56/data/jw00042002001_01101_00003_nrca5_rate.fits 3 of 3\n",
      "Filter: F356W\n",
      "grism: R\n",
      "Module: A\n",
      "/Users/npirzkal/Dropbox/mirage/JWSTSIMS-56/data/jw00042002001_01101_00003_nrca5_rate.fits Target is at  1133.3959618990302 212.09428745445473\n",
      "Median data level: 1.0078249864821816\n",
      "Estimated background level: 0.994329784691824\n",
      "3.05\n",
      "4.109999999999999\n"
     ]
    },
    {
     "name": "stderr",
     "output_type": "stream",
     "text": [
      "/Users/npirzkal/anaconda3/envs/mirage/lib/python3.6/site-packages/numpy/lib/nanfunctions.py:1115: RuntimeWarning: All-NaN slice encountered\n",
      "  overwrite_input=overwrite_input)\n",
      "/Users/npirzkal/anaconda3/envs/mirage/lib/python3.6/site-packages/ipykernel_launcher.py:77: RuntimeWarning: Mean of empty slice\n",
      "/Users/npirzkal/anaconda3/envs/mirage/lib/python3.6/site-packages/ipykernel_launcher.py:78: RuntimeWarning: Mean of empty slice\n",
      "/Users/npirzkal/anaconda3/envs/mirage/lib/python3.6/site-packages/ipykernel_launcher.py:79: RuntimeWarning: Mean of empty slice\n",
      "/Users/npirzkal/anaconda3/envs/mirage/lib/python3.6/site-packages/ipykernel_launcher.py:81: RuntimeWarning: Mean of empty slice\n",
      "/Users/npirzkal/anaconda3/envs/mirage/lib/python3.6/site-packages/ipykernel_launcher.py:20: RuntimeWarning: Mean of empty slice\n",
      "/Users/npirzkal/anaconda3/envs/mirage/lib/python3.6/site-packages/ipykernel_launcher.py:26: RuntimeWarning: invalid value encountered in true_divide\n",
      "/Users/npirzkal/anaconda3/envs/mirage/lib/python3.6/site-packages/scipy/interpolate/interpolate.py:687: RuntimeWarning: invalid value encountered in less\n",
      "  below_bounds = x_new < self.x[0]\n",
      "/Users/npirzkal/anaconda3/envs/mirage/lib/python3.6/site-packages/scipy/interpolate/interpolate.py:688: RuntimeWarning: invalid value encountered in greater\n",
      "  above_bounds = x_new > self.x[-1]\n",
      "/Users/npirzkal/anaconda3/envs/mirage/lib/python3.6/site-packages/ipykernel_launcher.py:29: RuntimeWarning: divide by zero encountered in true_divide\n",
      "/Users/npirzkal/anaconda3/envs/mirage/lib/python3.6/site-packages/ipykernel_launcher.py:34: RuntimeWarning: invalid value encountered in true_divide\n",
      "/Users/npirzkal/anaconda3/envs/mirage/lib/python3.6/site-packages/ipykernel_launcher.py:35: RuntimeWarning: divide by zero encountered in true_divide\n"
     ]
    },
    {
     "name": "stdout",
     "output_type": "stream",
     "text": [
      "192732 25.114603\n",
      "RA and DEC are: 215.0401065911 52.9298086832\n",
      "Doing  /Users/npirzkal/Dropbox/mirage/JWSTSIMS-56/data/jw00042002001_01101_00001_nrca5_rate.fits 1 of 3\n",
      "Filter: F356W\n",
      "grism: R\n",
      "Module: A\n",
      "/Users/npirzkal/Dropbox/mirage/JWSTSIMS-56/data/jw00042002001_01101_00001_nrca5_rate.fits Target is at  563.8688039340946 1298.0080476721062\n"
     ]
    },
    {
     "name": "stderr",
     "output_type": "stream",
     "text": [
      "/Users/npirzkal/anaconda3/envs/mirage/lib/python3.6/site-packages/ipykernel_launcher.py:82: RuntimeWarning: invalid value encountered in true_divide\n",
      "/Users/npirzkal/anaconda3/envs/mirage/lib/python3.6/site-packages/ipykernel_launcher.py:84: RuntimeWarning: invalid value encountered in true_divide\n"
     ]
    },
    {
     "name": "stdout",
     "output_type": "stream",
     "text": [
      "Median data level: 1.0165241642434855\n",
      "Estimated background level: 1.002096996309166\n",
      "3.05\n",
      "4.109999999999999\n",
      "Doing  /Users/npirzkal/Dropbox/mirage/JWSTSIMS-56/data/jw00042002001_01101_00002_nrca5_rate.fits 2 of 3\n",
      "Filter: F356W\n",
      "grism: R\n",
      "Module: A\n",
      "/Users/npirzkal/Dropbox/mirage/JWSTSIMS-56/data/jw00042002001_01101_00002_nrca5_rate.fits Target is at  684.3101344136342 1179.3570283361553\n",
      "Median data level: 1.0076669353484422\n",
      "Estimated background level: 0.9940412707358777\n",
      "3.05\n",
      "4.109999999999999\n",
      "Doing  /Users/npirzkal/Dropbox/mirage/JWSTSIMS-56/data/jw00042002001_01101_00003_nrca5_rate.fits 3 of 3\n",
      "Filter: F356W\n",
      "grism: R\n",
      "Module: A\n",
      "/Users/npirzkal/Dropbox/mirage/JWSTSIMS-56/data/jw00042002001_01101_00003_nrca5_rate.fits Target is at  804.483146620109 1060.7993539191762\n",
      "Median data level: 1.0078249864821816\n",
      "Estimated background level: 0.994329784691824\n",
      "3.05\n",
      "4.109999999999999\n"
     ]
    },
    {
     "name": "stderr",
     "output_type": "stream",
     "text": [
      "/Users/npirzkal/anaconda3/envs/mirage/lib/python3.6/site-packages/numpy/lib/nanfunctions.py:1115: RuntimeWarning: All-NaN slice encountered\n",
      "  overwrite_input=overwrite_input)\n",
      "/Users/npirzkal/anaconda3/envs/mirage/lib/python3.6/site-packages/ipykernel_launcher.py:77: RuntimeWarning: Mean of empty slice\n",
      "/Users/npirzkal/anaconda3/envs/mirage/lib/python3.6/site-packages/ipykernel_launcher.py:78: RuntimeWarning: Mean of empty slice\n",
      "/Users/npirzkal/anaconda3/envs/mirage/lib/python3.6/site-packages/ipykernel_launcher.py:79: RuntimeWarning: Mean of empty slice\n",
      "/Users/npirzkal/anaconda3/envs/mirage/lib/python3.6/site-packages/ipykernel_launcher.py:81: RuntimeWarning: Mean of empty slice\n",
      "/Users/npirzkal/anaconda3/envs/mirage/lib/python3.6/site-packages/ipykernel_launcher.py:20: RuntimeWarning: Mean of empty slice\n",
      "/Users/npirzkal/anaconda3/envs/mirage/lib/python3.6/site-packages/ipykernel_launcher.py:26: RuntimeWarning: invalid value encountered in true_divide\n",
      "/Users/npirzkal/anaconda3/envs/mirage/lib/python3.6/site-packages/scipy/interpolate/interpolate.py:687: RuntimeWarning: invalid value encountered in less\n",
      "  below_bounds = x_new < self.x[0]\n",
      "/Users/npirzkal/anaconda3/envs/mirage/lib/python3.6/site-packages/scipy/interpolate/interpolate.py:688: RuntimeWarning: invalid value encountered in greater\n",
      "  above_bounds = x_new > self.x[-1]\n",
      "/Users/npirzkal/anaconda3/envs/mirage/lib/python3.6/site-packages/ipykernel_launcher.py:29: RuntimeWarning: divide by zero encountered in true_divide\n",
      "/Users/npirzkal/anaconda3/envs/mirage/lib/python3.6/site-packages/ipykernel_launcher.py:34: RuntimeWarning: invalid value encountered in true_divide\n",
      "/Users/npirzkal/anaconda3/envs/mirage/lib/python3.6/site-packages/ipykernel_launcher.py:35: RuntimeWarning: divide by zero encountered in true_divide\n"
     ]
    },
    {
     "name": "stdout",
     "output_type": "stream",
     "text": [
      "207073 25.485607\n",
      "RA and DEC are: 214.9974425911 52.9356256832\n",
      "Doing  /Users/npirzkal/Dropbox/mirage/JWSTSIMS-56/data/jw00042002001_01101_00001_nrca5_rate.fits 1 of 3\n",
      "Filter: F356W\n",
      "grism: R\n",
      "Module: A\n",
      "/Users/npirzkal/Dropbox/mirage/JWSTSIMS-56/data/jw00042002001_01101_00001_nrca5_rate.fits Target is at  2043.3666367158385 1627.400489304473\n"
     ]
    },
    {
     "name": "stderr",
     "output_type": "stream",
     "text": [
      "/Users/npirzkal/anaconda3/envs/mirage/lib/python3.6/site-packages/ipykernel_launcher.py:82: RuntimeWarning: invalid value encountered in true_divide\n",
      "/Users/npirzkal/anaconda3/envs/mirage/lib/python3.6/site-packages/ipykernel_launcher.py:84: RuntimeWarning: invalid value encountered in true_divide\n"
     ]
    },
    {
     "name": "stdout",
     "output_type": "stream",
     "text": [
      "Median data level: 1.0165241642434855\n",
      "Estimated background level: 1.002096996309166\n",
      "3.05\n",
      "4.109999999999999\n",
      "Doing  /Users/npirzkal/Dropbox/mirage/JWSTSIMS-56/data/jw00042002001_01101_00002_nrca5_rate.fits 2 of 3\n",
      "Filter: F356W\n",
      "grism: R\n",
      "Module: A\n",
      "/Users/npirzkal/Dropbox/mirage/JWSTSIMS-56/data/jw00042002001_01101_00002_nrca5_rate.fits Target is at  2161.024534112 1507.1379410624945\n",
      "Median data level: 1.0076669353484422\n",
      "Estimated background level: 0.9940412707358777\n",
      "3.05\n",
      "4.109999999999999\n",
      "Doing  /Users/npirzkal/Dropbox/mirage/JWSTSIMS-56/data/jw00042002001_01101_00003_nrca5_rate.fits 3 of 3\n",
      "Filter: F356W\n",
      "grism: R\n",
      "Module: A\n",
      "/Users/npirzkal/Dropbox/mirage/JWSTSIMS-56/data/jw00042002001_01101_00003_nrca5_rate.fits Target is at  2278.1741485943185 1387.0507424841687\n",
      "Median data level: 1.0078249864821816\n",
      "Estimated background level: 0.994329784691824\n",
      "3.05\n",
      "4.109999999999999\n"
     ]
    },
    {
     "name": "stderr",
     "output_type": "stream",
     "text": [
      "/Users/npirzkal/anaconda3/envs/mirage/lib/python3.6/site-packages/numpy/lib/nanfunctions.py:1115: RuntimeWarning: All-NaN slice encountered\n",
      "  overwrite_input=overwrite_input)\n",
      "/Users/npirzkal/anaconda3/envs/mirage/lib/python3.6/site-packages/ipykernel_launcher.py:77: RuntimeWarning: Mean of empty slice\n",
      "/Users/npirzkal/anaconda3/envs/mirage/lib/python3.6/site-packages/ipykernel_launcher.py:78: RuntimeWarning: Mean of empty slice\n",
      "/Users/npirzkal/anaconda3/envs/mirage/lib/python3.6/site-packages/ipykernel_launcher.py:79: RuntimeWarning: Mean of empty slice\n",
      "/Users/npirzkal/anaconda3/envs/mirage/lib/python3.6/site-packages/ipykernel_launcher.py:81: RuntimeWarning: Mean of empty slice\n",
      "/Users/npirzkal/anaconda3/envs/mirage/lib/python3.6/site-packages/ipykernel_launcher.py:20: RuntimeWarning: Mean of empty slice\n",
      "/Users/npirzkal/anaconda3/envs/mirage/lib/python3.6/site-packages/ipykernel_launcher.py:26: RuntimeWarning: invalid value encountered in true_divide\n",
      "/Users/npirzkal/anaconda3/envs/mirage/lib/python3.6/site-packages/scipy/interpolate/interpolate.py:687: RuntimeWarning: invalid value encountered in less\n",
      "  below_bounds = x_new < self.x[0]\n",
      "/Users/npirzkal/anaconda3/envs/mirage/lib/python3.6/site-packages/scipy/interpolate/interpolate.py:688: RuntimeWarning: invalid value encountered in greater\n",
      "  above_bounds = x_new > self.x[-1]\n",
      "/Users/npirzkal/anaconda3/envs/mirage/lib/python3.6/site-packages/ipykernel_launcher.py:29: RuntimeWarning: divide by zero encountered in true_divide\n",
      "/Users/npirzkal/anaconda3/envs/mirage/lib/python3.6/site-packages/ipykernel_launcher.py:34: RuntimeWarning: invalid value encountered in true_divide\n",
      "/Users/npirzkal/anaconda3/envs/mirage/lib/python3.6/site-packages/ipykernel_launcher.py:35: RuntimeWarning: divide by zero encountered in true_divide\n"
     ]
    },
    {
     "name": "stdout",
     "output_type": "stream",
     "text": [
      "104674 24.735332\n",
      "241890 22.995705\n",
      "22758 23.2869\n",
      "30951 22.242641\n",
      "RA and DEC are: 215.0322535911 52.9086916832\n",
      "Doing  /Users/npirzkal/Dropbox/mirage/JWSTSIMS-56/data/jw00042002001_01101_00001_nrca5_rate.fits 1 of 3\n",
      "Filter: F356W\n",
      "grism: R\n",
      "Module: A\n",
      "/Users/npirzkal/Dropbox/mirage/JWSTSIMS-56/data/jw00042002001_01101_00001_nrca5_rate.fits Target is at  841.1653741832203 99.8107847731194\n"
     ]
    },
    {
     "name": "stderr",
     "output_type": "stream",
     "text": [
      "/Users/npirzkal/anaconda3/envs/mirage/lib/python3.6/site-packages/ipykernel_launcher.py:82: RuntimeWarning: invalid value encountered in true_divide\n",
      "/Users/npirzkal/anaconda3/envs/mirage/lib/python3.6/site-packages/ipykernel_launcher.py:84: RuntimeWarning: invalid value encountered in true_divide\n"
     ]
    },
    {
     "name": "stdout",
     "output_type": "stream",
     "text": [
      "Median data level: 1.0165241642434855\n",
      "Estimated background level: 1.002096996309166\n",
      "3.05\n",
      "4.109999999999999\n",
      "Doing  /Users/npirzkal/Dropbox/mirage/JWSTSIMS-56/data/jw00042002001_01101_00002_nrca5_rate.fits 2 of 3\n",
      "Filter: F356W\n",
      "grism: R\n",
      "Module: A\n",
      "/Users/npirzkal/Dropbox/mirage/JWSTSIMS-56/data/jw00042002001_01101_00002_nrca5_rate.fits Target is at  959.914935909937 -16.184665140409834\n",
      "219371 25.05648\n",
      "RA and DEC are: 215.0021885911 52.9198886832\n",
      "Doing  /Users/npirzkal/Dropbox/mirage/JWSTSIMS-56/data/jw00042002001_01101_00001_nrca5_rate.fits 1 of 3\n",
      "Filter: F356W\n",
      "grism: R\n",
      "Module: A\n",
      "/Users/npirzkal/Dropbox/mirage/JWSTSIMS-56/data/jw00042002001_01101_00001_nrca5_rate.fits Target is at  1871.629558766128 733.2699971833531\n",
      "131308 25.775042\n",
      "RA and DEC are: 215.0156525911 52.9340766832\n",
      "Doing  /Users/npirzkal/Dropbox/mirage/JWSTSIMS-56/data/jw00042002001_01101_00001_nrca5_rate.fits 1 of 3\n",
      "Filter: F356W\n",
      "grism: R\n",
      "Module: A\n",
      "/Users/npirzkal/Dropbox/mirage/JWSTSIMS-56/data/jw00042002001_01101_00001_nrca5_rate.fits Target is at  1412.7730964090092 1543.6524230484015\n",
      "Median data level: 1.0165241642434855\n",
      "Estimated background level: 1.002096996309166\n",
      "3.05\n",
      "4.109999999999999\n",
      "Doing  /Users/npirzkal/Dropbox/mirage/JWSTSIMS-56/data/jw00042002001_01101_00002_nrca5_rate.fits 2 of 3\n",
      "Filter: F356W\n",
      "grism: R\n",
      "Module: A\n",
      "/Users/npirzkal/Dropbox/mirage/JWSTSIMS-56/data/jw00042002001_01101_00002_nrca5_rate.fits Target is at  1531.945145334545 1423.9028266748376\n",
      "Median data level: 1.0076669353484422\n",
      "Estimated background level: 0.9940412707358777\n",
      "3.05\n",
      "4.109999999999999\n",
      "Doing  /Users/npirzkal/Dropbox/mirage/JWSTSIMS-56/data/jw00042002001_01101_00003_nrca5_rate.fits 3 of 3\n",
      "Filter: F356W\n",
      "grism: R\n",
      "Module: A\n",
      "/Users/npirzkal/Dropbox/mirage/JWSTSIMS-56/data/jw00042002001_01101_00003_nrca5_rate.fits Target is at  1650.7227218240732 1304.2841013787872\n",
      "Median data level: 1.0078249864821816\n",
      "Estimated background level: 0.994329784691824\n",
      "3.05\n",
      "4.109999999999999\n"
     ]
    },
    {
     "name": "stderr",
     "output_type": "stream",
     "text": [
      "/Users/npirzkal/anaconda3/envs/mirage/lib/python3.6/site-packages/numpy/lib/nanfunctions.py:1115: RuntimeWarning: All-NaN slice encountered\n",
      "  overwrite_input=overwrite_input)\n",
      "/Users/npirzkal/anaconda3/envs/mirage/lib/python3.6/site-packages/ipykernel_launcher.py:77: RuntimeWarning: Mean of empty slice\n",
      "/Users/npirzkal/anaconda3/envs/mirage/lib/python3.6/site-packages/ipykernel_launcher.py:78: RuntimeWarning: Mean of empty slice\n",
      "/Users/npirzkal/anaconda3/envs/mirage/lib/python3.6/site-packages/ipykernel_launcher.py:79: RuntimeWarning: Mean of empty slice\n",
      "/Users/npirzkal/anaconda3/envs/mirage/lib/python3.6/site-packages/ipykernel_launcher.py:81: RuntimeWarning: Mean of empty slice\n",
      "/Users/npirzkal/anaconda3/envs/mirage/lib/python3.6/site-packages/ipykernel_launcher.py:20: RuntimeWarning: Mean of empty slice\n",
      "/Users/npirzkal/anaconda3/envs/mirage/lib/python3.6/site-packages/ipykernel_launcher.py:26: RuntimeWarning: invalid value encountered in true_divide\n",
      "/Users/npirzkal/anaconda3/envs/mirage/lib/python3.6/site-packages/scipy/interpolate/interpolate.py:687: RuntimeWarning: invalid value encountered in less\n",
      "  below_bounds = x_new < self.x[0]\n",
      "/Users/npirzkal/anaconda3/envs/mirage/lib/python3.6/site-packages/scipy/interpolate/interpolate.py:688: RuntimeWarning: invalid value encountered in greater\n",
      "  above_bounds = x_new > self.x[-1]\n",
      "/Users/npirzkal/anaconda3/envs/mirage/lib/python3.6/site-packages/ipykernel_launcher.py:29: RuntimeWarning: divide by zero encountered in true_divide\n",
      "/Users/npirzkal/anaconda3/envs/mirage/lib/python3.6/site-packages/ipykernel_launcher.py:34: RuntimeWarning: invalid value encountered in true_divide\n",
      "/Users/npirzkal/anaconda3/envs/mirage/lib/python3.6/site-packages/ipykernel_launcher.py:35: RuntimeWarning: divide by zero encountered in true_divide\n",
      "/Users/npirzkal/anaconda3/envs/mirage/lib/python3.6/site-packages/ipykernel_launcher.py:39: RuntimeWarning: More than 20 figures have been opened. Figures created through the pyplot interface (`matplotlib.pyplot.figure`) are retained until explicitly closed and may consume too much memory. (To control this warning, see the rcParam `figure.max_open_warning`).\n"
     ]
    },
    {
     "name": "stdout",
     "output_type": "stream",
     "text": [
      "96494 25.580044\n",
      "RA and DEC are: 215.0028825911 52.9243926832\n",
      "Doing  /Users/npirzkal/Dropbox/mirage/JWSTSIMS-56/data/jw00042002001_01101_00001_nrca5_rate.fits 1 of 3\n",
      "Filter: F356W\n",
      "grism: R\n",
      "Module: A\n",
      "/Users/npirzkal/Dropbox/mirage/JWSTSIMS-56/data/jw00042002001_01101_00001_nrca5_rate.fits Target is at  1850.0277376025397 988.7809915750273\n"
     ]
    },
    {
     "name": "stderr",
     "output_type": "stream",
     "text": [
      "/Users/npirzkal/anaconda3/envs/mirage/lib/python3.6/site-packages/ipykernel_launcher.py:82: RuntimeWarning: invalid value encountered in true_divide\n",
      "/Users/npirzkal/anaconda3/envs/mirage/lib/python3.6/site-packages/ipykernel_launcher.py:84: RuntimeWarning: invalid value encountered in true_divide\n"
     ]
    },
    {
     "name": "stdout",
     "output_type": "stream",
     "text": [
      "Median data level: 1.0165241642434855\n",
      "Estimated background level: 1.002096996309166\n",
      "3.05\n",
      "4.109999999999999\n",
      "Doing  /Users/npirzkal/Dropbox/mirage/JWSTSIMS-56/data/jw00042002001_01101_00002_nrca5_rate.fits 2 of 3\n",
      "Filter: F356W\n",
      "grism: R\n",
      "Module: A\n",
      "/Users/npirzkal/Dropbox/mirage/JWSTSIMS-56/data/jw00042002001_01101_00002_nrca5_rate.fits Target is at  1967.4647659954326 869.9710709765741\n",
      "Median data level: 1.0076669353484422\n",
      "Estimated background level: 0.9940412707358777\n",
      "3.05\n",
      "4.109999999999999\n",
      "Doing  /Users/npirzkal/Dropbox/mirage/JWSTSIMS-56/data/jw00042002001_01101_00003_nrca5_rate.fits 3 of 3\n",
      "Filter: F356W\n",
      "grism: R\n",
      "Module: A\n",
      "/Users/npirzkal/Dropbox/mirage/JWSTSIMS-56/data/jw00042002001_01101_00003_nrca5_rate.fits Target is at  2084.3783103986325 751.4337467999796\n",
      "Median data level: 1.0078249864821816\n",
      "Estimated background level: 0.994329784691824\n",
      "3.05\n",
      "4.109999999999999\n"
     ]
    },
    {
     "name": "stderr",
     "output_type": "stream",
     "text": [
      "/Users/npirzkal/anaconda3/envs/mirage/lib/python3.6/site-packages/numpy/lib/nanfunctions.py:1115: RuntimeWarning: All-NaN slice encountered\n",
      "  overwrite_input=overwrite_input)\n",
      "/Users/npirzkal/anaconda3/envs/mirage/lib/python3.6/site-packages/ipykernel_launcher.py:77: RuntimeWarning: Mean of empty slice\n",
      "/Users/npirzkal/anaconda3/envs/mirage/lib/python3.6/site-packages/ipykernel_launcher.py:78: RuntimeWarning: Mean of empty slice\n",
      "/Users/npirzkal/anaconda3/envs/mirage/lib/python3.6/site-packages/ipykernel_launcher.py:79: RuntimeWarning: Mean of empty slice\n",
      "/Users/npirzkal/anaconda3/envs/mirage/lib/python3.6/site-packages/ipykernel_launcher.py:81: RuntimeWarning: Mean of empty slice\n",
      "/Users/npirzkal/anaconda3/envs/mirage/lib/python3.6/site-packages/ipykernel_launcher.py:20: RuntimeWarning: Mean of empty slice\n",
      "/Users/npirzkal/anaconda3/envs/mirage/lib/python3.6/site-packages/ipykernel_launcher.py:26: RuntimeWarning: invalid value encountered in true_divide\n",
      "/Users/npirzkal/anaconda3/envs/mirage/lib/python3.6/site-packages/scipy/interpolate/interpolate.py:687: RuntimeWarning: invalid value encountered in less\n",
      "  below_bounds = x_new < self.x[0]\n",
      "/Users/npirzkal/anaconda3/envs/mirage/lib/python3.6/site-packages/scipy/interpolate/interpolate.py:688: RuntimeWarning: invalid value encountered in greater\n",
      "  above_bounds = x_new > self.x[-1]\n",
      "/Users/npirzkal/anaconda3/envs/mirage/lib/python3.6/site-packages/ipykernel_launcher.py:29: RuntimeWarning: divide by zero encountered in true_divide\n",
      "/Users/npirzkal/anaconda3/envs/mirage/lib/python3.6/site-packages/ipykernel_launcher.py:34: RuntimeWarning: invalid value encountered in true_divide\n",
      "/Users/npirzkal/anaconda3/envs/mirage/lib/python3.6/site-packages/ipykernel_launcher.py:35: RuntimeWarning: divide by zero encountered in true_divide\n",
      "/Users/npirzkal/anaconda3/envs/mirage/lib/python3.6/site-packages/ipykernel_launcher.py:39: RuntimeWarning: More than 20 figures have been opened. Figures created through the pyplot interface (`matplotlib.pyplot.figure`) are retained until explicitly closed and may consume too much memory. (To control this warning, see the rcParam `figure.max_open_warning`).\n"
     ]
    },
    {
     "name": "stdout",
     "output_type": "stream",
     "text": [
      "170222 23.79459\n",
      "139504 25.859409\n",
      "RA and DEC are: 215.0154395911 52.9229506832\n",
      "Doing  /Users/npirzkal/Dropbox/mirage/JWSTSIMS-56/data/jw00042002001_01101_00001_nrca5_rate.fits 1 of 3\n",
      "Filter: F356W\n",
      "grism: R\n",
      "Module: A\n",
      "/Users/npirzkal/Dropbox/mirage/JWSTSIMS-56/data/jw00042002001_01101_00001_nrca5_rate.fits Target is at  1417.5709608227673 908.1506222146564\n"
     ]
    },
    {
     "name": "stderr",
     "output_type": "stream",
     "text": [
      "/Users/npirzkal/anaconda3/envs/mirage/lib/python3.6/site-packages/ipykernel_launcher.py:82: RuntimeWarning: invalid value encountered in true_divide\n",
      "/Users/npirzkal/anaconda3/envs/mirage/lib/python3.6/site-packages/ipykernel_launcher.py:84: RuntimeWarning: invalid value encountered in true_divide\n"
     ]
    },
    {
     "name": "stdout",
     "output_type": "stream",
     "text": [
      "Median data level: 1.0165241642434855\n",
      "Estimated background level: 1.002096996309166\n",
      "3.05\n",
      "4.109999999999999\n",
      "Doing  /Users/npirzkal/Dropbox/mirage/JWSTSIMS-56/data/jw00042002001_01101_00002_nrca5_rate.fits 2 of 3\n",
      "Filter: F356W\n",
      "grism: R\n",
      "Module: A\n",
      "/Users/npirzkal/Dropbox/mirage/JWSTSIMS-56/data/jw00042002001_01101_00002_nrca5_rate.fits Target is at  1536.0505002222585 789.6986222128627\n",
      "Median data level: 1.0076669353484422\n",
      "Estimated background level: 0.9940412707358777\n",
      "3.05\n",
      "4.109999999999999\n",
      "Doing  /Users/npirzkal/Dropbox/mirage/JWSTSIMS-56/data/jw00042002001_01101_00003_nrca5_rate.fits 3 of 3\n",
      "Filter: F356W\n",
      "grism: R\n",
      "Module: A\n",
      "/Users/npirzkal/Dropbox/mirage/JWSTSIMS-56/data/jw00042002001_01101_00003_nrca5_rate.fits Target is at  1654.0832414729525 671.488009826603\n",
      "Median data level: 1.0078249864821816\n",
      "Estimated background level: 0.994329784691824\n",
      "3.05\n",
      "4.109999999999999\n"
     ]
    },
    {
     "name": "stderr",
     "output_type": "stream",
     "text": [
      "/Users/npirzkal/anaconda3/envs/mirage/lib/python3.6/site-packages/numpy/lib/nanfunctions.py:1115: RuntimeWarning: All-NaN slice encountered\n",
      "  overwrite_input=overwrite_input)\n",
      "/Users/npirzkal/anaconda3/envs/mirage/lib/python3.6/site-packages/ipykernel_launcher.py:77: RuntimeWarning: Mean of empty slice\n",
      "/Users/npirzkal/anaconda3/envs/mirage/lib/python3.6/site-packages/ipykernel_launcher.py:78: RuntimeWarning: Mean of empty slice\n",
      "/Users/npirzkal/anaconda3/envs/mirage/lib/python3.6/site-packages/ipykernel_launcher.py:79: RuntimeWarning: Mean of empty slice\n",
      "/Users/npirzkal/anaconda3/envs/mirage/lib/python3.6/site-packages/ipykernel_launcher.py:81: RuntimeWarning: Mean of empty slice\n",
      "/Users/npirzkal/anaconda3/envs/mirage/lib/python3.6/site-packages/ipykernel_launcher.py:20: RuntimeWarning: Mean of empty slice\n",
      "/Users/npirzkal/anaconda3/envs/mirage/lib/python3.6/site-packages/ipykernel_launcher.py:26: RuntimeWarning: invalid value encountered in true_divide\n",
      "/Users/npirzkal/anaconda3/envs/mirage/lib/python3.6/site-packages/scipy/interpolate/interpolate.py:687: RuntimeWarning: invalid value encountered in less\n",
      "  below_bounds = x_new < self.x[0]\n",
      "/Users/npirzkal/anaconda3/envs/mirage/lib/python3.6/site-packages/scipy/interpolate/interpolate.py:688: RuntimeWarning: invalid value encountered in greater\n",
      "  above_bounds = x_new > self.x[-1]\n",
      "/Users/npirzkal/anaconda3/envs/mirage/lib/python3.6/site-packages/ipykernel_launcher.py:29: RuntimeWarning: divide by zero encountered in true_divide\n",
      "/Users/npirzkal/anaconda3/envs/mirage/lib/python3.6/site-packages/ipykernel_launcher.py:34: RuntimeWarning: invalid value encountered in true_divide\n",
      "/Users/npirzkal/anaconda3/envs/mirage/lib/python3.6/site-packages/ipykernel_launcher.py:35: RuntimeWarning: divide by zero encountered in true_divide\n",
      "/Users/npirzkal/anaconda3/envs/mirage/lib/python3.6/site-packages/ipykernel_launcher.py:39: RuntimeWarning: More than 20 figures have been opened. Figures created through the pyplot interface (`matplotlib.pyplot.figure`) are retained until explicitly closed and may consume too much memory. (To control this warning, see the rcParam `figure.max_open_warning`).\n"
     ]
    },
    {
     "name": "stdout",
     "output_type": "stream",
     "text": [
      "157938 25.411419\n",
      "RA and DEC are: 214.9980145911 52.9246506832\n",
      "Doing  /Users/npirzkal/Dropbox/mirage/JWSTSIMS-56/data/jw00042002001_01101_00001_nrca5_rate.fits 1 of 3\n",
      "Filter: F356W\n",
      "grism: R\n",
      "Module: A\n",
      "/Users/npirzkal/Dropbox/mirage/JWSTSIMS-56/data/jw00042002001_01101_00001_nrca5_rate.fits Target is at  2017.1608927639084 1002.4000526951129\n"
     ]
    },
    {
     "name": "stderr",
     "output_type": "stream",
     "text": [
      "/Users/npirzkal/anaconda3/envs/mirage/lib/python3.6/site-packages/ipykernel_launcher.py:82: RuntimeWarning: invalid value encountered in true_divide\n",
      "/Users/npirzkal/anaconda3/envs/mirage/lib/python3.6/site-packages/ipykernel_launcher.py:84: RuntimeWarning: invalid value encountered in true_divide\n"
     ]
    },
    {
     "name": "stdout",
     "output_type": "stream",
     "text": [
      "Median data level: 1.0165241642434855\n",
      "Estimated background level: 1.002096996309166\n",
      "3.05\n",
      "4.109999999999999\n",
      "Doing  /Users/npirzkal/Dropbox/mirage/JWSTSIMS-56/data/jw00042002001_01101_00002_nrca5_rate.fits 2 of 3\n",
      "Filter: F356W\n",
      "grism: R\n",
      "Module: A\n",
      "/Users/npirzkal/Dropbox/mirage/JWSTSIMS-56/data/jw00042002001_01101_00002_nrca5_rate.fits Target is at  2134.1102797335257 883.5126848976704\n",
      "Median data level: 1.0076669353484422\n",
      "Estimated background level: 0.9940412707358777\n",
      "3.05\n",
      "4.109999999999999\n",
      "Doing  /Users/npirzkal/Dropbox/mirage/JWSTSIMS-56/data/jw00042002001_01101_00003_nrca5_rate.fits 3 of 3\n",
      "Filter: F356W\n",
      "grism: R\n",
      "Module: A\n",
      "/Users/npirzkal/Dropbox/mirage/JWSTSIMS-56/data/jw00042002001_01101_00003_nrca5_rate.fits Target is at  2250.5005927256298 764.9145626126196\n",
      "Median data level: 1.0078249864821816\n",
      "Estimated background level: 0.994329784691824\n",
      "3.05\n",
      "4.109999999999999\n"
     ]
    },
    {
     "name": "stderr",
     "output_type": "stream",
     "text": [
      "/Users/npirzkal/anaconda3/envs/mirage/lib/python3.6/site-packages/numpy/lib/nanfunctions.py:1115: RuntimeWarning: All-NaN slice encountered\n",
      "  overwrite_input=overwrite_input)\n",
      "/Users/npirzkal/anaconda3/envs/mirage/lib/python3.6/site-packages/ipykernel_launcher.py:77: RuntimeWarning: Mean of empty slice\n",
      "/Users/npirzkal/anaconda3/envs/mirage/lib/python3.6/site-packages/ipykernel_launcher.py:78: RuntimeWarning: Mean of empty slice\n",
      "/Users/npirzkal/anaconda3/envs/mirage/lib/python3.6/site-packages/ipykernel_launcher.py:79: RuntimeWarning: Mean of empty slice\n",
      "/Users/npirzkal/anaconda3/envs/mirage/lib/python3.6/site-packages/ipykernel_launcher.py:81: RuntimeWarning: Mean of empty slice\n",
      "/Users/npirzkal/anaconda3/envs/mirage/lib/python3.6/site-packages/ipykernel_launcher.py:20: RuntimeWarning: Mean of empty slice\n",
      "/Users/npirzkal/anaconda3/envs/mirage/lib/python3.6/site-packages/ipykernel_launcher.py:26: RuntimeWarning: invalid value encountered in true_divide\n",
      "/Users/npirzkal/anaconda3/envs/mirage/lib/python3.6/site-packages/scipy/interpolate/interpolate.py:687: RuntimeWarning: invalid value encountered in less\n",
      "  below_bounds = x_new < self.x[0]\n",
      "/Users/npirzkal/anaconda3/envs/mirage/lib/python3.6/site-packages/scipy/interpolate/interpolate.py:688: RuntimeWarning: invalid value encountered in greater\n",
      "  above_bounds = x_new > self.x[-1]\n",
      "/Users/npirzkal/anaconda3/envs/mirage/lib/python3.6/site-packages/ipykernel_launcher.py:34: RuntimeWarning: invalid value encountered in true_divide\n",
      "/Users/npirzkal/anaconda3/envs/mirage/lib/python3.6/site-packages/ipykernel_launcher.py:39: RuntimeWarning: More than 20 figures have been opened. Figures created through the pyplot interface (`matplotlib.pyplot.figure`) are retained until explicitly closed and may consume too much memory. (To control this warning, see the rcParam `figure.max_open_warning`).\n"
     ]
    },
    {
     "name": "stdout",
     "output_type": "stream",
     "text": [
      "14579 21.386742\n",
      "121076 23.897409\n",
      "129272 25.956249\n",
      "RA and DEC are: 215.0300675911 52.9356136832\n",
      "Doing  /Users/npirzkal/Dropbox/mirage/JWSTSIMS-56/data/jw00042002001_01101_00001_nrca5_rate.fits 1 of 3\n",
      "Filter: F356W\n",
      "grism: R\n",
      "Module: A\n",
      "/Users/npirzkal/Dropbox/mirage/JWSTSIMS-56/data/jw00042002001_01101_00001_nrca5_rate.fits Target is at  912.0553641565907 1632.5605238569115\n"
     ]
    },
    {
     "name": "stderr",
     "output_type": "stream",
     "text": [
      "/Users/npirzkal/anaconda3/envs/mirage/lib/python3.6/site-packages/ipykernel_launcher.py:82: RuntimeWarning: invalid value encountered in true_divide\n",
      "/Users/npirzkal/anaconda3/envs/mirage/lib/python3.6/site-packages/ipykernel_launcher.py:84: RuntimeWarning: invalid value encountered in true_divide\n"
     ]
    },
    {
     "name": "stdout",
     "output_type": "stream",
     "text": [
      "Median data level: 1.0165241642434855\n",
      "Estimated background level: 1.002096996309166\n",
      "3.05\n",
      "4.109999999999999\n",
      "Doing  /Users/npirzkal/Dropbox/mirage/JWSTSIMS-56/data/jw00042002001_01101_00002_nrca5_rate.fits 2 of 3\n",
      "Filter: F356W\n",
      "grism: R\n",
      "Module: A\n",
      "/Users/npirzkal/Dropbox/mirage/JWSTSIMS-56/data/jw00042002001_01101_00002_nrca5_rate.fits Target is at  1032.241990560935 1513.0767123671505\n",
      "Median data level: 1.0076669353484422\n",
      "Estimated background level: 0.9940412707358777\n",
      "3.05\n",
      "4.109999999999999\n",
      "Doing  /Users/npirzkal/Dropbox/mirage/JWSTSIMS-56/data/jw00042002001_01101_00003_nrca5_rate.fits 3 of 3\n",
      "Filter: F356W\n",
      "grism: R\n",
      "Module: A\n",
      "/Users/npirzkal/Dropbox/mirage/JWSTSIMS-56/data/jw00042002001_01101_00003_nrca5_rate.fits Target is at  1152.1278625826124 1393.659737069871\n",
      "Median data level: 1.0078249864821816\n",
      "Estimated background level: 0.994329784691824\n",
      "3.05\n",
      "4.109999999999999\n"
     ]
    },
    {
     "name": "stderr",
     "output_type": "stream",
     "text": [
      "/Users/npirzkal/anaconda3/envs/mirage/lib/python3.6/site-packages/numpy/lib/nanfunctions.py:1115: RuntimeWarning: All-NaN slice encountered\n",
      "  overwrite_input=overwrite_input)\n",
      "/Users/npirzkal/anaconda3/envs/mirage/lib/python3.6/site-packages/ipykernel_launcher.py:77: RuntimeWarning: Mean of empty slice\n",
      "/Users/npirzkal/anaconda3/envs/mirage/lib/python3.6/site-packages/ipykernel_launcher.py:78: RuntimeWarning: Mean of empty slice\n",
      "/Users/npirzkal/anaconda3/envs/mirage/lib/python3.6/site-packages/ipykernel_launcher.py:79: RuntimeWarning: Mean of empty slice\n",
      "/Users/npirzkal/anaconda3/envs/mirage/lib/python3.6/site-packages/ipykernel_launcher.py:81: RuntimeWarning: Mean of empty slice\n",
      "/Users/npirzkal/anaconda3/envs/mirage/lib/python3.6/site-packages/ipykernel_launcher.py:20: RuntimeWarning: Mean of empty slice\n",
      "/Users/npirzkal/anaconda3/envs/mirage/lib/python3.6/site-packages/ipykernel_launcher.py:26: RuntimeWarning: invalid value encountered in true_divide\n",
      "/Users/npirzkal/anaconda3/envs/mirage/lib/python3.6/site-packages/scipy/interpolate/interpolate.py:687: RuntimeWarning: invalid value encountered in less\n",
      "  below_bounds = x_new < self.x[0]\n",
      "/Users/npirzkal/anaconda3/envs/mirage/lib/python3.6/site-packages/scipy/interpolate/interpolate.py:688: RuntimeWarning: invalid value encountered in greater\n",
      "  above_bounds = x_new > self.x[-1]\n",
      "/Users/npirzkal/anaconda3/envs/mirage/lib/python3.6/site-packages/ipykernel_launcher.py:29: RuntimeWarning: divide by zero encountered in true_divide\n",
      "/Users/npirzkal/anaconda3/envs/mirage/lib/python3.6/site-packages/ipykernel_launcher.py:34: RuntimeWarning: invalid value encountered in true_divide\n",
      "/Users/npirzkal/anaconda3/envs/mirage/lib/python3.6/site-packages/ipykernel_launcher.py:35: RuntimeWarning: divide by zero encountered in true_divide\n",
      "/Users/npirzkal/anaconda3/envs/mirage/lib/python3.6/site-packages/ipykernel_launcher.py:39: RuntimeWarning: More than 20 figures have been opened. Figures created through the pyplot interface (`matplotlib.pyplot.figure`) are retained until explicitly closed and may consume too much memory. (To control this warning, see the rcParam `figure.max_open_warning`).\n"
     ]
    },
    {
     "name": "stdout",
     "output_type": "stream",
     "text": [
      "180473 25.568857\n",
      "RA and DEC are: 215.0529075911 52.9176646832\n",
      "Doing  /Users/npirzkal/Dropbox/mirage/JWSTSIMS-56/data/jw00042002001_01101_00001_nrca5_rate.fits 1 of 3\n",
      "Filter: F356W\n",
      "grism: R\n",
      "Module: A\n",
      "/Users/npirzkal/Dropbox/mirage/JWSTSIMS-56/data/jw00042002001_01101_00001_nrca5_rate.fits Target is at  127.64455641657798 600.7304621504626\n",
      "30969 23.481022\n",
      "35067 21.253353\n",
      "49402 25.427166\n",
      "RA and DEC are: 215.0196945911 52.9253626832\n",
      "Doing  /Users/npirzkal/Dropbox/mirage/JWSTSIMS-56/data/jw00042002001_01101_00001_nrca5_rate.fits 1 of 3\n",
      "Filter: F356W\n",
      "grism: R\n",
      "Module: A\n",
      "/Users/npirzkal/Dropbox/mirage/JWSTSIMS-56/data/jw00042002001_01101_00001_nrca5_rate.fits Target is at  1271.1719919652526 1045.6341385099015\n",
      "110846 25.510798\n",
      "RA and DEC are: 215.0111445911 52.9175206832\n",
      "Doing  /Users/npirzkal/Dropbox/mirage/JWSTSIMS-56/data/jw00042002001_01101_00001_nrca5_rate.fits 1 of 3\n",
      "Filter: F356W\n",
      "grism: R\n",
      "Module: A\n",
      "/Users/npirzkal/Dropbox/mirage/JWSTSIMS-56/data/jw00042002001_01101_00001_nrca5_rate.fits Target is at  1563.9265943772707 599.9851479290703\n"
     ]
    },
    {
     "name": "stderr",
     "output_type": "stream",
     "text": [
      "/Users/npirzkal/anaconda3/envs/mirage/lib/python3.6/site-packages/ipykernel_launcher.py:82: RuntimeWarning: invalid value encountered in true_divide\n",
      "/Users/npirzkal/anaconda3/envs/mirage/lib/python3.6/site-packages/ipykernel_launcher.py:84: RuntimeWarning: invalid value encountered in true_divide\n"
     ]
    },
    {
     "name": "stdout",
     "output_type": "stream",
     "text": [
      "Median data level: 1.0165241642434855\n",
      "Estimated background level: 1.002096996309166\n",
      "3.05\n",
      "4.109999999999999\n",
      "Doing  /Users/npirzkal/Dropbox/mirage/JWSTSIMS-56/data/jw00042002001_01101_00002_nrca5_rate.fits 2 of 3\n",
      "Filter: F356W\n",
      "grism: R\n",
      "Module: A\n",
      "/Users/npirzkal/Dropbox/mirage/JWSTSIMS-56/data/jw00042002001_01101_00002_nrca5_rate.fits Target is at  1681.6396008254894 482.2825209403477\n",
      "Median data level: 1.0076669353484422\n",
      "Estimated background level: 0.9940412707358777\n",
      "3.05\n",
      "4.109999999999999\n",
      "Doing  /Users/npirzkal/Dropbox/mirage/JWSTSIMS-56/data/jw00042002001_01101_00003_nrca5_rate.fits 3 of 3\n",
      "Filter: F356W\n",
      "grism: R\n",
      "Module: A\n",
      "/Users/npirzkal/Dropbox/mirage/JWSTSIMS-56/data/jw00042002001_01101_00003_nrca5_rate.fits Target is at  1798.8501382404274 364.8936300336429\n",
      "Median data level: 1.0078249864821816\n",
      "Estimated background level: 0.994329784691824\n",
      "3.05\n",
      "4.109999999999999\n"
     ]
    },
    {
     "name": "stderr",
     "output_type": "stream",
     "text": [
      "/Users/npirzkal/anaconda3/envs/mirage/lib/python3.6/site-packages/numpy/lib/nanfunctions.py:1115: RuntimeWarning: All-NaN slice encountered\n",
      "  overwrite_input=overwrite_input)\n",
      "/Users/npirzkal/anaconda3/envs/mirage/lib/python3.6/site-packages/ipykernel_launcher.py:77: RuntimeWarning: Mean of empty slice\n",
      "/Users/npirzkal/anaconda3/envs/mirage/lib/python3.6/site-packages/ipykernel_launcher.py:78: RuntimeWarning: Mean of empty slice\n",
      "/Users/npirzkal/anaconda3/envs/mirage/lib/python3.6/site-packages/ipykernel_launcher.py:79: RuntimeWarning: Mean of empty slice\n",
      "/Users/npirzkal/anaconda3/envs/mirage/lib/python3.6/site-packages/ipykernel_launcher.py:81: RuntimeWarning: Mean of empty slice\n",
      "/Users/npirzkal/anaconda3/envs/mirage/lib/python3.6/site-packages/ipykernel_launcher.py:20: RuntimeWarning: Mean of empty slice\n",
      "/Users/npirzkal/anaconda3/envs/mirage/lib/python3.6/site-packages/ipykernel_launcher.py:26: RuntimeWarning: invalid value encountered in true_divide\n",
      "/Users/npirzkal/anaconda3/envs/mirage/lib/python3.6/site-packages/scipy/interpolate/interpolate.py:687: RuntimeWarning: invalid value encountered in less\n",
      "  below_bounds = x_new < self.x[0]\n",
      "/Users/npirzkal/anaconda3/envs/mirage/lib/python3.6/site-packages/scipy/interpolate/interpolate.py:688: RuntimeWarning: invalid value encountered in greater\n",
      "  above_bounds = x_new > self.x[-1]\n",
      "/Users/npirzkal/anaconda3/envs/mirage/lib/python3.6/site-packages/ipykernel_launcher.py:29: RuntimeWarning: divide by zero encountered in true_divide\n",
      "/Users/npirzkal/anaconda3/envs/mirage/lib/python3.6/site-packages/ipykernel_launcher.py:34: RuntimeWarning: invalid value encountered in true_divide\n",
      "/Users/npirzkal/anaconda3/envs/mirage/lib/python3.6/site-packages/ipykernel_launcher.py:35: RuntimeWarning: divide by zero encountered in true_divide\n",
      "/Users/npirzkal/anaconda3/envs/mirage/lib/python3.6/site-packages/ipykernel_launcher.py:39: RuntimeWarning: More than 20 figures have been opened. Figures created through the pyplot interface (`matplotlib.pyplot.figure`) are retained until explicitly closed and may consume too much memory. (To control this warning, see the rcParam `figure.max_open_warning`).\n"
     ]
    },
    {
     "name": "stdout",
     "output_type": "stream",
     "text": [
      "24829 24.25909\n",
      "84219 24.116997\n",
      "43267 25.124554\n",
      "RA and DEC are: 215.0381465911 52.9111236832\n",
      "Doing  /Users/npirzkal/Dropbox/mirage/JWSTSIMS-56/data/jw00042002001_01101_00001_nrca5_rate.fits 1 of 3\n",
      "Filter: F356W\n",
      "grism: R\n",
      "Module: A\n",
      "/Users/npirzkal/Dropbox/mirage/JWSTSIMS-56/data/jw00042002001_01101_00001_nrca5_rate.fits Target is at  638.4654453037128 235.200496284549\n"
     ]
    },
    {
     "name": "stderr",
     "output_type": "stream",
     "text": [
      "/Users/npirzkal/anaconda3/envs/mirage/lib/python3.6/site-packages/ipykernel_launcher.py:82: RuntimeWarning: invalid value encountered in true_divide\n",
      "/Users/npirzkal/anaconda3/envs/mirage/lib/python3.6/site-packages/ipykernel_launcher.py:84: RuntimeWarning: invalid value encountered in true_divide\n"
     ]
    },
    {
     "name": "stdout",
     "output_type": "stream",
     "text": [
      "Median data level: 1.0165241642434855\n",
      "Estimated background level: 1.002096996309166\n",
      "3.05\n",
      "4.109999999999999\n",
      "Doing  /Users/npirzkal/Dropbox/mirage/JWSTSIMS-56/data/jw00042002001_01101_00002_nrca5_rate.fits 2 of 3\n",
      "Filter: F356W\n",
      "grism: R\n",
      "Module: A\n",
      "/Users/npirzkal/Dropbox/mirage/JWSTSIMS-56/data/jw00042002001_01101_00002_nrca5_rate.fits Target is at  757.7683730377446 118.88519245440057\n",
      "Median data level: 1.0076669353484422\n",
      "Estimated background level: 0.9940412707358777\n",
      "3.05\n",
      "4.109999999999999\n",
      "Doing  /Users/npirzkal/Dropbox/mirage/JWSTSIMS-56/data/jw00042002001_01101_00003_nrca5_rate.fits 3 of 3\n",
      "Filter: F356W\n",
      "grism: R\n",
      "Module: A\n",
      "/Users/npirzkal/Dropbox/mirage/JWSTSIMS-56/data/jw00042002001_01101_00003_nrca5_rate.fits Target is at  876.7028827107694 2.8566997696580074\n",
      "Median data level: 1.0078249864821816\n",
      "Estimated background level: 0.994329784691824\n",
      "3.05\n",
      "4.109999999999999\n"
     ]
    },
    {
     "ename": "ValueError",
     "evalue": "zero-size array to reduction operation minimum which has no identity",
     "output_type": "error",
     "traceback": [
      "\u001b[0;31m---------------------------------------------------------------------------\u001b[0m",
      "\u001b[0;31mValueError\u001b[0m                                Traceback (most recent call last)",
      "\u001b[0;32m<ipython-input-404-c9779cfa8f2c>\u001b[0m in \u001b[0;36m<module>\u001b[0;34m\u001b[0m\n\u001b[1;32m     12\u001b[0m     \u001b[0;32mif\u001b[0m \u001b[0mm\u001b[0m\u001b[0;34m<\u001b[0m\u001b[0;36m26\u001b[0m\u001b[0;34m:\u001b[0m\u001b[0;34m\u001b[0m\u001b[0;34m\u001b[0m\u001b[0m\n\u001b[1;32m     13\u001b[0m         \u001b[0mprint\u001b[0m\u001b[0;34m(\u001b[0m\u001b[0mID\u001b[0m\u001b[0;34m,\u001b[0m\u001b[0mm\u001b[0m\u001b[0;34m)\u001b[0m\u001b[0;34m\u001b[0m\u001b[0;34m\u001b[0m\u001b[0m\n\u001b[0;32m---> 14\u001b[0;31m         \u001b[0mextract_ID\u001b[0m\u001b[0;34m(\u001b[0m\u001b[0mID\u001b[0m\u001b[0;34m,\u001b[0m\u001b[0mcatalog\u001b[0m\u001b[0;34m,\u001b[0m\u001b[0mratenames\u001b[0m\u001b[0;34m,\u001b[0m\u001b[0mopath\u001b[0m\u001b[0;34m=\u001b[0m\u001b[0;34m\"/tmp/extracted\"\u001b[0m\u001b[0;34m)\u001b[0m\u001b[0;34m\u001b[0m\u001b[0;34m\u001b[0m\u001b[0m\n\u001b[0m",
      "\u001b[0;32m<ipython-input-396-c34b9e8d39eb>\u001b[0m in \u001b[0;36mextract_ID\u001b[0;34m(ID, catalog, ratenames, opath)\u001b[0m\n\u001b[1;32m     14\u001b[0m \u001b[0;34m\u001b[0m\u001b[0m\n\u001b[1;32m     15\u001b[0m \u001b[0;34m\u001b[0m\u001b[0m\n\u001b[0;32m---> 16\u001b[0;31m     \u001b[0mfd\u001b[0m\u001b[0;34m,\u001b[0m\u001b[0mfc\u001b[0m\u001b[0;34m,\u001b[0m\u001b[0mfm\u001b[0m\u001b[0;34m,\u001b[0m\u001b[0mfw\u001b[0m\u001b[0;34m,\u001b[0m\u001b[0mfl\u001b[0m\u001b[0;34m,\u001b[0m\u001b[0mC\u001b[0m \u001b[0;34m=\u001b[0m \u001b[0mextract_multiple\u001b[0m\u001b[0;34m(\u001b[0m\u001b[0mID\u001b[0m\u001b[0;34m,\u001b[0m\u001b[0mra0\u001b[0m\u001b[0;34m,\u001b[0m\u001b[0mdec0\u001b[0m\u001b[0;34m,\u001b[0m\u001b[0mratenames\u001b[0m\u001b[0;34m)\u001b[0m\u001b[0;34m\u001b[0m\u001b[0;34m\u001b[0m\u001b[0m\n\u001b[0m\u001b[1;32m     17\u001b[0m     \u001b[0;32mif\u001b[0m \u001b[0mfd\u001b[0m \u001b[0;32mis\u001b[0m \u001b[0;32mNone\u001b[0m\u001b[0;34m:\u001b[0m\u001b[0;34m\u001b[0m\u001b[0;34m\u001b[0m\u001b[0m\n\u001b[1;32m     18\u001b[0m         \u001b[0;32mreturn\u001b[0m\u001b[0;34m\u001b[0m\u001b[0;34m\u001b[0m\u001b[0m\n",
      "\u001b[0;32m<ipython-input-313-a4b2a529b044>\u001b[0m in \u001b[0;36mextract_multiple\u001b[0;34m(ID, ra0, dec0, ratenames)\u001b[0m\n\u001b[1;32m     37\u001b[0m         \u001b[0my\u001b[0m \u001b[0;34m=\u001b[0m \u001b[0my\u001b[0m\u001b[0;34m[\u001b[0m\u001b[0mok\u001b[0m\u001b[0;34m]\u001b[0m\u001b[0;34m\u001b[0m\u001b[0;34m\u001b[0m\u001b[0m\n\u001b[1;32m     38\u001b[0m \u001b[0;34m\u001b[0m\u001b[0m\n\u001b[0;32m---> 39\u001b[0;31m         \u001b[0mtmp\u001b[0m \u001b[0;34m=\u001b[0m \u001b[0mbinned_statistic_2d\u001b[0m\u001b[0;34m(\u001b[0m\u001b[0mnp\u001b[0m\u001b[0;34m.\u001b[0m\u001b[0mravel\u001b[0m\u001b[0;34m(\u001b[0m\u001b[0my\u001b[0m\u001b[0;34m)\u001b[0m\u001b[0;34m,\u001b[0m\u001b[0mnp\u001b[0m\u001b[0;34m.\u001b[0m\u001b[0mravel\u001b[0m\u001b[0;34m(\u001b[0m\u001b[0ml\u001b[0m\u001b[0;34m)\u001b[0m\u001b[0;34m,\u001b[0m\u001b[0mnp\u001b[0m\u001b[0;34m.\u001b[0m\u001b[0mravel\u001b[0m\u001b[0;34m(\u001b[0m\u001b[0md\u001b[0m\u001b[0;34m)\u001b[0m\u001b[0;34m,\u001b[0m\u001b[0mbins\u001b[0m\u001b[0;34m=\u001b[0m\u001b[0;34m[\u001b[0m\u001b[0ms\u001b[0m\u001b[0;34m,\u001b[0m\u001b[0mbins\u001b[0m\u001b[0;34m]\u001b[0m\u001b[0;34m,\u001b[0m\u001b[0mstatistic\u001b[0m\u001b[0;34m=\u001b[0m\u001b[0;34m\"mean\"\u001b[0m\u001b[0;34m)\u001b[0m\u001b[0;34m\u001b[0m\u001b[0;34m\u001b[0m\u001b[0m\n\u001b[0m\u001b[1;32m     40\u001b[0m         \u001b[0mdd\u001b[0m\u001b[0;34m.\u001b[0m\u001b[0mappend\u001b[0m\u001b[0;34m(\u001b[0m\u001b[0mtmp\u001b[0m\u001b[0;34m[\u001b[0m\u001b[0;36m0\u001b[0m\u001b[0;34m]\u001b[0m\u001b[0;34m)\u001b[0m\u001b[0;34m\u001b[0m\u001b[0;34m\u001b[0m\u001b[0m\n\u001b[1;32m     41\u001b[0m \u001b[0;34m\u001b[0m\u001b[0m\n",
      "\u001b[0;32m~/anaconda3/envs/mirage/lib/python3.6/site-packages/scipy/stats/_binned_statistic.py\u001b[0m in \u001b[0;36mbinned_statistic_2d\u001b[0;34m(x, y, values, statistic, bins, range, expand_binnumbers)\u001b[0m\n\u001b[1;32m    346\u001b[0m         \u001b[0;34m[\u001b[0m\u001b[0mx\u001b[0m\u001b[0;34m,\u001b[0m \u001b[0my\u001b[0m\u001b[0;34m]\u001b[0m\u001b[0;34m,\u001b[0m \u001b[0mvalues\u001b[0m\u001b[0;34m,\u001b[0m \u001b[0mstatistic\u001b[0m\u001b[0;34m,\u001b[0m \u001b[0mbins\u001b[0m\u001b[0;34m,\u001b[0m \u001b[0mrange\u001b[0m\u001b[0;34m,\u001b[0m\u001b[0;34m\u001b[0m\u001b[0;34m\u001b[0m\u001b[0m\n\u001b[1;32m    347\u001b[0m         expand_binnumbers=expand_binnumbers)\n\u001b[0;32m--> 348\u001b[0;31m \u001b[0;34m\u001b[0m\u001b[0m\n\u001b[0m\u001b[1;32m    349\u001b[0m     \u001b[0;32mreturn\u001b[0m \u001b[0mBinnedStatistic2dResult\u001b[0m\u001b[0;34m(\u001b[0m\u001b[0mmedians\u001b[0m\u001b[0;34m,\u001b[0m \u001b[0medges\u001b[0m\u001b[0;34m[\u001b[0m\u001b[0;36m0\u001b[0m\u001b[0;34m]\u001b[0m\u001b[0;34m,\u001b[0m \u001b[0medges\u001b[0m\u001b[0;34m[\u001b[0m\u001b[0;36m1\u001b[0m\u001b[0;34m]\u001b[0m\u001b[0;34m,\u001b[0m \u001b[0mbinnumbers\u001b[0m\u001b[0;34m)\u001b[0m\u001b[0;34m\u001b[0m\u001b[0;34m\u001b[0m\u001b[0m\n\u001b[1;32m    350\u001b[0m \u001b[0;34m\u001b[0m\u001b[0m\n",
      "\u001b[0;32m~/anaconda3/envs/mirage/lib/python3.6/site-packages/scipy/stats/_binned_statistic.py\u001b[0m in \u001b[0;36mbinned_statistic_dd\u001b[0;34m(sample, values, statistic, bins, range, expand_binnumbers)\u001b[0m\n\u001b[1;32m    503\u001b[0m     \u001b[0;34m>>\u001b[0m\u001b[0;34m>\u001b[0m \u001b[0mfig\u001b[0m \u001b[0;34m=\u001b[0m \u001b[0mplt\u001b[0m\u001b[0;34m.\u001b[0m\u001b[0mfigure\u001b[0m\u001b[0;34m(\u001b[0m\u001b[0;34m)\u001b[0m\u001b[0;34m\u001b[0m\u001b[0;34m\u001b[0m\u001b[0m\n\u001b[1;32m    504\u001b[0m     \u001b[0;34m>>\u001b[0m\u001b[0;34m>\u001b[0m \u001b[0max\u001b[0m \u001b[0;34m=\u001b[0m \u001b[0mfig\u001b[0m\u001b[0;34m.\u001b[0m\u001b[0madd_subplot\u001b[0m\u001b[0;34m(\u001b[0m\u001b[0;36m111\u001b[0m\u001b[0;34m,\u001b[0m \u001b[0mprojection\u001b[0m\u001b[0;34m=\u001b[0m\u001b[0;34m'3d'\u001b[0m\u001b[0;34m)\u001b[0m\u001b[0;34m\u001b[0m\u001b[0;34m\u001b[0m\u001b[0m\n\u001b[0;32m--> 505\u001b[0;31m     \u001b[0;34m>>\u001b[0m\u001b[0;34m>\u001b[0m \u001b[0;32mwith\u001b[0m \u001b[0mnp\u001b[0m\u001b[0;34m.\u001b[0m\u001b[0merrstate\u001b[0m\u001b[0;34m(\u001b[0m\u001b[0mdivide\u001b[0m\u001b[0;34m=\u001b[0m\u001b[0;34m'ignore'\u001b[0m\u001b[0;34m)\u001b[0m\u001b[0;34m:\u001b[0m   \u001b[0;31m# silence random axes3d warning\u001b[0m\u001b[0;34m\u001b[0m\u001b[0;34m\u001b[0m\u001b[0m\n\u001b[0m\u001b[1;32m    506\u001b[0m     \u001b[0;34m...\u001b[0m     \u001b[0max\u001b[0m\u001b[0;34m.\u001b[0m\u001b[0mbar3d\u001b[0m\u001b[0;34m(\u001b[0m\u001b[0mx\u001b[0m\u001b[0;34m,\u001b[0m \u001b[0my\u001b[0m\u001b[0;34m,\u001b[0m \u001b[0mz\u001b[0m\u001b[0;34m,\u001b[0m \u001b[0mdx\u001b[0m\u001b[0;34m,\u001b[0m \u001b[0mdy\u001b[0m\u001b[0;34m,\u001b[0m \u001b[0mbincounts\u001b[0m\u001b[0;34m)\u001b[0m\u001b[0;34m\u001b[0m\u001b[0;34m\u001b[0m\u001b[0m\n\u001b[1;32m    507\u001b[0m \u001b[0;34m\u001b[0m\u001b[0m\n",
      "\u001b[0;32m~/anaconda3/envs/mirage/lib/python3.6/site-packages/numpy/core/_methods.py\u001b[0m in \u001b[0;36m_amin\u001b[0;34m(a, axis, out, keepdims, initial, where)\u001b[0m\n\u001b[1;32m     32\u001b[0m def _amin(a, axis=None, out=None, keepdims=False,\n\u001b[1;32m     33\u001b[0m           initial=_NoValue, where=True):\n\u001b[0;32m---> 34\u001b[0;31m     \u001b[0;32mreturn\u001b[0m \u001b[0mumr_minimum\u001b[0m\u001b[0;34m(\u001b[0m\u001b[0ma\u001b[0m\u001b[0;34m,\u001b[0m \u001b[0maxis\u001b[0m\u001b[0;34m,\u001b[0m \u001b[0;32mNone\u001b[0m\u001b[0;34m,\u001b[0m \u001b[0mout\u001b[0m\u001b[0;34m,\u001b[0m \u001b[0mkeepdims\u001b[0m\u001b[0;34m,\u001b[0m \u001b[0minitial\u001b[0m\u001b[0;34m,\u001b[0m \u001b[0mwhere\u001b[0m\u001b[0;34m)\u001b[0m\u001b[0;34m\u001b[0m\u001b[0;34m\u001b[0m\u001b[0m\n\u001b[0m\u001b[1;32m     35\u001b[0m \u001b[0;34m\u001b[0m\u001b[0m\n\u001b[1;32m     36\u001b[0m def _sum(a, axis=None, dtype=None, out=None, keepdims=False,\n",
      "\u001b[0;31mValueError\u001b[0m: zero-size array to reduction operation minimum which has no identity"
     ]
    },
    {
     "data": {
      "text/plain": [
       "<Figure size 720x360 with 0 Axes>"
      ]
     },
     "metadata": {},
     "output_type": "display_data"
    },
    {
     "data": {
      "text/plain": [
       "<Figure size 1080x360 with 0 Axes>"
      ]
     },
     "metadata": {},
     "output_type": "display_data"
    },
    {
     "data": {
      "text/plain": [
       "<Figure size 1080x360 with 0 Axes>"
      ]
     },
     "metadata": {},
     "output_type": "display_data"
    },
    {
     "data": {
      "text/plain": [
       "<Figure size 1080x360 with 0 Axes>"
      ]
     },
     "metadata": {},
     "output_type": "display_data"
    },
    {
     "data": {
      "text/plain": [
       "<Figure size 1080x360 with 0 Axes>"
      ]
     },
     "metadata": {},
     "output_type": "display_data"
    },
    {
     "data": {
      "text/plain": [
       "<Figure size 1080x360 with 0 Axes>"
      ]
     },
     "metadata": {},
     "output_type": "display_data"
    },
    {
     "data": {
      "text/plain": [
       "<Figure size 1080x360 with 0 Axes>"
      ]
     },
     "metadata": {},
     "output_type": "display_data"
    },
    {
     "data": {
      "text/plain": [
       "<Figure size 1080x360 with 0 Axes>"
      ]
     },
     "metadata": {},
     "output_type": "display_data"
    },
    {
     "data": {
      "text/plain": [
       "<Figure size 1080x360 with 0 Axes>"
      ]
     },
     "metadata": {},
     "output_type": "display_data"
    },
    {
     "data": {
      "text/plain": [
       "<Figure size 1080x360 with 0 Axes>"
      ]
     },
     "metadata": {},
     "output_type": "display_data"
    },
    {
     "data": {
      "text/plain": [
       "<Figure size 1080x360 with 0 Axes>"
      ]
     },
     "metadata": {},
     "output_type": "display_data"
    },
    {
     "data": {
      "text/plain": [
       "<Figure size 1080x360 with 0 Axes>"
      ]
     },
     "metadata": {},
     "output_type": "display_data"
    },
    {
     "data": {
      "text/plain": [
       "<Figure size 1080x360 with 0 Axes>"
      ]
     },
     "metadata": {},
     "output_type": "display_data"
    },
    {
     "data": {
      "text/plain": [
       "<Figure size 1080x360 with 0 Axes>"
      ]
     },
     "metadata": {},
     "output_type": "display_data"
    },
    {
     "data": {
      "text/plain": [
       "<Figure size 1080x360 with 0 Axes>"
      ]
     },
     "metadata": {},
     "output_type": "display_data"
    },
    {
     "data": {
      "text/plain": [
       "<Figure size 1080x360 with 0 Axes>"
      ]
     },
     "metadata": {},
     "output_type": "display_data"
    },
    {
     "data": {
      "text/plain": [
       "<Figure size 1080x360 with 0 Axes>"
      ]
     },
     "metadata": {},
     "output_type": "display_data"
    },
    {
     "data": {
      "text/plain": [
       "<Figure size 1080x360 with 0 Axes>"
      ]
     },
     "metadata": {},
     "output_type": "display_data"
    },
    {
     "data": {
      "text/plain": [
       "<Figure size 1080x360 with 0 Axes>"
      ]
     },
     "metadata": {},
     "output_type": "display_data"
    },
    {
     "data": {
      "text/plain": [
       "<Figure size 1080x360 with 0 Axes>"
      ]
     },
     "metadata": {},
     "output_type": "display_data"
    },
    {
     "data": {
      "text/plain": [
       "<Figure size 1080x360 with 0 Axes>"
      ]
     },
     "metadata": {},
     "output_type": "display_data"
    },
    {
     "data": {
      "text/plain": [
       "<Figure size 1080x360 with 0 Axes>"
      ]
     },
     "metadata": {},
     "output_type": "display_data"
    },
    {
     "data": {
      "text/plain": [
       "<Figure size 1080x360 with 0 Axes>"
      ]
     },
     "metadata": {},
     "output_type": "display_data"
    },
    {
     "data": {
      "text/plain": [
       "<Figure size 1080x360 with 0 Axes>"
      ]
     },
     "metadata": {},
     "output_type": "display_data"
    },
    {
     "data": {
      "text/plain": [
       "<Figure size 1080x360 with 0 Axes>"
      ]
     },
     "metadata": {},
     "output_type": "display_data"
    },
    {
     "data": {
      "image/png": "[encoded data removed]",
      "text/plain": [
       "<Figure size 1080x360 with 1 Axes>"
      ]
     },
     "metadata": {
      "needs_background": "light"
     },
     "output_type": "display_data"
    }
   ],
   "source": [
    "from astropy.io import fits\n",
    "with fits.open(\"/Users/npirzkal/Dropbox/mirage/JWSTSIMS-56/data/jw00042002001_01101_00005_nrca5_uncal_F356W_seed_image.fits\") as fin:\n",
    "    seq = fin[2].data\n",
    "    \n",
    "IDs = list(set(np.ravel(seq)))\n",
    "for ID in IDs:\n",
    "    ID = int(ID)\n",
    "    if ID==0.: continue\n",
    "    ok = cat[\"index\"]==ID\n",
    "    m = cat[\"nircam_f335m_magnitude\"][ok][0]\n",
    "    \n",
    "    if m<26:\n",
    "        print(ID,m)\n",
    "        extract_ID(ID,catalog,ratenames,opath=\"/tmp/extracted\")"
   ]
  },
  {
   "cell_type": "code",
   "execution_count": 399,
   "metadata": {},
   "outputs": [
    {
     "data": {
      "text/plain": [
       "'/Users/npirzkal/Dropbox/mirage/JWSTSIMS-56/catalogs/JWSTSIMS-56.cat'"
      ]
     },
     "execution_count": 399,
     "metadata": {},
     "output_type": "execute_result"
    }
   ],
   "source": [
    "catalog"
   ]
  },
  {
   "cell_type": "code",
   "execution_count": null,
   "metadata": {},
   "outputs": [],
   "source": []
  }
 ],
 "metadata": {
  "kernelspec": {
   "display_name": "Python 3",
   "language": "python",
   "name": "python3"
  },
  "language_info": {
   "codemirror_mode": {
    "name": "ipython",
    "version": 3
   },
   "file_extension": ".py",
   "mimetype": "text/x-python",
   "name": "python",
   "nbconvert_exporter": "python",
   "pygments_lexer": "ipython3",
   "version": "3.6.7"
  }
 },
 "nbformat": 4,
 "nbformat_minor": 2
}
